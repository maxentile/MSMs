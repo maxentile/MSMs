{
 "cells": [
  {
   "cell_type": "code",
   "execution_count": 2,
   "metadata": {
    "collapsed": true
   },
   "outputs": [],
   "source": [
    "from utils import load_dtrajs_from_npz"
   ]
  },
  {
   "cell_type": "code",
   "execution_count": 3,
   "metadata": {
    "collapsed": true
   },
   "outputs": [],
   "source": [
    "raw_dtrajs_abl = load_dtrajs_from_npz('dtrajs/abl_11400_2000_dtrajs.npz')\n",
    "raw_dtrajs_src = load_dtrajs_from_npz('dtrajs/src_11401_2000_dtrajs.npz')"
   ]
  },
  {
   "cell_type": "code",
   "execution_count": 4,
   "metadata": {
    "collapsed": true
   },
   "outputs": [],
   "source": [
    "def trim_dtrajs(dtrajs,length_to_discard=10,min_length=100):\n",
    "   ''' Ignore trajectories under a specified length, and discard\n",
    "   the initial frames of the remainder.\n",
    "\n",
    "   Parameters\n",
    "   ----------\n",
    "   dtrajs : list of arrays\n",
    "\n",
    "   length_to_discard : int, optional\n",
    "   min_length : int, optional\n",
    "\n",
    "   Returns\n",
    "   -------\n",
    "   trimmed : list of arrays\n",
    "   '''\n",
    "   trimmed = [traj[length_to_discard:] for traj in dtrajs if len(traj)>length_to_discard]\n",
    "   return trimmed"
   ]
  },
  {
   "cell_type": "code",
   "execution_count": 5,
   "metadata": {
    "collapsed": true
   },
   "outputs": [],
   "source": [
    "dtrajs_abl = trim_dtrajs(raw_dtrajs_abl)\n",
    "dtrajs_src = trim_dtrajs(raw_dtrajs_src)"
   ]
  },
  {
   "cell_type": "code",
   "execution_count": 6,
   "metadata": {
    "collapsed": false
   },
   "outputs": [],
   "source": [
    "import numpy as np\n",
    "import mdtraj as md\n",
    "from pyemma import msm\n",
    "import pyemma.plots as mplt\n",
    "import matplotlib.pyplot as plt\n",
    "import numpy.random as npr\n",
    "plt.rc('font',family='serif')\n",
    "%matplotlib inline"
   ]
  },
  {
   "cell_type": "code",
   "execution_count": 7,
   "metadata": {
    "collapsed": false,
    "scrolled": false
   },
   "outputs": [],
   "source": [
    "import msmbuilder\n",
    "import msmbuilder.msm\n",
    "lag_frames = 40\n",
    "ergodic_cutoff_in_frames=20\n",
    "ergodic_cutoff = 1.0*ergodic_cutoff_in_frames/lag_frames"
   ]
  },
  {
   "cell_type": "code",
   "execution_count": 8,
   "metadata": {
    "collapsed": false
   },
   "outputs": [
    {
     "name": "stdout",
     "output_type": "stream",
     "text": [
      "MSM contains 1430 strongly connected components above weight=0.50. Component 178 selected, with population 72.095405%\n",
      "Markov state model\n",
      "------------------\n",
      "Lag time         : 40\n",
      "Reversible type  : mle\n",
      "Ergodic cutoff   : 0.5\n",
      "Prior counts     : 0\n",
      "\n",
      "Number of states : 338\n",
      "Number of nonzero entries in counts matrix : 6216 (5.44098595988%)\n",
      "Nonzero counts matrix entries:\n",
      "    Min.   : 0.0\n",
      "    1st Qu.: 0.1\n",
      "    Median : 0.1\n",
      "    Mean   : 2.2\n",
      "    3rd Qu.: 0.5\n",
      "    Max.   : 1487.5\n",
      "\n",
      "Total transition counts :\n",
      "    13631.35 counts\n",
      "Total transition counts / lag_time:\n",
      "    340.78375 units\n",
      "Timescales:\n",
      "    [2169.54, 1907.65, 1858.34, 1800.73, 1659.07, 1590.01, 1542.29, 1477.60, 1345.10, 1332.19, 1191.67, 1156.80, 1068.17, 982.33, 933.27, 815.23, 752.10, 700.40, 695.71, 647.44, 637.63, 629.52, 600.83, 540.80, 534.18, 532.25, 529.38, 506.88, 501.71, 420.72, 402.92, 399.72, 398.36, 386.80, 382.91, 381.67, 379.46, 372.06, 366.12, 364.78, 362.00, 356.31, 339.54, 328.00, 324.58, 324.00, 315.33, 300.18, 295.68, 285.70, 283.77, 281.40, 281.15, 280.90, 261.60, 253.26, 243.99, 242.06, 240.78, 239.33, 235.62, 234.17, 234.04, 232.62, 232.23, 231.37, 229.36, 228.21, 227.69, 226.85, 224.04, 222.31, 219.16, 217.76, 212.58, 212.27, 210.84, 208.38, 198.47, 192.40, 188.25, 186.30, 185.98, 185.15, 182.81, 182.00, 179.09, 178.22, 175.44, 172.33, 171.00, 170.03, 169.37, 165.18, 163.35, 161.46, 160.89, 158.86, 157.09, 146.25, 145.97, 144.74, 138.99, 136.59, 134.08, 131.90, 131.40, 126.62, 125.51, 120.47, 120.22, 119.91, 119.75, 118.77, 118.33, 117.27, 116.99, 115.79, 111.92, 109.92, 107.13, 104.70, 102.26, 99.98, 98.72, 97.44, 96.32, 94.05, 93.78, 93.09, 90.66, 89.88, 89.09, 88.03, 87.63, 87.27, 85.93, 85.66, 85.27, 85.23, 83.36, 83.08, 82.51, 82.34, 81.43, 80.60, 80.45, 80.10, 78.47, 77.60, 76.67, 74.28, 73.38, 72.72, 72.26, 72.00, 70.47, 69.37, 68.11, 65.10, 64.88, 64.81, 64.71, 64.24, 63.31, 62.67, 62.08, 61.59, 61.22, 61.13, 59.40, 59.22, 59.01, 56.81, 56.05, 55.76, 55.26, 54.76, 53.67, 53.55, 52.98, 52.69, 52.42, 52.38, 52.23, 52.03, 51.82, 51.62, 51.56, 49.87, 49.26, 48.73, 48.23, 45.99, 44.63, 43.93, 43.45, 42.26, 41.73, 41.29, 40.96, 40.36, 39.58, 39.41, 39.14, 38.82, 38.60, 38.17, 37.56, 37.19, 36.76, 36.53, 36.29, 36.18, 35.94, 35.65, 35.40, 34.87, 34.65, 34.14, 33.71, 33.59, 32.87, 32.47, 32.14, 31.99, 31.90, 31.72, 31.69, 31.65, 31.54, 31.52, 30.76, 30.51, 30.24, 30.12, 29.97, 29.84, 29.36, 29.19, 28.75, 28.55, 28.42, 28.28, 28.17, 27.59, 27.38, 26.93, 26.85, 26.73, 26.70, 26.62, 26.29, 25.93, 25.48, 25.35, 25.32, 24.97, 24.90, 24.59, 24.55, 24.50, 24.03, 23.67, 23.40, 23.12, 23.05, 23.00, 22.76, 22.43, 22.16, 21.71, 21.26, 20.92, 20.60, 20.56, 20.38, 20.12, 19.98, 19.86, 19.78, 19.73, 19.69, 19.63, 19.26, 19.15, 19.11, 19.05, 18.81, 18.77, 18.70, 18.62, 18.52, 18.30, 18.00, 17.90, 17.81, 17.62, 17.59, 17.38, 17.07, 17.00, 16.88, 16.78, 16.26, 15.77, 15.46, 15.41, 15.14, 15.00, 14.91, 14.77, 13.92, 13.89, 13.81, 13.23, 12.62, 12.41, 11.87, 11.66, 10.61, 9.57, 9.35, 8.82, 8.61, nan, nan, nan, nan, nan, nan, nan, nan, nan, nan, nan, nan]  units\n",
      "\n"
     ]
    }
   ],
   "source": [
    "mb_msm_abl = msmbuilder.msm.MarkovStateModel(lag_time=lag_frames,ergodic_cutoff=ergodic_cutoff)\n",
    "mb_msm_abl.fit(dtrajs_abl)\n",
    "print(mb_msm_abl.summarize())"
   ]
  },
  {
   "cell_type": "code",
   "execution_count": 9,
   "metadata": {
    "collapsed": false
   },
   "outputs": [
    {
     "name": "stdout",
     "output_type": "stream",
     "text": [
      "MSM contains 1789 strongly connected components above weight=0.50. Component 49 selected, with population 23.611457%\n",
      "Markov state model\n",
      "------------------\n",
      "Lag time         : 40\n",
      "Reversible type  : mle\n",
      "Ergodic cutoff   : 0.5\n",
      "Prior counts     : 0\n",
      "\n",
      "Number of states : 52\n",
      "Number of nonzero entries in counts matrix : 1153 (42.6405325444%)\n",
      "Nonzero counts matrix entries:\n",
      "    Min.   : 0.0\n",
      "    1st Qu.: 0.1\n",
      "    Median : 0.2\n",
      "    Mean   : 0.9\n",
      "    3rd Qu.: 0.7\n",
      "    Max.   : 61.7\n",
      "\n",
      "Total transition counts :\n",
      "    991.9 counts\n",
      "Total transition counts / lag_time:\n",
      "    24.7975 units\n",
      "Timescales:\n",
      "    [2308.10, 1141.29, 346.74, 293.34, 258.27, 200.46, 168.38, 152.31, 97.69, 92.18, 55.69, 52.05, 47.25, 40.30, 36.65, 36.12, 34.67, 34.10, 33.49, 32.46, 31.89, 30.82, 29.98, 29.23, 28.68, 27.99, 27.18, 26.23, 25.63, 24.72, 24.21, 23.79, 23.23, 22.49, 22.08, 21.65, 21.46, 21.01, 20.38, 19.89, 19.03, 18.70, 16.98, 15.40, 15.14, 14.36, 12.20, nan, nan, nan, nan]  units\n",
      "\n"
     ]
    }
   ],
   "source": [
    "mb_msm_src = msmbuilder.msm.MarkovStateModel(lag_time=lag_frames,ergodic_cutoff=ergodic_cutoff)\n",
    "mb_msm_src.fit(dtrajs_src)\n",
    "print(mb_msm_src.summarize())"
   ]
  },
  {
   "cell_type": "code",
   "execution_count": 10,
   "metadata": {
    "collapsed": true
   },
   "outputs": [],
   "source": [
    "def plot_relative_free_energies(stationary_distribution,model_name,top_k=50):\n",
    "   ''' Use stationary distribution to compute the relative\n",
    "   free energies of the top-k most stable states.\n",
    "\n",
    "   Parameters\n",
    "   ----------\n",
    "   stationary_distribution : array-like\n",
    "      vector of probabilities\n",
    "   model_name : string\n",
    "   top_k : int\n",
    "   '''\n",
    "   f_i = -np.log(sorted(stationary_distribution))[::-1];\n",
    "   f_i -= f_i.min();\n",
    "   plt.figure()\n",
    "   plt.plot(f_i[:top_k], '.')\n",
    "   plt.ylabel(r'Relative free energy ($k_B T \\ln \\pi_i$)')\n",
    "   plt.xlabel('State index ($i$)')\n",
    "   plt.title(model_name)"
   ]
  },
  {
   "cell_type": "code",
   "execution_count": 11,
   "metadata": {
    "collapsed": false
   },
   "outputs": [
    {
     "data": {
      "text/plain": [
       "<matplotlib.text.Text at 0x102cedc10>"
      ]
     },
     "execution_count": 11,
     "metadata": {},
     "output_type": "execute_result"
    },
    {
     "data": {
      "image/png": "[encoded data removed]",
      "text/plain": [
       "<matplotlib.figure.Figure at 0x1104fe0d0>"
      ]
     },
     "metadata": {},
     "output_type": "display_data"
    },
    {
     "data": {
      "image/png": "[encoded data removed]",
      "text/plain": [
       "<matplotlib.figure.Figure at 0x102c8a710>"
      ]
     },
     "metadata": {},
     "output_type": "display_data"
    }
   ],
   "source": [
    "k=100\n",
    "convert_to_ns = lambda x:x/4.0\n",
    "\n",
    "def plot_its(msm,k):\n",
    "    plt.figure()\n",
    "    plt.plot(convert_to_ns(msm.timescales_[:k]),'.')\n",
    "    plt.xlabel('Eigenvalue index')\n",
    "    plt.ylabel('Implied timescale (ns)')\n",
    "\n",
    "\n",
    "plot_its(mb_msm_abl,k) # cut at 8\n",
    "plt.vlines(30,0,500)\n",
    "plt.title('abl')\n",
    "\n",
    "plot_its(mb_msm_src,k) # cut at 2?\n",
    "plt.vlines(2,0,500)\n",
    "plt.title('src')"
   ]
  },
  {
   "cell_type": "code",
   "execution_count": null,
   "metadata": {
    "collapsed": false
   },
   "outputs": [],
   "source": []
  },
  {
   "cell_type": "code",
   "execution_count": 12,
   "metadata": {
    "collapsed": false
   },
   "outputs": [
    {
     "name": "stderr",
     "output_type": "stream",
     "text": [
      "/Users/joshuafass/anaconda/envs/py27/lib/python2.7/site-packages/ipykernel/__main__.py:5: RuntimeWarning: invalid value encountered in greater\n"
     ]
    },
    {
     "data": {
      "text/plain": [
       "(31, 2)"
      ]
     },
     "execution_count": 12,
     "metadata": {},
     "output_type": "execute_result"
    }
   ],
   "source": [
    "# select number of macrostates by how many processes are slower than a threshold\n",
    "ns_threshold=100\n",
    "\n",
    "n_macro_abl=sum(convert_to_ns(mb_msm_abl.timescales_[:k])>ns_threshold)\n",
    "n_macro_src=sum(convert_to_ns(mb_msm_src.timescales_[:k])>ns_threshold)\n",
    "n_macro_abl,n_macro_src"
   ]
  },
  {
   "cell_type": "markdown",
   "metadata": {},
   "source": [
    "\"The free energy of metastable state $S_j$ is just $f_j = - ln \\sum_{i \\in S_j} \\pi_i$, where $\\pi_i$ is the microstate equilibrium probability\""
   ]
  },
  {
   "cell_type": "code",
   "execution_count": 13,
   "metadata": {
    "collapsed": false
   },
   "outputs": [
    {
     "name": "stdout",
     "output_type": "stream",
     "text": [
      "Warning: Maximum number of function evaluations has been exceeded.\n",
      "# macrostates more metastable than 6kB T: 20\n",
      "Optimization terminated successfully.\n",
      "         Current function value: -8.316601\n",
      "         Iterations: 8\n",
      "         Function evaluations: 663\n",
      "# macrostates more metastable than 6kB T: 9\n"
     ]
    },
    {
     "data": {
      "image/png": "[encoded data removed]",
      "text/plain": [
       "<matplotlib.figure.Figure at 0x106cbe850>"
      ]
     },
     "metadata": {},
     "output_type": "display_data"
    },
    {
     "data": {
      "image/png": "[encoded data removed]",
      "text/plain": [
       "<matplotlib.figure.Figure at 0x11a905590>"
      ]
     },
     "metadata": {},
     "output_type": "display_data"
    }
   ],
   "source": [
    "# compute coarse-graining by PCCA+\n",
    "from msmbuilder import lumping\n",
    "\n",
    "def coarse_grain_and_plot_energies(msm_obj,n_macro,title,kt_threshold=6):\n",
    "    pcca = lumping.PCCAPlus.from_msm(msm_obj, n_macrostates=n_macro)\n",
    "    n_micro=len(pcca.microstate_mapping_)\n",
    "\n",
    "    # each element of this array is a list of microstate indices corresponding to macrostate indices\n",
    "    microstates_per_macrostate = np.array([np.arange(n_micro)[pcca.microstate_mapping_==i] for i in range(n_macro)])\n",
    "\n",
    "    # compute and sort relative macrostate free energies\n",
    "    macrostate_free_energies = np.array([-np.log(np.sum([msm_obj.populations_[i] for i in microstates])) for microstates in microstates_per_macrostate])\n",
    "    macrostate_free_energies -= macrostate_free_energies.min()\n",
    "    macrostate_free_energies = np.array(sorted(macrostate_free_energies))\n",
    "\n",
    "    # plot, with a threshold of 6kT\n",
    "    plt.plot(macrostate_free_energies,'.')\n",
    "    plt.xlabel('Macrostate index')\n",
    "    plt.ylabel(r'Relative free energy ($k_B T \\ln \\pi_i$)')\n",
    "    plt.title(title)\n",
    "    plt.hlines(kt_threshold,0,n_macro,linestyles='--')\n",
    "\n",
    "    print('# macrostates more metastable than {0}kB T: {1}'.format(kt_threshold,\n",
    "                                                                   sum(macrostate_free_energies<kt_threshold)))\n",
    "    return pcca\n",
    "\n",
    "\n",
    "pcca_abl = coarse_grain_and_plot_energies(mb_msm_abl,n_macro_abl,'abl')\n",
    "plt.figure()\n",
    "pcca_src = coarse_grain_and_plot_energies(mb_msm_src,10,'src')"
   ]
  },
  {
   "cell_type": "code",
   "execution_count": 14,
   "metadata": {
    "collapsed": false
   },
   "outputs": [],
   "source": [
    "pcca = pcca_abl\n",
    "n_macro=31\n",
    "n_micro=338\n",
    "microstates_per_macrostate = np.array([np.arange(n_micro)[pcca.microstate_mapping_==i] for i in range(n_macro)])\n",
    "\n",
    "# compute and sort relative macrostate free energies\n",
    "macrostate_free_energies = np.array([-np.log(np.sum([mb_msm_abl.populations_[i] for i in microstates])) for microstates in microstates_per_macrostate])\n",
    "macrostate_free_energies -= macrostate_free_energies.min()"
   ]
  },
  {
   "cell_type": "code",
   "execution_count": 15,
   "metadata": {
    "collapsed": false
   },
   "outputs": [
    {
     "data": {
      "text/plain": [
       "array([30, 30, 30, 30, 30, 30, 30, 30, 30, 30, 30, 30, 30, 30, 30, 30, 30,\n",
       "       30, 30, 30, 16, 30, 30, 30, 30, 30, 30, 30, 30, 30, 30, 30, 30, 30,\n",
       "       30,  4, 30, 30, 16, 23, 30, 30, 30, 30, 30, 30, 30, 30, 30, 30, 20,\n",
       "       30, 30, 30, 23, 30, 30, 30, 30, 24, 30, 30, 30, 30, 30, 30, 30, 11,\n",
       "       30, 30, 18, 29, 30, 30, 30, 30, 30, 25, 30, 30, 30, 30, 30, 30, 30,\n",
       "       30, 30, 30, 24, 30, 30, 30, 30, 30, 30, 23, 30, 30, 30, 26, 17, 30,\n",
       "       13, 30, 10, 29, 30, 30, 30, 30, 30, 30, 30, 30, 30, 30,  6, 30, 30,\n",
       "       30, 30, 17, 28, 30, 30, 30, 30, 30, 30, 30, 11, 30, 30, 30, 30, 30,\n",
       "       30, 30, 30, 30, 17, 30, 17, 30, 30, 30, 30, 30, 30, 14, 30, 30, 30,\n",
       "       30, 30, 30, 14, 30, 30, 13,  1, 10, 30, 30, 30, 30, 30, 30, 30,  2,\n",
       "        8, 30, 16, 30, 30, 30, 30, 30, 30, 29, 30, 30, 30,  9, 30, 30, 16,\n",
       "       30, 30, 16, 30, 30, 17, 16, 30, 30, 30, 20, 30, 15, 30, 30, 30, 29,\n",
       "       30, 30, 30, 30,  1, 30, 30, 30, 30, 30, 30, 18, 30, 19, 30, 30, 30,\n",
       "       30, 22, 30, 30, 27, 16, 30, 30,  6, 30, 30, 29, 12,  0, 30, 30, 30,\n",
       "       30, 30, 30, 30, 23, 30, 30, 21, 14, 30, 30, 21, 26, 30, 30, 30, 29,\n",
       "       30, 30, 30, 30, 24, 30, 30, 30, 30, 30,  5, 30, 18,  6, 30, 30,  0,\n",
       "       30, 30, 30,  5, 30, 30,  1, 30, 30, 27,  2, 30, 23, 30, 26, 30, 30,\n",
       "       30, 10, 11, 30, 22, 29, 23, 30, 30, 28, 30,  3, 30, 30, 30, 30, 30,\n",
       "       23, 30, 30, 30, 30, 30, 18, 30, 30, 30, 16, 30,  2, 30, 30, 30, 30,\n",
       "       30, 30, 30, 30, 30, 30,  7, 30, 30, 18, 30, 30, 30,  8, 30])"
      ]
     },
     "execution_count": 15,
     "metadata": {},
     "output_type": "execute_result"
    }
   ],
   "source": [
    "pcca_abl.microstate_mapping_"
   ]
  },
  {
   "cell_type": "code",
   "execution_count": null,
   "metadata": {
    "collapsed": false
   },
   "outputs": [],
   "source": [
    "macrostate_free_energies"
   ]
  },
  {
   "cell_type": "code",
   "execution_count": null,
   "metadata": {
    "collapsed": true
   },
   "outputs": [],
   "source": []
  },
  {
   "cell_type": "code",
   "execution_count": null,
   "metadata": {
    "collapsed": false
   },
   "outputs": [],
   "source": [
    "macrostate_free_energies.max(),np.argmax(macrostate_free_energies)"
   ]
  },
  {
   "cell_type": "code",
   "execution_count": null,
   "metadata": {
    "collapsed": true
   },
   "outputs": [],
   "source": [
    "most_metastable_macrostate = np.argmax(macrostate_free_energies)\n",
    "microstate_indices_in_most_metastable_macrostate = microstates_per_macrostate[most_metastable_macrostate]"
   ]
  },
  {
   "cell_type": "code",
   "execution_count": null,
   "metadata": {
    "collapsed": false
   },
   "outputs": [],
   "source": [
    "microstate_indices_in_most_metastable_macrostate"
   ]
  },
  {
   "cell_type": "code",
   "execution_count": 16,
   "metadata": {
    "collapsed": false
   },
   "outputs": [
    {
     "data": {
      "text/plain": [
       "{0: 0,\n",
       " 1: 1,\n",
       " 2: 2,\n",
       " 3: 3,\n",
       " 5: 4,\n",
       " 6: 5,\n",
       " 7: 6,\n",
       " 9: 7,\n",
       " 10: 8,\n",
       " 11: 9,\n",
       " 14: 10,\n",
       " 18: 11,\n",
       " 19: 12,\n",
       " 23: 13,\n",
       " 27: 14,\n",
       " 29: 15,\n",
       " 33: 16,\n",
       " 34: 17,\n",
       " 39: 18,\n",
       " 40: 19,\n",
       " 43: 20,\n",
       " 46: 21,\n",
       " 51: 22,\n",
       " 52: 23,\n",
       " 55: 24,\n",
       " 60: 25,\n",
       " 67: 26,\n",
       " 78: 27,\n",
       " 86: 28,\n",
       " 109: 29,\n",
       " 110: 30,\n",
       " 119: 31,\n",
       " 122: 32,\n",
       " 131: 33,\n",
       " 136: 34,\n",
       " 138: 35,\n",
       " 139: 36,\n",
       " 140: 37,\n",
       " 146: 38,\n",
       " 152: 39,\n",
       " 168: 40,\n",
       " 177: 41,\n",
       " 198: 42,\n",
       " 201: 43,\n",
       " 208: 44,\n",
       " 216: 45,\n",
       " 224: 46,\n",
       " 230: 47,\n",
       " 240: 48,\n",
       " 244: 49,\n",
       " 246: 50,\n",
       " 248: 51,\n",
       " 273: 52,\n",
       " 285: 53,\n",
       " 304: 54,\n",
       " 313: 55,\n",
       " 316: 56,\n",
       " 317: 57,\n",
       " 319: 58,\n",
       " 338: 59,\n",
       " 353: 60,\n",
       " 370: 61,\n",
       " 374: 62,\n",
       " 378: 63,\n",
       " 401: 64,\n",
       " 403: 65,\n",
       " 411: 66,\n",
       " 412: 67,\n",
       " 425: 68,\n",
       " 426: 69,\n",
       " 434: 70,\n",
       " 437: 71,\n",
       " 439: 72,\n",
       " 445: 73,\n",
       " 450: 74,\n",
       " 468: 75,\n",
       " 469: 76,\n",
       " 481: 77,\n",
       " 483: 78,\n",
       " 484: 79,\n",
       " 485: 80,\n",
       " 492: 81,\n",
       " 503: 82,\n",
       " 505: 83,\n",
       " 506: 84,\n",
       " 507: 85,\n",
       " 525: 86,\n",
       " 526: 87,\n",
       " 527: 88,\n",
       " 531: 89,\n",
       " 535: 90,\n",
       " 548: 91,\n",
       " 556: 92,\n",
       " 568: 93,\n",
       " 570: 94,\n",
       " 575: 95,\n",
       " 577: 96,\n",
       " 595: 97,\n",
       " 637: 98,\n",
       " 653: 99,\n",
       " 677: 100,\n",
       " 678: 101,\n",
       " 694: 102,\n",
       " 699: 103,\n",
       " 700: 104,\n",
       " 704: 105,\n",
       " 723: 106,\n",
       " 730: 107,\n",
       " 747: 108,\n",
       " 753: 109,\n",
       " 761: 110,\n",
       " 765: 111,\n",
       " 768: 112,\n",
       " 772: 113,\n",
       " 782: 114,\n",
       " 783: 115,\n",
       " 789: 116,\n",
       " 797: 117,\n",
       " 804: 118,\n",
       " 805: 119,\n",
       " 809: 120,\n",
       " 828: 121,\n",
       " 830: 122,\n",
       " 831: 123,\n",
       " 845: 124,\n",
       " 850: 125,\n",
       " 860: 126,\n",
       " 870: 127,\n",
       " 872: 128,\n",
       " 883: 129,\n",
       " 888: 130,\n",
       " 891: 131,\n",
       " 894: 132,\n",
       " 895: 133,\n",
       " 901: 134,\n",
       " 911: 135,\n",
       " 912: 136,\n",
       " 917: 137,\n",
       " 929: 138,\n",
       " 934: 139,\n",
       " 940: 140,\n",
       " 951: 141,\n",
       " 961: 142,\n",
       " 964: 143,\n",
       " 970: 144,\n",
       " 987: 145,\n",
       " 988: 146,\n",
       " 994: 147,\n",
       " 996: 148,\n",
       " 1000: 149,\n",
       " 1003: 150,\n",
       " 1012: 151,\n",
       " 1013: 152,\n",
       " 1021: 153,\n",
       " 1025: 154,\n",
       " 1026: 155,\n",
       " 1030: 156,\n",
       " 1032: 157,\n",
       " 1039: 158,\n",
       " 1047: 159,\n",
       " 1048: 160,\n",
       " 1068: 161,\n",
       " 1079: 162,\n",
       " 1084: 163,\n",
       " 1092: 164,\n",
       " 1095: 165,\n",
       " 1100: 166,\n",
       " 1107: 167,\n",
       " 1117: 168,\n",
       " 1128: 169,\n",
       " 1129: 170,\n",
       " 1155: 171,\n",
       " 1158: 172,\n",
       " 1162: 173,\n",
       " 1167: 174,\n",
       " 1169: 175,\n",
       " 1184: 176,\n",
       " 1188: 177,\n",
       " 1196: 178,\n",
       " 1203: 179,\n",
       " 1206: 180,\n",
       " 1207: 181,\n",
       " 1209: 182,\n",
       " 1211: 183,\n",
       " 1215: 184,\n",
       " 1218: 185,\n",
       " 1229: 186,\n",
       " 1235: 187,\n",
       " 1249: 188,\n",
       " 1250: 189,\n",
       " 1251: 190,\n",
       " 1263: 191,\n",
       " 1272: 192,\n",
       " 1276: 193,\n",
       " 1278: 194,\n",
       " 1279: 195,\n",
       " 1285: 196,\n",
       " 1289: 197,\n",
       " 1312: 198,\n",
       " 1320: 199,\n",
       " 1323: 200,\n",
       " 1328: 201,\n",
       " 1329: 202,\n",
       " 1331: 203,\n",
       " 1332: 204,\n",
       " 1349: 205,\n",
       " 1351: 206,\n",
       " 1355: 207,\n",
       " 1364: 208,\n",
       " 1365: 209,\n",
       " 1372: 210,\n",
       " 1375: 211,\n",
       " 1391: 212,\n",
       " 1392: 213,\n",
       " 1393: 214,\n",
       " 1396: 215,\n",
       " 1397: 216,\n",
       " 1405: 217,\n",
       " 1406: 218,\n",
       " 1418: 219,\n",
       " 1425: 220,\n",
       " 1426: 221,\n",
       " 1429: 222,\n",
       " 1433: 223,\n",
       " 1448: 224,\n",
       " 1451: 225,\n",
       " 1474: 226,\n",
       " 1476: 227,\n",
       " 1480: 228,\n",
       " 1487: 229,\n",
       " 1491: 230,\n",
       " 1493: 231,\n",
       " 1501: 232,\n",
       " 1502: 233,\n",
       " 1506: 234,\n",
       " 1518: 235,\n",
       " 1523: 236,\n",
       " 1526: 237,\n",
       " 1534: 238,\n",
       " 1536: 239,\n",
       " 1542: 240,\n",
       " 1543: 241,\n",
       " 1545: 242,\n",
       " 1548: 243,\n",
       " 1551: 244,\n",
       " 1555: 245,\n",
       " 1558: 246,\n",
       " 1561: 247,\n",
       " 1564: 248,\n",
       " 1569: 249,\n",
       " 1574: 250,\n",
       " 1575: 251,\n",
       " 1592: 252,\n",
       " 1603: 253,\n",
       " 1607: 254,\n",
       " 1609: 255,\n",
       " 1611: 256,\n",
       " 1617: 257,\n",
       " 1618: 258,\n",
       " 1623: 259,\n",
       " 1626: 260,\n",
       " 1629: 261,\n",
       " 1642: 262,\n",
       " 1650: 263,\n",
       " 1657: 264,\n",
       " 1658: 265,\n",
       " 1662: 266,\n",
       " 1669: 267,\n",
       " 1670: 268,\n",
       " 1673: 269,\n",
       " 1674: 270,\n",
       " 1685: 271,\n",
       " 1687: 272,\n",
       " 1688: 273,\n",
       " 1692: 274,\n",
       " 1694: 275,\n",
       " 1696: 276,\n",
       " 1704: 277,\n",
       " 1708: 278,\n",
       " 1709: 279,\n",
       " 1722: 280,\n",
       " 1725: 281,\n",
       " 1741: 282,\n",
       " 1749: 283,\n",
       " 1750: 284,\n",
       " 1753: 285,\n",
       " 1755: 286,\n",
       " 1767: 287,\n",
       " 1777: 288,\n",
       " 1778: 289,\n",
       " 1787: 290,\n",
       " 1792: 291,\n",
       " 1803: 292,\n",
       " 1805: 293,\n",
       " 1826: 294,\n",
       " 1830: 295,\n",
       " 1834: 296,\n",
       " 1838: 297,\n",
       " 1840: 298,\n",
       " 1846: 299,\n",
       " 1847: 300,\n",
       " 1848: 301,\n",
       " 1855: 302,\n",
       " 1856: 303,\n",
       " 1862: 304,\n",
       " 1892: 305,\n",
       " 1894: 306,\n",
       " 1895: 307,\n",
       " 1896: 308,\n",
       " 1898: 309,\n",
       " 1899: 310,\n",
       " 1906: 311,\n",
       " 1918: 312,\n",
       " 1919: 313,\n",
       " 1930: 314,\n",
       " 1932: 315,\n",
       " 1940: 316,\n",
       " 1944: 317,\n",
       " 1947: 318,\n",
       " 1948: 319,\n",
       " 1949: 320,\n",
       " 1951: 321,\n",
       " 1952: 322,\n",
       " 1953: 323,\n",
       " 1955: 324,\n",
       " 1961: 325,\n",
       " 1963: 326,\n",
       " 1965: 327,\n",
       " 1971: 328,\n",
       " 1973: 329,\n",
       " 1974: 330,\n",
       " 1978: 331,\n",
       " 1982: 332,\n",
       " 1985: 333,\n",
       " 1991: 334,\n",
       " 1993: 335,\n",
       " 1997: 336,\n",
       " 1999: 337}"
      ]
     },
     "execution_count": 16,
     "metadata": {},
     "output_type": "execute_result"
    }
   ],
   "source": [
    "mb_msm_abl.mapping_"
   ]
  },
  {
   "cell_type": "code",
   "execution_count": null,
   "metadata": {
    "collapsed": true
   },
   "outputs": [],
   "source": [
    "inv_map = {micro: cluster for cluster, micro in mb_msm_abl.mapping_.items()}"
   ]
  },
  {
   "cell_type": "code",
   "execution_count": null,
   "metadata": {
    "collapsed": false
   },
   "outputs": [],
   "source": [
    "cluster_ids_in_metastable_state = [inv_map[i] for i in microstate_indices_in_most_metastable_macrostate]\n",
    "cluster_ids_in_metastable_state"
   ]
  },
  {
   "cell_type": "code",
   "execution_count": 19,
   "metadata": {
    "collapsed": true
   },
   "outputs": [],
   "source": [
    "# create a length-2000 array and save it, mapping each cluster_id to \n",
    "# its metastable state\n",
    "\n",
    "macrostate_ids = np.zeros(2000)-1\n",
    "\n",
    "for i in range(len(macrostate_ids)):\n",
    "    cluster_id = i\n",
    "    if cluster_id in mb_msm_abl.mapping_:\n",
    "        microstate_id = mb_msm_abl.mapping_[cluster_id]\n",
    "        macrostate_id = pcca_abl.microstate_mapping_[microstate_id]\n",
    "        macrostate_ids[cluster_id] = macrostate_id\n",
    "        \n",
    "np.save('macrostate_ids_abl.npy',macrostate_ids)"
   ]
  },
  {
   "cell_type": "code",
   "execution_count": null,
   "metadata": {
    "collapsed": true
   },
   "outputs": [],
   "source": []
  },
  {
   "cell_type": "code",
   "execution_count": 20,
   "metadata": {
    "collapsed": true
   },
   "outputs": [],
   "source": [
    "macrostate_ids = np.zeros(2000)-1\n",
    "\n",
    "for i in range(len(macrostate_ids)):\n",
    "    cluster_id = i\n",
    "    if cluster_id in mb_msm_src.mapping_:\n",
    "        microstate_id = mb_msm_src.mapping_[cluster_id]\n",
    "        macrostate_id = pcca_src.microstate_mapping_[microstate_id]\n",
    "        macrostate_ids[cluster_id] = macrostate_id\n",
    "        \n",
    "np.save('macrostate_ids_src.npy',macrostate_ids)"
   ]
  },
  {
   "cell_type": "code",
   "execution_count": null,
   "metadata": {
    "collapsed": true
   },
   "outputs": [],
   "source": []
  },
  {
   "cell_type": "code",
   "execution_count": 18,
   "metadata": {
    "collapsed": false
   },
   "outputs": [
    {
     "data": {
      "text/plain": [
       "array([ 30.,  30.,  30., ...,   8.,  -1.,  30.])"
      ]
     },
     "execution_count": 18,
     "metadata": {},
     "output_type": "execute_result"
    }
   ],
   "source": [
    "macrostate_ids"
   ]
  },
  {
   "cell_type": "code",
   "execution_count": null,
   "metadata": {
    "collapsed": true
   },
   "outputs": [],
   "source": [
    "# map "
   ]
  },
  {
   "cell_type": "code",
   "execution_count": null,
   "metadata": {
    "collapsed": false
   },
   "outputs": [],
   "source": [
    "for i in cluster_ids_in_metastable_state:\n",
    "    print(1.0*np.sum(np.hstack(dtrajs_abl)==i)/len(np.hstack(dtrajs_abl)))"
   ]
  },
  {
   "cell_type": "code",
   "execution_count": null,
   "metadata": {
    "collapsed": true
   },
   "outputs": [],
   "source": []
  },
  {
   "cell_type": "code",
   "execution_count": null,
   "metadata": {
    "collapsed": true
   },
   "outputs": [],
   "source": [
    "# PCCA object instructs me to transform dtrajs into coarse-grained dtrajs and fit a new markov state model\n",
    "# to get coarse-grained transition matrix...\n",
    "def pcca_T(pcca_obj,dtrajs):\n",
    "    macrostate_dtrajs = []\n",
    "    for dtraj in dtrajs:\n",
    "        m_dtraj = np.zeros(len(dtraj),dtype=int)\n",
    "        for i in range(len(m_dtraj)):\n",
    "            m_dtraj[i] = pcca_obj.microstate_mapping_[pcca_obj.mapping_[dtraj[i]]]\n",
    "        macrostate_dtrajs.append(m_dtraj)\n",
    "    M = msmbuilder.msm.MarkovStateModel()\n",
    "    M.fit(macrostate_dtrajs)\n",
    "    T = M.transmat_\n",
    "    return T"
   ]
  },
  {
   "cell_type": "code",
   "execution_count": null,
   "metadata": {
    "collapsed": false,
    "scrolled": true
   },
   "outputs": [],
   "source": [
    "# but this yields errors, since some cluster IDs are not included due to ergodic trimming\n",
    "T = pcca_T(pcca_abl,dtrajs_abl)"
   ]
  },
  {
   "cell_type": "code",
   "execution_count": null,
   "metadata": {
    "collapsed": true
   },
   "outputs": [],
   "source": []
  }
 ],
 "metadata": {
  "kernelspec": {
   "display_name": "Python 2",
   "language": "python",
   "name": "python2"
  },
  "language_info": {
   "codemirror_mode": {
    "name": "ipython",
    "version": 2
   },
   "file_extension": ".py",
   "mimetype": "text/x-python",
   "name": "python",
   "nbconvert_exporter": "python",
   "pygments_lexer": "ipython2",
   "version": "2.7.11"
  }
 },
 "nbformat": 4,
 "nbformat_minor": 0
}
