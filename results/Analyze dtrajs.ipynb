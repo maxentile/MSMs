{
 "cells": [
  {
   "cell_type": "code",
   "execution_count": 1,
   "metadata": {
    "collapsed": true
   },
   "outputs": [],
   "source": [
    "from utils import load_dtrajs_from_npz"
   ]
  },
  {
   "cell_type": "code",
   "execution_count": 2,
   "metadata": {
    "collapsed": true
   },
   "outputs": [],
   "source": [
    "raw_dtrajs_abl = load_dtrajs_from_npz('dtrajs/abl_11400_2000_dtrajs.npz')\n",
    "raw_dtrajs_src = load_dtrajs_from_npz('dtrajs/src_11401_2000_dtrajs.npz')"
   ]
  },
  {
   "cell_type": "code",
   "execution_count": 3,
   "metadata": {
    "collapsed": true
   },
   "outputs": [],
   "source": [
    "def trim_dtrajs(dtrajs,length_to_discard=10,min_length=100):\n",
    "   ''' Ignore trajectories under a specified length, and discard\n",
    "   the initial frames of the remainder.\n",
    "\n",
    "   Parameters\n",
    "   ----------\n",
    "   dtrajs : list of arrays\n",
    "\n",
    "   length_to_discard : int, optional\n",
    "   min_length : int, optional\n",
    "\n",
    "   Returns\n",
    "   -------\n",
    "   trimmed : list of arrays\n",
    "   '''\n",
    "   trimmed = [traj[length_to_discard:] for traj in dtrajs if len(traj)>length_to_discard]\n",
    "   return trimmed"
   ]
  },
  {
   "cell_type": "code",
   "execution_count": 4,
   "metadata": {
    "collapsed": true
   },
   "outputs": [],
   "source": [
    "dtrajs_abl = trim_dtrajs(raw_dtrajs_abl)\n",
    "dtrajs_src = trim_dtrajs(raw_dtrajs_src)"
   ]
  },
  {
   "cell_type": "code",
   "execution_count": 5,
   "metadata": {
    "collapsed": true
   },
   "outputs": [],
   "source": [
    "import numpy as np\n",
    "import mdtraj as md\n",
    "import pyemma.msm as msm\n",
    "import pyemma.plots as mplt\n",
    "import matplotlib.pyplot as plt\n",
    "import numpy.random as npr\n",
    "plt.rc('font',family='serif')\n",
    "%matplotlib inline"
   ]
  },
  {
   "cell_type": "code",
   "execution_count": 67,
   "metadata": {
    "collapsed": false,
    "scrolled": false
   },
   "outputs": [],
   "source": [
    "import msmbuilder.msm\n",
    "lag_frames = 40\n",
    "ergodic_cutoff_in_frames=20\n",
    "ergodic_cutoff = 1.0*ergodic_cutoff_in_frames/lag_frames"
   ]
  },
  {
   "cell_type": "code",
   "execution_count": 68,
   "metadata": {
    "collapsed": false
   },
   "outputs": [
    {
     "name": "stdout",
     "output_type": "stream",
     "text": [
      "MSM contains 1430 strongly connected components above weight=0.50. Component 178 selected, with population 72.095405%\n",
      "Markov state model\n",
      "------------------\n",
      "Lag time         : 40\n",
      "Reversible type  : mle\n",
      "Ergodic cutoff   : 0.5\n",
      "Prior counts     : 0\n",
      "\n",
      "Number of states : 338\n",
      "Number of nonzero entries in counts matrix : 6216 (5.44098595988%)\n",
      "Nonzero counts matrix entries:\n",
      "    Min.   : 0.0\n",
      "    1st Qu.: 0.1\n",
      "    Median : 0.1\n",
      "    Mean   : 2.2\n",
      "    3rd Qu.: 0.5\n",
      "    Max.   : 1487.5\n",
      "\n",
      "Total transition counts :\n",
      "    13631.35 counts\n",
      "Total transition counts / lag_time:\n",
      "    340.78375 units\n",
      "Timescales:\n",
      "    [2169.54, 1907.65, 1858.34, 1800.73, 1659.07, 1590.01, 1542.29, 1477.60, 1345.10, 1332.19, 1191.67, 1156.80, 1068.17, 982.33, 933.27, 815.23, 752.10, 700.40, 695.71, 647.44, 637.63, 629.52, 600.83, 540.80, 534.18, 532.25, 529.38, 506.88, 501.71, 420.72, 402.92, 399.72, 398.36, 386.80, 382.91, 381.67, 379.46, 372.06, 366.12, 364.78, 362.00, 356.31, 339.54, 328.00, 324.58, 324.00, 315.33, 300.18, 295.68, 285.70, 283.77, 281.40, 281.15, 280.90, 261.60, 253.26, 243.99, 242.06, 240.78, 239.33, 235.62, 234.17, 234.04, 232.62, 232.23, 231.37, 229.36, 228.21, 227.69, 226.85, 224.04, 222.31, 219.16, 217.76, 212.58, 212.27, 210.84, 208.38, 198.47, 192.40, 188.25, 186.30, 185.98, 185.15, 182.81, 182.00, 179.09, 178.22, 175.44, 172.33, 171.00, 170.03, 169.37, 165.18, 163.35, 161.46, 160.89, 158.86, 157.09, 146.25, 145.97, 144.74, 138.99, 136.59, 134.08, 131.90, 131.40, 126.62, 125.51, 120.47, 120.22, 119.91, 119.75, 118.77, 118.33, 117.27, 116.99, 115.79, 111.92, 109.92, 107.13, 104.70, 102.26, 99.98, 98.72, 97.44, 96.32, 94.05, 93.78, 93.09, 90.66, 89.88, 89.09, 88.03, 87.63, 87.27, 85.93, 85.66, 85.27, 85.23, 83.36, 83.08, 82.51, 82.34, 81.43, 80.60, 80.45, 80.10, 78.47, 77.60, 76.67, 74.28, 73.38, 72.72, 72.26, 72.00, 70.47, 69.37, 68.11, 65.10, 64.88, 64.81, 64.71, 64.24, 63.31, 62.67, 62.08, 61.59, 61.22, 61.13, 59.40, 59.22, 59.01, 56.81, 56.05, 55.76, 55.26, 54.76, 53.67, 53.55, 52.98, 52.69, 52.42, 52.38, 52.23, 52.03, 51.82, 51.62, 51.56, 49.87, 49.26, 48.73, 48.23, 45.99, 44.63, 43.93, 43.45, 42.26, 41.73, 41.29, 40.96, 40.36, 39.58, 39.41, 39.14, 38.82, 38.60, 38.17, 37.56, 37.19, 36.76, 36.53, 36.29, 36.18, 35.94, 35.65, 35.40, 34.87, 34.65, 34.14, 33.71, 33.59, 32.87, 32.47, 32.14, 31.99, 31.90, 31.72, 31.69, 31.65, 31.54, 31.52, 30.76, 30.51, 30.24, 30.12, 29.97, 29.84, 29.36, 29.19, 28.75, 28.55, 28.42, 28.28, 28.17, 27.59, 27.38, 26.93, 26.85, 26.73, 26.70, 26.62, 26.29, 25.93, 25.48, 25.35, 25.32, 24.97, 24.90, 24.59, 24.55, 24.50, 24.03, 23.67, 23.40, 23.12, 23.05, 23.00, 22.76, 22.43, 22.16, 21.71, 21.26, 20.92, 20.60, 20.56, 20.38, 20.12, 19.98, 19.86, 19.78, 19.73, 19.69, 19.63, 19.26, 19.15, 19.11, 19.05, 18.81, 18.77, 18.70, 18.62, 18.52, 18.30, 18.00, 17.90, 17.81, 17.62, 17.59, 17.38, 17.07, 17.00, 16.88, 16.78, 16.26, 15.77, 15.46, 15.41, 15.14, 15.00, 14.91, 14.77, 13.92, 13.89, 13.81, 13.23, 12.62, 12.41, 11.87, 11.66, 10.61, 9.57, 9.35, 8.82, 8.61, nan, nan, nan, nan, nan, nan, nan, nan, nan, nan, nan, nan]  units\n",
      "\n"
     ]
    }
   ],
   "source": [
    "mb_msm_abl = msmbuilder.msm.MarkovStateModel(lag_time=lag_frames,ergodic_cutoff=ergodic_cutoff)\n",
    "mb_msm_abl.fit(dtrajs_abl)\n",
    "print(mb_msm_abl.summarize())"
   ]
  },
  {
   "cell_type": "code",
   "execution_count": 69,
   "metadata": {
    "collapsed": false
   },
   "outputs": [
    {
     "name": "stdout",
     "output_type": "stream",
     "text": [
      "MSM contains 1789 strongly connected components above weight=0.50. Component 49 selected, with population 23.611457%\n",
      "Markov state model\n",
      "------------------\n",
      "Lag time         : 40\n",
      "Reversible type  : mle\n",
      "Ergodic cutoff   : 0.5\n",
      "Prior counts     : 0\n",
      "\n",
      "Number of states : 52\n",
      "Number of nonzero entries in counts matrix : 1153 (42.6405325444%)\n",
      "Nonzero counts matrix entries:\n",
      "    Min.   : 0.0\n",
      "    1st Qu.: 0.1\n",
      "    Median : 0.2\n",
      "    Mean   : 0.9\n",
      "    3rd Qu.: 0.7\n",
      "    Max.   : 61.7\n",
      "\n",
      "Total transition counts :\n",
      "    991.9 counts\n",
      "Total transition counts / lag_time:\n",
      "    24.7975 units\n",
      "Timescales:\n",
      "    [2308.10, 1141.29, 346.74, 293.34, 258.27, 200.46, 168.38, 152.31, 97.69, 92.18, 55.69, 52.05, 47.25, 40.30, 36.65, 36.12, 34.67, 34.10, 33.49, 32.46, 31.89, 30.82, 29.98, 29.23, 28.68, 27.99, 27.18, 26.23, 25.63, 24.72, 24.21, 23.79, 23.23, 22.49, 22.08, 21.65, 21.46, 21.01, 20.38, 19.89, 19.03, 18.70, 16.98, 15.40, 15.14, 14.36, 12.20, nan, nan, nan, nan]  units\n",
      "\n"
     ]
    }
   ],
   "source": [
    "mb_msm_src = msmbuilder.msm.MarkovStateModel(lag_time=lag_frames,ergodic_cutoff=ergodic_cutoff)\n",
    "mb_msm_src.fit(dtrajs_src)\n",
    "print(mb_msm_src.summarize())"
   ]
  },
  {
   "cell_type": "code",
   "execution_count": 72,
   "metadata": {
    "collapsed": true
   },
   "outputs": [],
   "source": [
    "def plot_relative_free_energies(stationary_distribution,model_name,top_k=50):\n",
    "   ''' Use stationary distribution to compute the relative\n",
    "   free energies of the top-k most stable states.\n",
    "\n",
    "   Parameters\n",
    "   ----------\n",
    "   stationary_distribution : array-like\n",
    "      vector of probabilities\n",
    "   model_name : string\n",
    "   top_k : int\n",
    "   '''\n",
    "   f_i = -np.log(sorted(stationary_distribution))[::-1];\n",
    "   f_i -= f_i.min();\n",
    "   plt.figure()\n",
    "   plt.plot(f_i[:top_k], '.')\n",
    "   plt.ylabel(r'Relative free energy ($k_B T \\ln \\pi_i$)')\n",
    "   plt.xlabel('State index ($i$)')\n",
    "   plt.title(model_name)"
   ]
  },
  {
   "cell_type": "code",
   "execution_count": 168,
   "metadata": {
    "collapsed": false
   },
   "outputs": [
    {
     "data": {
      "text/plain": [
       "<matplotlib.text.Text at 0x113084c50>"
      ]
     },
     "execution_count": 168,
     "metadata": {},
     "output_type": "execute_result"
    },
    {
     "data": {
      "image/png": "[encoded data removed]",
      "text/plain": [
       "<matplotlib.figure.Figure at 0x124208550>"
      ]
     },
     "metadata": {},
     "output_type": "display_data"
    },
    {
     "data": {
      "image/png": "[encoded data removed]",
      "text/plain": [
       "<matplotlib.figure.Figure at 0x113039710>"
      ]
     },
     "metadata": {},
     "output_type": "display_data"
    }
   ],
   "source": [
    "k=100\n",
    "convert_to_ns = lambda x:x/4.0\n",
    "\n",
    "def plot_its(msm,k):\n",
    "    plt.figure()\n",
    "    plt.plot(convert_to_ns(msm.timescales_[:k]),'.')\n",
    "    plt.xlabel('Eigenvalue index')\n",
    "    plt.ylabel('Implied timescale (ns)')\n",
    "\n",
    "\n",
    "plot_its(mb_msm_abl,k) # cut at 8\n",
    "plt.vlines(30,0,500)\n",
    "plt.title('abl')\n",
    "\n",
    "plot_its(mb_msm_src,k) # cut at 2?\n",
    "plt.vlines(2,0,500)\n",
    "plt.title('src')"
   ]
  },
  {
   "cell_type": "code",
   "execution_count": 197,
   "metadata": {
    "collapsed": false
   },
   "outputs": [
    {
     "data": {
      "text/plain": [
       "31"
      ]
     },
     "execution_count": 197,
     "metadata": {},
     "output_type": "execute_result"
    }
   ],
   "source": []
  },
  {
   "cell_type": "code",
   "execution_count": 198,
   "metadata": {
    "collapsed": false
   },
   "outputs": [
    {
     "name": "stderr",
     "output_type": "stream",
     "text": [
      "/Users/joshuafass/anaconda/envs/py27/lib/python2.7/site-packages/ipykernel/__main__.py:5: RuntimeWarning: invalid value encountered in greater\n"
     ]
    },
    {
     "data": {
      "text/plain": [
       "(31, 2)"
      ]
     },
     "execution_count": 198,
     "metadata": {},
     "output_type": "execute_result"
    }
   ],
   "source": [
    "# select number of macrostates by how many processes are slower than a threshold\n",
    "ns_threshold=100\n",
    "\n",
    "n_macro_abl=sum(convert_to_ns(mb_msm_abl.timescales_[:k])>ns_threshold)\n",
    "n_macro_src=sum(convert_to_ns(mb_msm_src.timescales_[:k])>ns_threshold)\n",
    "n_macro_abl,n_macro_src"
   ]
  },
  {
   "cell_type": "markdown",
   "metadata": {},
   "source": [
    "\"The free energy of metastable state $S_j$ is just $f_j = - ln \\sum_{i \\in S_j} \\pi_i$, where $\\pi_i$ is the microstate equilibrium probability\""
   ]
  },
  {
   "cell_type": "code",
   "execution_count": 200,
   "metadata": {
    "collapsed": false
   },
   "outputs": [
    {
     "name": "stdout",
     "output_type": "stream",
     "text": [
      "Warning: Maximum number of function evaluations has been exceeded.\n",
      "# macrostates more metastable than 6kB T: 20\n",
      "Optimization terminated successfully.\n",
      "         Current function value: -1.972333\n",
      "         Iterations: 8\n",
      "         Function evaluations: 23\n",
      "# macrostates more metastable than 6kB T: 2\n"
     ]
    },
    {
     "data": {
      "text/plain": [
       "PCCAPlus(do_minimization=True, n_macrostates=2,\n",
       "     objective_function='crisp_metastability')"
      ]
     },
     "execution_count": 200,
     "metadata": {},
     "output_type": "execute_result"
    },
    {
     "data": {
      "image/png": "[encoded data removed]",
      "text/plain": [
       "<matplotlib.figure.Figure at 0x11392f990>"
      ]
     },
     "metadata": {},
     "output_type": "display_data"
    },
    {
     "data": {
      "image/png": "[encoded data removed]",
      "text/plain": [
       "<matplotlib.figure.Figure at 0x11398cb90>"
      ]
     },
     "metadata": {},
     "output_type": "display_data"
    }
   ],
   "source": [
    "# compute coarse-graining by PCCA+\n",
    "from msmbuilder import lumping\n",
    "\n",
    "def coarse_grain_and_plot_energies(msm_obj,n_macro,title,kt_threshold=6):\n",
    "    pcca = lumping.PCCAPlus.from_msm(msm_obj, n_macrostates=n_macro)\n",
    "    n_micro=len(pcca.microstate_mapping_)\n",
    "\n",
    "    # each element of this array is a list of microstate indices corresponding to macrostate indices\n",
    "    microstates_per_macrostate = np.array([np.arange(n_micro)[pcca.microstate_mapping_==i] for i in range(n_macro)])\n",
    "\n",
    "    # compute and sort relative macrostate free energies\n",
    "    macrostate_free_energies = np.array([-np.log(np.sum([msm_obj.populations_[i] for i in microstates])) for microstates in microstates_per_macrostate])\n",
    "    macrostate_free_energies -= macrostate_free_energies.min()\n",
    "    macrostate_free_energies = np.array(sorted(macrostate_free_energies))\n",
    "\n",
    "    # plot, with a threshold of 6kT\n",
    "    plt.plot(macrostate_free_energies,'.')\n",
    "    plt.xlabel('Macrostate index')\n",
    "    plt.ylabel(r'Relative free energy ($k_B T \\ln \\pi_i$)')\n",
    "    plt.title(title)\n",
    "    plt.hlines(kt_threshold,0,n_macro,linestyles='--')\n",
    "\n",
    "    print('# macrostates more metastable than {0}kB T: {1}'.format(kt_threshold,\n",
    "                                                                   sum(macrostate_free_energies<kt_threshold)))\n",
    "    return pcca\n",
    "\n",
    "\n",
    "coarse_grain_and_plot_energies(mb_msm_abl,n_macro_abl,'abl')\n",
    "plt.figure()\n",
    "coarse_grain_and_plot_energies(mb_msm_src,n_macro_src,'src')"
   ]
  },
  {
   "cell_type": "code",
   "execution_count": 101,
   "metadata": {
    "collapsed": true
   },
   "outputs": [],
   "source": [
    "# PCCA object instructs me to transform dtrajs into coarse-grained dtrajs and fit a new markov state model\n",
    "# to get coarse-grained transition matrix...\n",
    "def pcca_T(pcca_obj,dtrajs):\n",
    "    macrostate_dtrajs = []\n",
    "    for dtraj in dtrajs:\n",
    "        m_dtraj = np.zeros(len(dtraj),dtype=int)\n",
    "        for i in range(len(m_dtraj)):\n",
    "            m_dtraj[i] = pcca_obj.microstate_mapping_[pcca_obj.mapping_[dtraj[i]]]\n",
    "        macrostate_dtrajs.append(m_dtraj)\n",
    "    M = msmbuilder.msm.MarkovStateModel()\n",
    "    M.fit(macrostate_dtrajs)\n",
    "    T = M.transmat_\n",
    "    return T"
   ]
  },
  {
   "cell_type": "code",
   "execution_count": 107,
   "metadata": {
    "collapsed": false,
    "scrolled": true
   },
   "outputs": [
    {
     "ename": "KeyError",
     "evalue": "1798",
     "output_type": "error",
     "traceback": [
      "\u001b[0;31m---------------------------------------------------------------------------\u001b[0m",
      "\u001b[0;31mKeyError\u001b[0m                                  Traceback (most recent call last)",
      "\u001b[0;32m<ipython-input-107-6aad62ab6e72>\u001b[0m in \u001b[0;36m<module>\u001b[0;34m()\u001b[0m\n\u001b[0;32m----> 1\u001b[0;31m \u001b[0mT\u001b[0m \u001b[0;34m=\u001b[0m \u001b[0mpcca_T\u001b[0m\u001b[0;34m(\u001b[0m\u001b[0mpcca_abl\u001b[0m\u001b[0;34m,\u001b[0m\u001b[0mdtrajs_abl\u001b[0m\u001b[0;34m)\u001b[0m\u001b[0;34m\u001b[0m\u001b[0m\n\u001b[0m",
      "\u001b[0;32m<ipython-input-101-42c601591afe>\u001b[0m in \u001b[0;36mpcca_T\u001b[0;34m(pcca_obj, dtrajs)\u001b[0m\n\u001b[1;32m      4\u001b[0m         \u001b[0mm_dtraj\u001b[0m \u001b[0;34m=\u001b[0m \u001b[0mnp\u001b[0m\u001b[0;34m.\u001b[0m\u001b[0mzeros\u001b[0m\u001b[0;34m(\u001b[0m\u001b[0mlen\u001b[0m\u001b[0;34m(\u001b[0m\u001b[0mdtraj\u001b[0m\u001b[0;34m)\u001b[0m\u001b[0;34m,\u001b[0m\u001b[0mdtype\u001b[0m\u001b[0;34m=\u001b[0m\u001b[0mint\u001b[0m\u001b[0;34m)\u001b[0m\u001b[0;34m\u001b[0m\u001b[0m\n\u001b[1;32m      5\u001b[0m         \u001b[0;32mfor\u001b[0m \u001b[0mi\u001b[0m \u001b[0;32min\u001b[0m \u001b[0mrange\u001b[0m\u001b[0;34m(\u001b[0m\u001b[0mlen\u001b[0m\u001b[0;34m(\u001b[0m\u001b[0mm_dtraj\u001b[0m\u001b[0;34m)\u001b[0m\u001b[0;34m)\u001b[0m\u001b[0;34m:\u001b[0m\u001b[0;34m\u001b[0m\u001b[0m\n\u001b[0;32m----> 6\u001b[0;31m             \u001b[0mm_dtraj\u001b[0m\u001b[0;34m[\u001b[0m\u001b[0mi\u001b[0m\u001b[0;34m]\u001b[0m \u001b[0;34m=\u001b[0m \u001b[0mpcca_obj\u001b[0m\u001b[0;34m.\u001b[0m\u001b[0mmicrostate_mapping_\u001b[0m\u001b[0;34m[\u001b[0m\u001b[0mpcca_obj\u001b[0m\u001b[0;34m.\u001b[0m\u001b[0mmapping_\u001b[0m\u001b[0;34m[\u001b[0m\u001b[0mdtraj\u001b[0m\u001b[0;34m[\u001b[0m\u001b[0mi\u001b[0m\u001b[0;34m]\u001b[0m\u001b[0;34m]\u001b[0m\u001b[0;34m]\u001b[0m\u001b[0;34m\u001b[0m\u001b[0m\n\u001b[0m\u001b[1;32m      7\u001b[0m         \u001b[0mmacrostate_dtrajs\u001b[0m\u001b[0;34m.\u001b[0m\u001b[0mappend\u001b[0m\u001b[0;34m(\u001b[0m\u001b[0mm_dtraj\u001b[0m\u001b[0;34m)\u001b[0m\u001b[0;34m\u001b[0m\u001b[0m\n\u001b[1;32m      8\u001b[0m     \u001b[0mM\u001b[0m \u001b[0;34m=\u001b[0m \u001b[0mmsmbuilder\u001b[0m\u001b[0;34m.\u001b[0m\u001b[0mmsm\u001b[0m\u001b[0;34m.\u001b[0m\u001b[0mMarkovStateModel\u001b[0m\u001b[0;34m(\u001b[0m\u001b[0;34m)\u001b[0m\u001b[0;34m\u001b[0m\u001b[0m\n",
      "\u001b[0;31mKeyError\u001b[0m: 1798"
     ]
    }
   ],
   "source": [
    "# but this yields errors, since some cluster IDs are not included due to ergodic trimming\n",
    "T = pcca_T(pcca_abl,dtrajs_abl)"
   ]
  },
  {
   "cell_type": "code",
   "execution_count": null,
   "metadata": {
    "collapsed": true
   },
   "outputs": [],
   "source": []
  }
 ],
 "metadata": {
  "kernelspec": {
   "display_name": "Python 2",
   "language": "python",
   "name": "python2"
  },
  "language_info": {
   "codemirror_mode": {
    "name": "ipython",
    "version": 2
   },
   "file_extension": ".py",
   "mimetype": "text/x-python",
   "name": "python",
   "nbconvert_exporter": "python",
   "pygments_lexer": "ipython2",
   "version": "2.7.11"
  }
 },
 "nbformat": 4,
 "nbformat_minor": 0
}
