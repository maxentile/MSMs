{
 "cells": [
  {
   "cell_type": "code",
   "execution_count": 1,
   "metadata": {
    "collapsed": true
   },
   "outputs": [],
   "source": [
    "import numpy as np\n",
    "import matplotlib.pyplot as plt\n",
    "import mdtraj as md\n",
    "plt.rc('font',family='serif')\n",
    "%matplotlib inline"
   ]
  },
  {
   "cell_type": "code",
   "execution_count": 2,
   "metadata": {
    "collapsed": false
   },
   "outputs": [
    {
     "name": "stdout",
     "output_type": "stream",
     "text": [
      "(253, 'abl_snapshot/run11-clone9.h5')\n"
     ]
    }
   ],
   "source": [
    "# get filenames of the trajectories\n",
    "from glob import glob\n",
    "fnames = glob('abl_snapshot/*.h5')\n",
    "print(len(fnames),fnames[0])"
   ]
  },
  {
   "cell_type": "code",
   "execution_count": 3,
   "metadata": {
    "collapsed": true
   },
   "outputs": [],
   "source": [
    "from msmbuilder.featurizer import DihedralFeaturizer\n",
    "\n",
    "# retrofitting the dihedral featurizer to keep track of which atoms correspond\n",
    "# to which elements of the feature vector, so that we can interpret these later\n",
    "class LabeledDihedralFeaturizer(DihedralFeaturizer):\n",
    "    def partial_transform(self,traj):\n",
    "        x = []\n",
    "        self.labels = []\n",
    "        self.atom_list = []\n",
    "        \n",
    "        for a in self.types:\n",
    "            func = getattr(md, 'compute_%s' % a)\n",
    "            atoms,y = func(traj)\n",
    "            self.labels.append(a)\n",
    "            if self.sincos:\n",
    "                self.atom_list.append(np.vstack([atoms]*2))\n",
    "                \n",
    "                x.extend([np.sin(y), np.cos(y)])\n",
    "            else:\n",
    "                self.atom_list.append(atoms)\n",
    "                \n",
    "                x.append(y)\n",
    "\n",
    "        self.atom_list = np.vstack(self.atom_list)\n",
    "        return np.hstack(x)\n",
    "    \n",
    "dih_model = LabeledDihedralFeaturizer(['phi', 'psi', 'omega', 'chi1', 'chi2', 'chi3', 'chi4'])"
   ]
  },
  {
   "cell_type": "code",
   "execution_count": 4,
   "metadata": {
    "collapsed": false
   },
   "outputs": [],
   "source": [
    "Xs = []\n",
    "ys = []\n",
    "\n",
    "for ind,fname in enumerate(fnames):\n",
    "    i = fname.find('run')\n",
    "    j = fname.find('-')\n",
    "    run = (int(fname[i+3:j]))\n",
    "    \n",
    "    try:\n",
    "        x = dih_model.fit_transform([md.load(fname)])[0]\n",
    "        Xs.append(x)\n",
    "        ys.append(np.ones(len(x))*run)\n",
    "    except:\n",
    "        pass"
   ]
  },
  {
   "cell_type": "code",
   "execution_count": 6,
   "metadata": {
    "collapsed": false
   },
   "outputs": [
    {
     "data": {
      "text/plain": [
       "(252, 253)"
      ]
     },
     "execution_count": 6,
     "metadata": {},
     "output_type": "execute_result"
    }
   ],
   "source": [
    "# one of the files is corrupt\n",
    "len(Xs),len(fnames)"
   ]
  },
  {
   "cell_type": "code",
   "execution_count": 7,
   "metadata": {
    "collapsed": false
   },
   "outputs": [
    {
     "data": {
      "text/plain": [
       "((604192, 2478), (604192,), 13)"
      ]
     },
     "execution_count": 7,
     "metadata": {},
     "output_type": "execute_result"
    }
   ],
   "source": [
    "X = np.vstack(Xs)\n",
    "y = np.hstack(ys)\n",
    "X.shape,y.shape,len(set(y))"
   ]
  },
  {
   "cell_type": "code",
   "execution_count": 8,
   "metadata": {
    "collapsed": true
   },
   "outputs": [],
   "source": [
    "np.save('dihedrals.npy',X)\n",
    "np.save('run_labels.npy',y)"
   ]
  },
  {
   "cell_type": "code",
   "execution_count": null,
   "metadata": {
    "collapsed": true
   },
   "outputs": [],
   "source": [
    "X = np.load('dihedrals.npy')\n",
    "y = np.load('run_labels.npy')"
   ]
  },
  {
   "cell_type": "code",
   "execution_count": 9,
   "metadata": {
    "collapsed": false
   },
   "outputs": [],
   "source": [
    "from sklearn.tree import DecisionTreeClassifier\n",
    "dt = DecisionTreeClassifier(criterion='entropy',max_depth=5)"
   ]
  },
  {
   "cell_type": "code",
   "execution_count": 27,
   "metadata": {
    "collapsed": false
   },
   "outputs": [
    {
     "data": {
      "text/plain": [
       "DecisionTreeClassifier(class_weight=None, criterion='entropy', max_depth=5,\n",
       "            max_features=None, max_leaf_nodes=None, min_samples_leaf=1,\n",
       "            min_samples_split=2, min_weight_fraction_leaf=0.0,\n",
       "            random_state=None, splitter='best')"
      ]
     },
     "execution_count": 27,
     "metadata": {},
     "output_type": "execute_result"
    }
   ],
   "source": [
    "dt.fit(X[::50],y[::50])"
   ]
  },
  {
   "cell_type": "code",
   "execution_count": 28,
   "metadata": {
    "collapsed": false
   },
   "outputs": [
    {
     "data": {
      "text/plain": [
       "0.9659942534823367"
      ]
     },
     "execution_count": 28,
     "metadata": {},
     "output_type": "execute_result"
    }
   ],
   "source": [
    "dt.score(X,y)"
   ]
  },
  {
   "cell_type": "code",
   "execution_count": 29,
   "metadata": {
    "collapsed": false
   },
   "outputs": [
    {
     "data": {
      "text/plain": [
       "array([ 0.,  0.,  0., ...,  0.,  0.,  0.])"
      ]
     },
     "execution_count": 29,
     "metadata": {},
     "output_type": "execute_result"
    }
   ],
   "source": [
    "dt.feature_importances_"
   ]
  },
  {
   "cell_type": "code",
   "execution_count": 30,
   "metadata": {
    "collapsed": false
   },
   "outputs": [
    {
     "data": {
      "text/plain": [
       "22"
      ]
     },
     "execution_count": 30,
     "metadata": {},
     "output_type": "execute_result"
    }
   ],
   "source": [
    "# how many features does this classifier look at?\n",
    "sum(dt.feature_importances_!=0)"
   ]
  },
  {
   "cell_type": "code",
   "execution_count": 31,
   "metadata": {
    "collapsed": false
   },
   "outputs": [
    {
     "data": {
      "text/plain": [
       "(0, 1)"
      ]
     },
     "execution_count": 31,
     "metadata": {},
     "output_type": "execute_result"
    },
    {
     "data": {
      "image/png": "[encoded data removed]",
      "text/plain": [
       "<matplotlib.figure.Figure at 0x7fed2b3d2550>"
      ]
     },
     "metadata": {},
     "output_type": "display_data"
    }
   ],
   "source": [
    "# how does the accuracy increase as we include more features\n",
    "plt.plot(np.cumsum(sorted(dt.feature_importances_[dt.feature_importances_!=0])[::-1])*dt.score(X,y))\n",
    "plt.hlines(dt.score(X,y),0,sum(dt.feature_importances_!=0),linestyles='--')\n",
    "plt.xlabel('# of dihedrals used')\n",
    "plt.ylabel('Fraction of RUN identities explained')\n",
    "plt.title('Discriminating Abl RUNs with decision trees')\n",
    "plt.ylim(0,1)"
   ]
  },
  {
   "cell_type": "code",
   "execution_count": 32,
   "metadata": {
    "collapsed": false
   },
   "outputs": [],
   "source": [
    "feature_importances = dt.feature_importances_[dt.feature_importances_!=0]"
   ]
  },
  {
   "cell_type": "code",
   "execution_count": 33,
   "metadata": {
    "collapsed": false
   },
   "outputs": [],
   "source": [
    "sorted_inds = np.array(sorted(np.arange(len(feature_importances)),key=lambda i:-feature_importances[i]))"
   ]
  },
  {
   "cell_type": "code",
   "execution_count": 34,
   "metadata": {
    "collapsed": false
   },
   "outputs": [
    {
     "data": {
      "text/plain": [
       "array([11,  1, 10, 20, 21,  0,  2, 13,  6, 16,  3, 15, 14, 17,  4,  9, 18,\n",
       "        7,  8, 12, 19,  5])"
      ]
     },
     "execution_count": 34,
     "metadata": {},
     "output_type": "execute_result"
    }
   ],
   "source": [
    "sorted_inds"
   ]
  },
  {
   "cell_type": "code",
   "execution_count": 35,
   "metadata": {
    "collapsed": true
   },
   "outputs": [],
   "source": [
    "y_pred = dt.predict(X)"
   ]
  },
  {
   "cell_type": "code",
   "execution_count": 36,
   "metadata": {
    "collapsed": false
   },
   "outputs": [
    {
     "data": {
      "text/plain": [
       "(13, 13)"
      ]
     },
     "execution_count": 36,
     "metadata": {},
     "output_type": "execute_result"
    }
   ],
   "source": [
    "# which runs have at least one frame incorrectly discriminated\n",
    "len(set(y[y_pred!=y])),len(set(y))\n",
    "# all of them"
   ]
  },
  {
   "cell_type": "code",
   "execution_count": 37,
   "metadata": {
    "collapsed": false
   },
   "outputs": [],
   "source": [
    "# which quadruplets of atoms do the features correspond to?\n",
    "_ = dih_model.fit_transform(md.load_frame(fnames[0],0))\n",
    "atom_list = dih_model.atom_list"
   ]
  },
  {
   "cell_type": "code",
   "execution_count": 38,
   "metadata": {
    "collapsed": false
   },
   "outputs": [
    {
     "data": {
      "text/plain": [
       "array([[2302, 2304, 2319, 2321],\n",
       "       [1966, 1968, 1970, 1990],\n",
       "       [1088, 1089, 1100, 1102],\n",
       "       [2689, 2691, 2694, 2697],\n",
       "       [3891, 3894, 3897, 3899],\n",
       "       [ 553,  555,  557,  565],\n",
       "       [2147, 2149, 2151, 2161],\n",
       "       [2332, 2334, 2354, 2356],\n",
       "       [ 334,  336,  354,  356],\n",
       "       [1089, 1100, 1102, 1103],\n",
       "       [2330, 2332, 2334, 2354],\n",
       "       [1051, 1071, 1073, 1075],\n",
       "       [2413, 2415, 2423, 2425],\n",
       "       [2687, 2689, 2691, 2694],\n",
       "       [ 540,  542,  553,  555],\n",
       "       [ 735,  737,  743,  745],\n",
       "       [3093, 3095, 3097, 3099],\n",
       "       [ 518,  520,  538,  540],\n",
       "       [ 598,  600,  611,  613],\n",
       "       [2321, 2323, 2330, 2332],\n",
       "       [2830, 2832, 2834, 2836],\n",
       "       [  91,   93,  111,  113]])"
      ]
     },
     "execution_count": 38,
     "metadata": {},
     "output_type": "execute_result"
    }
   ],
   "source": [
    "atom_list[dt.feature_importances_!=0][sorted_inds]"
   ]
  },
  {
   "cell_type": "code",
   "execution_count": 39,
   "metadata": {
    "collapsed": true
   },
   "outputs": [],
   "source": [
    "# convert from atom index to residue number\n",
    "traj = md.load_frame(fnames[0],0)\n",
    "top = traj.topology"
   ]
  },
  {
   "cell_type": "code",
   "execution_count": 40,
   "metadata": {
    "collapsed": false
   },
   "outputs": [
    {
     "name": "stdout",
     "output_type": "stream",
     "text": [
      "0.236656, LEU384-N,LEU384-CA,LEU384-C,SER385-N\n",
      "0.136581, HIS361-C,ARG362-N,ARG362-CA,ARG362-C\n",
      "0.102914, PRO309-N,PRO309-CA,PRO309-C,PRO310-N\n",
      "0.101925, GLU409-CA,GLU409-CB,GLU409-CG,GLU409-CD\n",
      "0.097191, ARG483-CG,ARG483-CD,ARG483-NE,ARG483-CZ\n",
      "0.066816, GLU275-C,ASP276-N,ASP276-CA,ASP276-C\n",
      "0.051367, GLU373-C,ASN374-N,ASN374-CA,ASN374-C\n",
      "0.048188, ARG386-N,ARG386-CA,ARG386-C,LEU387-N\n",
      "0.038611, LYS263-N,LYS263-CA,LYS263-C,TYR264-N\n",
      "0.032592, PRO309-CA,PRO309-C,PRO310-N,PRO310-CA\n",
      "0.027193, SER385-C,ARG386-N,ARG386-CA,ARG386-C\n",
      "0.015714, ARG307-CA,ARG307-C,GLU308-N,GLU308-CA\n",
      "0.009531, ASP391-N,ASP391-CA,ASP391-C,THR392-N\n",
      "0.008629, GLU409-N,GLU409-CA,GLU409-CB,GLU409-CG\n",
      "0.007044, GLU275-N,GLU275-CA,GLU275-C,ASP276-N\n",
      "0.005719, ALA287-N,ALA287-CA,ALA287-C,ALA288-N\n",
      "0.005368, THR434-N,THR434-CA,THR434-CB,THR434-OG1\n",
      "0.003355, LYS274-N,LYS274-CA,LYS274-C,GLU275-N\n",
      "0.002539, GLU279-N,GLU279-CA,GLU279-C,VAL280-N\n",
      "0.001323, SER385-N,SER385-CA,SER385-C,ARG386-N\n",
      "0.000464, ILE418-N,ILE418-CA,ILE418-CB,ILE418-CG1\n",
      "0.000281, LYS247-N,LYS247-CA,LYS247-C,LEU248-N\n"
     ]
    }
   ],
   "source": [
    "# print out the dihedrals using the residue names\n",
    "important_dihedrals = atom_list[dt.feature_importances_!=0][sorted_inds]\n",
    "\n",
    "def dihedral_to_string(quadruplet,top):\n",
    "    ''' quadruplet is a length-4 list of atom indices'''\n",
    "    return (','.join([str(top.atom(a)) for a in quadruplet]))\n",
    "    \n",
    "for i in range(len(important_dihedrals)):\n",
    "    #print(dt.feature_importances_[sorted_inds[i]])\n",
    "    importance = dt.feature_importances_[dt.feature_importances_!=0][sorted_inds][i]\n",
    "    print('{0:3f}, {1}'.format(importance,dihedral_to_string(important_dihedrals[i],top)))#,important_dihedrals[i])"
   ]
  },
  {
   "cell_type": "code",
   "execution_count": 41,
   "metadata": {
    "collapsed": false
   },
   "outputs": [
    {
     "data": {
      "text/plain": [
       "((108621, 2478), (77291, 2478))"
      ]
     },
     "execution_count": 41,
     "metadata": {},
     "output_type": "execute_result"
    }
   ],
   "source": [
    "# let's look at an individual pair of RUNs here\n",
    "X_0 = X[y==0]\n",
    "X_1 = X[y==1]\n",
    "X_0.shape,X_1.shape"
   ]
  },
  {
   "cell_type": "code",
   "execution_count": 42,
   "metadata": {
    "collapsed": true
   },
   "outputs": [],
   "source": [
    "X_bin = np.vstack((X_0,X_1))"
   ]
  },
  {
   "cell_type": "code",
   "execution_count": 43,
   "metadata": {
    "collapsed": true
   },
   "outputs": [],
   "source": [
    "y_bin = np.hstack([np.zeros(len(X_0)),np.ones(len(X_1))])"
   ]
  },
  {
   "cell_type": "code",
   "execution_count": 44,
   "metadata": {
    "collapsed": false
   },
   "outputs": [
    {
     "data": {
      "text/plain": [
       "0.99963423555230435"
      ]
     },
     "execution_count": 44,
     "metadata": {},
     "output_type": "execute_result"
    }
   ],
   "source": [
    "dt = DecisionTreeClassifier(criterion='entropy',max_depth=5)\n",
    "dt.fit(X_bin[::5],y_bin[::5])\n",
    "dt.score(X_bin,y_bin)"
   ]
  },
  {
   "cell_type": "code",
   "execution_count": 45,
   "metadata": {
    "collapsed": false
   },
   "outputs": [
    {
     "data": {
      "text/plain": [
       "9"
      ]
     },
     "execution_count": 45,
     "metadata": {},
     "output_type": "execute_result"
    }
   ],
   "source": [
    "np.sum(dt.feature_importances_!=0)"
   ]
  },
  {
   "cell_type": "code",
   "execution_count": 46,
   "metadata": {
    "collapsed": false
   },
   "outputs": [
    {
     "data": {
      "text/plain": [
       "<matplotlib.text.Text at 0x7fed2bacac90>"
      ]
     },
     "execution_count": 46,
     "metadata": {},
     "output_type": "execute_result"
    },
    {
     "data": {
      "image/png": "[encoded data removed]",
      "text/plain": [
       "<matplotlib.figure.Figure at 0x7fed5b975510>"
      ]
     },
     "metadata": {},
     "output_type": "display_data"
    }
   ],
   "source": [
    "plt.plot(np.cumsum(sorted(dt.feature_importances_[dt.feature_importances_!=0])[::-1]))\n",
    "plt.xlabel('# of dihedrals included')\n",
    "plt.ylabel('Class identity explained')\n",
    "plt.title('Discriminating Abl RUN0 and RUN1')"
   ]
  },
  {
   "cell_type": "code",
   "execution_count": 121,
   "metadata": {
    "collapsed": false
   },
   "outputs": [
    {
     "data": {
      "text/plain": [
       "<sklearn.tree._tree.Tree at 0x7f124a1d0b28>"
      ]
     },
     "execution_count": 121,
     "metadata": {},
     "output_type": "execute_result"
    }
   ],
   "source": [
    "dt.tree_"
   ]
  },
  {
   "cell_type": "code",
   "execution_count": 59,
   "metadata": {
    "collapsed": false
   },
   "outputs": [
    {
     "data": {
      "text/plain": [
       "1.0"
      ]
     },
     "execution_count": 59,
     "metadata": {},
     "output_type": "execute_result"
    }
   ],
   "source": [
    "from sklearn.linear_model import LogisticRegression\n",
    "lr = LogisticRegression(penalty='l1',C=0.02)\n",
    "lr.fit(X_bin[::10],y_bin[::10])\n",
    "lr.score(X_bin,y_bin)"
   ]
  },
  {
   "cell_type": "code",
   "execution_count": null,
   "metadata": {
    "collapsed": true
   },
   "outputs": [],
   "source": []
  },
  {
   "cell_type": "code",
   "execution_count": 60,
   "metadata": {
    "collapsed": false
   },
   "outputs": [
    {
     "data": {
      "text/plain": [
       "17"
      ]
     },
     "execution_count": 60,
     "metadata": {},
     "output_type": "execute_result"
    }
   ],
   "source": [
    "np.sum(lr.coef_!=0)"
   ]
  },
  {
   "cell_type": "code",
   "execution_count": 69,
   "metadata": {
    "collapsed": false
   },
   "outputs": [
    {
     "name": "stdout",
     "output_type": "stream",
     "text": [
      "TYR264-C,SER265-N,SER265-CA,SER265-C\n",
      "GLU275-C,ASP276-N,ASP276-CA,ASP276-C\n",
      "PHE382-C,GLY383-N,GLY383-CA,GLY383-C\n",
      "GLU275-N,GLU275-CA,GLU275-C,ASP276-N\n",
      "GLU275-N,GLU275-CA,GLU275-C,ASP276-N\n",
      "GLU279-N,GLU279-CA,GLU279-C,VAL280-N\n",
      "VAL289-N,VAL289-CA,VAL289-C,MET290-N\n",
      "PHE382-N,PHE382-CA,PHE382-C,GLY383-N\n",
      "ASP391-N,ASP391-CA,ASP391-C,THR392-N\n",
      "THR392-N,THR392-CA,THR392-C,TYR393-N\n",
      "LYS404-N,LYS404-CA,LYS404-CB,LYS404-CG\n",
      "GLU409-N,GLU409-CA,GLU409-CB,GLU409-CG\n",
      "ARG362-N,ARG362-CA,ARG362-CB,ARG362-CG\n",
      "VAL379-N,VAL379-CA,VAL379-CB,VAL379-CG1\n",
      "TYR257-CA,TYR257-CB,TYR257-CG,TYR257-CD1\n",
      "GLU409-CA,GLU409-CB,GLU409-CG,GLU409-CD\n",
      "TYR456-CA,TYR456-CB,TYR456-CG,TYR456-CD1\n"
     ]
    }
   ],
   "source": [
    "lr.coef_!=0\n",
    "\n",
    "for i in np.arange(len(lr.coef_.flatten()))[lr.coef_.flatten()!=0]:\n",
    "    print(dihedral_to_string(atom_list[i],top))"
   ]
  },
  {
   "cell_type": "code",
   "execution_count": 61,
   "metadata": {
    "collapsed": true
   },
   "outputs": [],
   "source": [
    "preds = lr.predict_log_proba(X_bin)"
   ]
  },
  {
   "cell_type": "code",
   "execution_count": 62,
   "metadata": {
    "collapsed": false
   },
   "outputs": [
    {
     "data": {
      "text/plain": [
       "(185912, 2)"
      ]
     },
     "execution_count": 62,
     "metadata": {},
     "output_type": "execute_result"
    }
   ],
   "source": [
    "preds.shape"
   ]
  },
  {
   "cell_type": "code",
   "execution_count": 63,
   "metadata": {
    "collapsed": false
   },
   "outputs": [
    {
     "data": {
      "image/png": "[encoded data removed]",
      "text/plain": [
       "<matplotlib.figure.Figure at 0x7fed2b9e5890>"
      ]
     },
     "metadata": {},
     "output_type": "display_data"
    }
   ],
   "source": [
    "plt.hist(preds);"
   ]
  },
  {
   "cell_type": "code",
   "execution_count": 64,
   "metadata": {
    "collapsed": false
   },
   "outputs": [
    {
     "data": {
      "text/plain": [
       "<matplotlib.collections.PathCollection at 0x7fed212e7f10>"
      ]
     },
     "execution_count": 64,
     "metadata": {},
     "output_type": "execute_result"
    },
    {
     "data": {
      "image/png": "[encoded data removed]",
      "text/plain": [
       "<matplotlib.figure.Figure at 0x7fed2b6d9810>"
      ]
     },
     "metadata": {},
     "output_type": "display_data"
    }
   ],
   "source": [
    "plt.scatter(preds[:,0],preds[:,1],c=y_bin,linewidths=0)"
   ]
  },
  {
   "cell_type": "code",
   "execution_count": 65,
   "metadata": {
    "collapsed": false
   },
   "outputs": [
    {
     "data": {
      "text/plain": [
       "array([[ 375,  377,  379,  386],\n",
       "       [ 553,  555,  557,  565],\n",
       "       [2293, 2295, 2297, 2300],\n",
       "       [ 540,  542,  553,  555],\n",
       "       [ 540,  542,  553,  555],\n",
       "       [ 598,  600,  611,  613],\n",
       "       [ 755,  757,  769,  771],\n",
       "       [2275, 2277, 2293, 2295],\n",
       "       [2413, 2415, 2423, 2425],\n",
       "       [2425, 2427, 2437, 2439],\n",
       "       [2603, 2605, 2607, 2610],\n",
       "       [2687, 2689, 2691, 2694],\n",
       "       [1968, 1970, 1972, 1975],\n",
       "       [2237, 2239, 2241, 2243],\n",
       "       [ 231,  233,  236,  237],\n",
       "       [2689, 2691, 2694, 2697],\n",
       "       [3438, 3440, 3443, 3444]])"
      ]
     },
     "execution_count": 65,
     "metadata": {},
     "output_type": "execute_result"
    }
   ],
   "source": [
    "atom_list[lr.coef_.flatten()!=0]"
   ]
  },
  {
   "cell_type": "code",
   "execution_count": 109,
   "metadata": {
    "collapsed": false
   },
   "outputs": [
    {
     "data": {
      "text/plain": [
       "LDA(n_components=3, priors=None, shrinkage=None, solver='svd',\n",
       "  store_covariance=False, tol=0.0001)"
      ]
     },
     "execution_count": 109,
     "metadata": {},
     "output_type": "execute_result"
    }
   ],
   "source": [
    "# can use LDA-- side effect: create a trajectory-separating 2D plot again, similar to Chaya's analysis of the GPCR sims?\n",
    "from sklearn.lda import LDA\n",
    "lda = LDA(n_components=2)\n",
    "\n",
    "X_bin_ = X_bin[:,dt.feature_importances_!=0]\n",
    "lda.fit(X_bin_,y_bin)"
   ]
  },
  {
   "cell_type": "code",
   "execution_count": 110,
   "metadata": {
    "collapsed": false
   },
   "outputs": [
    {
     "data": {
      "text/plain": [
       "0.98174405094883599"
      ]
     },
     "execution_count": 110,
     "metadata": {},
     "output_type": "execute_result"
    }
   ],
   "source": [
    "lda.score(X_bin_,y_bin)"
   ]
  },
  {
   "cell_type": "code",
   "execution_count": 111,
   "metadata": {
    "collapsed": false
   },
   "outputs": [],
   "source": [
    "X_prime = lda.transform(X_bin_)"
   ]
  },
  {
   "cell_type": "code",
   "execution_count": 112,
   "metadata": {
    "collapsed": false
   },
   "outputs": [
    {
     "data": {
      "text/plain": [
       "(185912, 25)"
      ]
     },
     "execution_count": 112,
     "metadata": {},
     "output_type": "execute_result"
    }
   ],
   "source": [
    "X_bin_.shape"
   ]
  },
  {
   "cell_type": "code",
   "execution_count": 113,
   "metadata": {
    "collapsed": false
   },
   "outputs": [
    {
     "data": {
      "text/plain": [
       "(185912, 1)"
      ]
     },
     "execution_count": 113,
     "metadata": {},
     "output_type": "execute_result"
    }
   ],
   "source": [
    "X_prime.shape # oops, why 1D when n_components=2?"
   ]
  },
  {
   "cell_type": "code",
   "execution_count": 66,
   "metadata": {
    "collapsed": false
   },
   "outputs": [
    {
     "data": {
      "text/plain": [
       "'ALA380-CB,ALA380-CA,ASP381-CA,ASP381-CG'"
      ]
     },
     "execution_count": 66,
     "metadata": {},
     "output_type": "execute_result"
    }
   ],
   "source": [
    "# discretize just the DFG-flip dihedral?\n",
    "\n",
    "DFG = [2257,2255,2265,2270]\n",
    "dihedral_to_string(DFG,top)"
   ]
  },
  {
   "cell_type": "code",
   "execution_count": 147,
   "metadata": {
    "collapsed": false
   },
   "outputs": [],
   "source": [
    "dfg_flip_coordinates = []\n",
    "\n",
    "for fname in fnames:\n",
    "    try:\n",
    "        x = md.compute_dihedrals(md.load(fname),[DFG])\n",
    "        dfg_flip_coordinates.append(x)\n",
    "    except:\n",
    "        pass"
   ]
  },
  {
   "cell_type": "code",
   "execution_count": 148,
   "metadata": {
    "collapsed": true
   },
   "outputs": [],
   "source": [
    "def create_overlap_matrix(dtrajs):\n",
    "    overlap_matrix = np.zeros((len(dtrajs),len(dtrajs)))\n",
    "\n",
    "    sets = [set(traj) for traj in dtrajs]\n",
    "\n",
    "    for i in range(len(overlap_matrix)):\n",
    "        for j in range(len(overlap_matrix)):\n",
    "            overlap_matrix[i,j] = len(sets[i].intersection(sets[j]))\n",
    "    \n",
    "    return overlap_matrix\n",
    "\n",
    "def find_run_boundaries(fnames):\n",
    "    runs = []\n",
    "    for fname in fnames:\n",
    "        i = fname.find('run')\n",
    "        j = fname.find('-')\n",
    "        runs.append(int(fname[i+3:j]))\n",
    "    \n",
    "    ticks = []\n",
    "    for i in range(1,len(runs)):\n",
    "        if runs[i] != runs[i-1]:\n",
    "            ticks.append(i-1)\n",
    "    return ticks\n",
    "\n",
    "def plot_binary_overlap_matrix(overlap_matrix,name='Abl'):\n",
    "    plt.imshow(overlap_matrix>0,interpolation='none',cmap='Blues');\n",
    "    #plt.colorbar()\n",
    "    plt.xlabel('Clones (grouped by run)')\n",
    "    plt.ylabel('Clones (grouped by run)')\n",
    "    plt.title(name+': Presence/absence of discrete state overlap among clones')\n",
    "    ticks = find_run_boundaries(fnames)\n",
    "    labels = ['']*len(ticks)\n",
    "    plt.xticks(ticks,labels)\n",
    "    plt.yticks(ticks,labels)\n",
    "    plt.grid(linestyle='-',color='grey',alpha=0.1)"
   ]
  },
  {
   "cell_type": "code",
   "execution_count": 151,
   "metadata": {
    "collapsed": false
   },
   "outputs": [
    {
     "data": {
      "image/png": "[encoded data removed]",
      "text/plain": [
       "<matplotlib.figure.Figure at 0x7f116ea58410>"
      ]
     },
     "metadata": {},
     "output_type": "display_data"
    }
   ],
   "source": [
    "from msmbuilder.cluster import NDGrid\n",
    "ndgrid = NDGrid(n_bins_per_feature=100)\n",
    "dtrajs = ndgrid.fit_transform(dfg_flip_coordinates)\n",
    "\n",
    "overlap_matrix = create_overlap_matrix(dtrajs)\n",
    "plot_binary_overlap_matrix(overlap_matrix,'Abl')\n",
    "# finely discretizing only the DFG-flip coordinate as identified in octomore is insufficient to "
   ]
  },
  {
   "cell_type": "code",
   "execution_count": null,
   "metadata": {
    "collapsed": true
   },
   "outputs": [],
   "source": [
    "# create a separate interface for every pair of runs?"
   ]
  },
  {
   "cell_type": "code",
   "execution_count": null,
   "metadata": {
    "collapsed": true
   },
   "outputs": [],
   "source": [
    "for i in range(n_runs):\n",
    "    for j in range(i):\n",
    "        if i != j:\n",
    "            dt = DecisionTreeClassifier(criterion='entropy',max_depth=3)\n",
    "            bitmask = ((y==i)+(y==j))!=0\n",
    "            dt.fit(X_[bitmask][::stride],y[bitmask][::stride])\n",
    "            score = dt.score(X_[bitmask],y[bitmask])\n",
    "            discriminators.append(((i,j),dt,score))\n",
    "            print(score)"
   ]
  },
  {
   "cell_type": "code",
   "execution_count": 125,
   "metadata": {
    "collapsed": true
   },
   "outputs": [],
   "source": [
    "# now do this with inter-residue distances?\n",
    "\n",
    "residues_of_interest = [328,\n",
    "                        317,\n",
    "                        408,\n",
    "                        387,\n",
    "                        447,\n",
    "                        339,\n",
    "                        341,\n",
    "                        326,\n",
    "                        284,\n",
    "                        296,\n",
    "                        396,\n",
    "                        395,\n",
    "                        397,\n",
    "                        349,\n",
    "                        454,\n",
    "                        458\n",
    "                       ]\n",
    "\n",
    "residue_ids = np.array(residues_of_interest)-270"
   ]
  },
  {
   "cell_type": "code",
   "execution_count": 126,
   "metadata": {
    "collapsed": true
   },
   "outputs": [],
   "source": [
    "respairs = []\n",
    "for i in range(len(residue_ids)):\n",
    "    for j in range(i):\n",
    "        if i!=j:\n",
    "            respairs.append((i,j))"
   ]
  },
  {
   "cell_type": "code",
   "execution_count": 127,
   "metadata": {
    "collapsed": false
   },
   "outputs": [
    {
     "data": {
      "text/plain": [
       "1"
      ]
     },
     "execution_count": 127,
     "metadata": {},
     "output_type": "execute_result"
    }
   ],
   "source": [
    "len(traj)"
   ]
  },
  {
   "cell_type": "code",
   "execution_count": 131,
   "metadata": {
    "collapsed": false
   },
   "outputs": [
    {
     "data": {
      "text/plain": [
       "120"
      ]
     },
     "execution_count": 131,
     "metadata": {},
     "output_type": "execute_result"
    }
   ],
   "source": [
    "len(md.compute_contacts(traj,respairs,'closest')[0][0])"
   ]
  },
  {
   "cell_type": "code",
   "execution_count": 132,
   "metadata": {
    "collapsed": true
   },
   "outputs": [],
   "source": [
    "traj = md.load(fnames[0])"
   ]
  },
  {
   "cell_type": "code",
   "execution_count": 135,
   "metadata": {
    "collapsed": false
   },
   "outputs": [],
   "source": [
    "X_contacts = []\n",
    "y_contacts = []\n",
    "for fname in fnames:\n",
    "    try:\n",
    "        x = md.compute_contacts(traj,respairs,'closest')[0]\n",
    "        X_contacts.append(x)\n",
    "        i = fname.find('run')\n",
    "        j = fname.find('-')\n",
    "        run = (int(fname[i+3:j]))\n",
    "        y_contacts.append(np.ones(len(x))*run)\n",
    "    except:\n",
    "        pass"
   ]
  },
  {
   "cell_type": "code",
   "execution_count": 136,
   "metadata": {
    "collapsed": false
   },
   "outputs": [
    {
     "data": {
      "text/plain": [
       "(3280, 120)"
      ]
     },
     "execution_count": 136,
     "metadata": {},
     "output_type": "execute_result"
    }
   ],
   "source": [
    "X_contacts[0].shape"
   ]
  },
  {
   "cell_type": "code",
   "execution_count": 137,
   "metadata": {
    "collapsed": true
   },
   "outputs": [],
   "source": [
    "X_contacts_ = np.vstack(X_contacts)"
   ]
  },
  {
   "cell_type": "code",
   "execution_count": 138,
   "metadata": {
    "collapsed": true
   },
   "outputs": [],
   "source": [
    "y_contacts_ = np.hstack(y_contacts)"
   ]
  },
  {
   "cell_type": "code",
   "execution_count": 141,
   "metadata": {
    "collapsed": false
   },
   "outputs": [
    {
     "data": {
      "text/plain": [
       "DecisionTreeClassifier(class_weight=None, criterion='entropy', max_depth=5,\n",
       "            max_features=None, max_leaf_nodes=None, min_samples_leaf=1,\n",
       "            min_samples_split=2, min_weight_fraction_leaf=0.0,\n",
       "            random_state=None, splitter='best')"
      ]
     },
     "execution_count": 141,
     "metadata": {},
     "output_type": "execute_result"
    }
   ],
   "source": [
    "dt = DecisionTreeClassifier(criterion='entropy',max_depth=5)\n",
    "dt.fit(X_contacts_[::2],y_contacts_[::2])"
   ]
  },
  {
   "cell_type": "code",
   "execution_count": 142,
   "metadata": {
    "collapsed": false
   },
   "outputs": [
    {
     "data": {
      "text/plain": [
       "0.079051383399209488"
      ]
     },
     "execution_count": 142,
     "metadata": {},
     "output_type": "execute_result"
    }
   ],
   "source": [
    "dt.score(X_contacts_,y_contacts_)"
   ]
  },
  {
   "cell_type": "code",
   "execution_count": null,
   "metadata": {
    "collapsed": true
   },
   "outputs": [],
   "source": [
    "# ooh, that didn't work too well-- unlucky choice of respairs?"
   ]
  },
  {
   "cell_type": "code",
   "execution_count": null,
   "metadata": {
    "collapsed": true
   },
   "outputs": [],
   "source": [
    "# construct interface sets surrounding metastable cores\n",
    "# gaussians?\n",
    "# planes?\n",
    "# boxes?"
   ]
  }
 ],
 "metadata": {
  "kernelspec": {
   "display_name": "Python 2",
   "language": "python",
   "name": "python2"
  },
  "language_info": {
   "codemirror_mode": {
    "name": "ipython",
    "version": 2
   },
   "file_extension": ".py",
   "mimetype": "text/x-python",
   "name": "python",
   "nbconvert_exporter": "python",
   "pygments_lexer": "ipython2",
   "version": "2.7.10"
  }
 },
 "nbformat": 4,
 "nbformat_minor": 0
}
