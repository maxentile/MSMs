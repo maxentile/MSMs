{
 "cells": [
  {
   "cell_type": "markdown",
   "metadata": {},
   "source": [
    "# 0. Overview\n",
    "\n",
    "To parameterize a Markov State Model from data, we need:\n",
    "- trajectories (time-ordered lists of structures),\n",
    "- a function that maps structures to discrete states, and \n",
    "- a transition matrix (describing the probabilities of moving from one discrete state to another in a fixed amount of time).\n",
    "\n",
    "What we hope to get out of a Markov State Model includes:\n",
    "- An estimate of the stationary distribution\n",
    "- A description of the longest-lived states of the system\n",
    "\n",
    "The difficulties of estimating a transition matrix from discrete trajectories are largely settled. The major difficulties in practice arise in *discretization* -- selecting a function that maps structures to discrete state labels.\n",
    "\n",
    "In this notebook, we will select a discretization function in three stages: (1) convert structures to feature vectors, (2) compute a linear transformation of these features that decorrelates slowly, mapping into a vector space where Euclidean distance is kinetically meaningful (using tICA), (3) discretizing this space using k-means clustering."
   ]
  },
  {
   "cell_type": "code",
   "execution_count": 122,
   "metadata": {
    "collapsed": false
   },
   "outputs": [],
   "source": [
    "# import general libraries\n",
    "import mdtraj as md\n",
    "import msmbuilder\n",
    "import numpy as np\n",
    "import numpy.random as npr\n",
    "import matplotlib.pyplot as plt\n",
    "%matplotlib inline"
   ]
  },
  {
   "cell_type": "markdown",
   "metadata": {},
   "source": [
    "# 1. Load trajectories"
   ]
  },
  {
   "cell_type": "code",
   "execution_count": null,
   "metadata": {
    "collapsed": true
   },
   "outputs": [],
   "source": [
    "# load trajectories\n",
    "path_to_trajs = '../../../data/fah/10470/*.h5'\n",
    "from glob import glob\n",
    "filenames = glob(path_to_trajs)#[:50] # here looking at only the first 50\n",
    "trajs = [md.load(f) for f in filenames]"
   ]
  },
  {
   "cell_type": "code",
   "execution_count": 123,
   "metadata": {
    "collapsed": false
   },
   "outputs": [
    {
     "data": {
      "text/plain": [
       "210555"
      ]
     },
     "execution_count": 123,
     "metadata": {},
     "output_type": "execute_result"
    }
   ],
   "source": [
    "sum([len(traj) for traj in trajs])"
   ]
  },
  {
   "cell_type": "code",
   "execution_count": 128,
   "metadata": {
    "collapsed": false
   },
   "outputs": [],
   "source": [
    "lens = []\n",
    "for traj in trajs:\n",
    "    lens.append(len(traj))"
   ]
  },
  {
   "cell_type": "code",
   "execution_count": 129,
   "metadata": {
    "collapsed": false
   },
   "outputs": [
    {
     "data": {
      "text/plain": [
       "210555"
      ]
     },
     "execution_count": 129,
     "metadata": {},
     "output_type": "execute_result"
    }
   ],
   "source": [
    "sum(lens)"
   ]
  },
  {
   "cell_type": "code",
   "execution_count": 328,
   "metadata": {
    "collapsed": false
   },
   "outputs": [
    {
     "data": {
      "text/plain": [
       "<matplotlib.text.Text at 0x195597910>"
      ]
     },
     "execution_count": 328,
     "metadata": {},
     "output_type": "execute_result"
    },
    {
     "data": {
      "image/png": "[encoded data removed]",
      "text/plain": [
       "<matplotlib.figure.Figure at 0x15a54eb90>"
      ]
     },
     "metadata": {},
     "output_type": "display_data"
    }
   ],
   "source": [
    "plt.hist(lens,bins=50);\n",
    "plt.xlabel('Trajectory length')\n",
    "plt.ylabel('Occurrences')\n",
    "plt.title('Distribution of trajectory lengths')"
   ]
  },
  {
   "cell_type": "markdown",
   "metadata": {},
   "source": [
    "# 2. Featurize"
   ]
  },
  {
   "cell_type": "markdown",
   "metadata": {},
   "source": [
    "## 2.1. Inter-residue distances"
   ]
  },
  {
   "cell_type": "code",
   "execution_count": 4,
   "metadata": {
    "collapsed": false
   },
   "outputs": [
    {
     "name": "stdout",
     "output_type": "stream",
     "text": [
      "Number of contacts that changed: 436\n",
      "Total number of possible contacts: 13041\n"
     ]
    }
   ],
   "source": [
    "def find_respairs_that_changed(trajs,\n",
    "                               scheme = 'ca',    # or 'closest' or 'closest-heavy'\n",
    "                               threshold = 0.4): # in nanometers\n",
    "    '''\n",
    "    \n",
    "    Parameters\n",
    "    ----------\n",
    "    trajs : list of mdtraj.Trajectory objects\n",
    "    \n",
    "    scheme : 'ca' or 'closest' or 'closest-heavy'\n",
    "    \n",
    "    threshold : float\n",
    "        contact threshold (nm)\n",
    "    '''\n",
    "    distances = []\n",
    "    for traj in trajs:\n",
    "        pairwise_distances,residue_pairs = md.compute_contacts(traj,scheme=scheme)\n",
    "        distances.append(pairwise_distances)\n",
    "    distances = np.vstack(distances)\n",
    "    \n",
    "    # identify contacts that change by counting how many times the distances were\n",
    "    # greater than and less than the threshold\n",
    "    num_times_greater_than = (distances>threshold).sum(0)\n",
    "    num_times_less_than = (distances<threshold).sum(0)\n",
    "    changed = (num_times_greater_than > 0) * (num_times_less_than > 0)\n",
    "    print(\"Number of contacts that changed: {0}\".format(changed.sum()))\n",
    "    print(\"Total number of possible contacts: {0}\".format(len(residue_pairs)))\n",
    "    \n",
    "    # now turn this bitmask into a list of relevant residue pairs\n",
    "    respairs_that_changed = residue_pairs[changed]\n",
    "    \n",
    "    return respairs_that_changed\n",
    "\n",
    "# examine a subset of the data to determine which residue pairs are crossing the threshold\n",
    "scheme = 'closest'\n",
    "threshold = 0.4\n",
    "respairs_that_changed = find_respairs_that_changed([traj[::10] for traj in trajs[::5]],\n",
    "                                                   scheme=scheme,\n",
    "                                                   threshold=threshold)"
   ]
  },
  {
   "cell_type": "code",
   "execution_count": 131,
   "metadata": {
    "collapsed": false
   },
   "outputs": [
    {
     "name": "stdout",
     "output_type": "stream",
     "text": [
      "0/301\n",
      "1/301\n",
      "2/301\n",
      "3/301\n",
      "4/301\n",
      "5/301\n",
      "6/301\n",
      "7/301\n",
      "8/301\n",
      "9/301\n",
      "10/301\n",
      "11/301\n",
      "12/301\n",
      "13/301\n",
      "14/301\n",
      "15/301\n",
      "16/301\n",
      "17/301\n",
      "18/301\n",
      "19/301\n",
      "20/301\n",
      "21/301\n",
      "22/301\n",
      "23/301\n",
      "24/301\n",
      "25/301\n",
      "26/301\n",
      "27/301\n",
      "28/301\n",
      "29/301\n",
      "30/301\n",
      "31/301\n",
      "32/301\n",
      "33/301\n",
      "34/301\n",
      "35/301\n",
      "36/301\n",
      "37/301\n",
      "38/301\n",
      "39/301\n",
      "40/301\n",
      "41/301\n",
      "42/301\n",
      "43/301\n",
      "44/301\n",
      "45/301\n",
      "46/301\n",
      "47/301\n",
      "48/301\n",
      "49/301\n",
      "50/301\n",
      "51/301\n",
      "52/301\n",
      "53/301\n",
      "54/301\n",
      "55/301\n",
      "56/301\n",
      "57/301\n",
      "58/301\n",
      "59/301\n",
      "60/301\n",
      "61/301\n",
      "62/301\n",
      "63/301\n",
      "64/301\n",
      "65/301\n",
      "66/301\n",
      "67/301\n",
      "68/301\n",
      "69/301\n",
      "70/301\n",
      "71/301\n",
      "72/301\n",
      "73/301\n",
      "74/301\n",
      "75/301\n",
      "76/301\n",
      "77/301\n",
      "78/301\n",
      "79/301\n",
      "80/301\n",
      "81/301\n",
      "82/301\n",
      "83/301\n",
      "84/301\n",
      "85/301\n",
      "86/301\n",
      "87/301\n",
      "88/301\n",
      "89/301\n",
      "90/301\n",
      "91/301\n",
      "92/301\n",
      "93/301\n",
      "94/301\n",
      "95/301\n",
      "96/301\n",
      "97/301\n",
      "98/301\n",
      "99/301\n",
      "100/301\n",
      "101/301\n",
      "102/301\n",
      "103/301\n",
      "104/301\n",
      "105/301\n",
      "106/301\n",
      "107/301\n",
      "108/301\n",
      "109/301\n",
      "110/301\n",
      "111/301\n",
      "112/301\n",
      "113/301\n",
      "114/301\n",
      "115/301\n",
      "116/301\n",
      "117/301\n",
      "118/301\n",
      "119/301\n",
      "120/301\n",
      "121/301\n",
      "122/301\n",
      "123/301\n",
      "124/301\n",
      "125/301\n",
      "126/301\n",
      "127/301\n",
      "128/301\n",
      "129/301\n",
      "130/301\n",
      "131/301\n",
      "132/301\n",
      "133/301\n",
      "134/301\n",
      "135/301\n",
      "136/301\n",
      "137/301\n",
      "138/301\n",
      "139/301\n",
      "140/301\n",
      "141/301\n",
      "142/301\n",
      "143/301\n",
      "144/301\n",
      "145/301\n",
      "146/301\n",
      "147/301\n",
      "148/301\n",
      "149/301\n",
      "150/301\n",
      "151/301\n",
      "152/301\n",
      "153/301\n",
      "154/301\n",
      "155/301\n",
      "156/301\n",
      "157/301\n",
      "158/301\n",
      "159/301\n",
      "160/301\n",
      "161/301\n",
      "162/301\n",
      "163/301\n",
      "164/301\n",
      "165/301\n",
      "166/301\n",
      "167/301\n",
      "168/301\n",
      "169/301\n",
      "170/301\n",
      "171/301\n",
      "172/301\n",
      "173/301\n",
      "174/301\n",
      "175/301\n",
      "176/301\n",
      "177/301\n",
      "178/301\n",
      "179/301\n",
      "180/301\n",
      "181/301\n",
      "182/301\n",
      "183/301\n",
      "184/301\n",
      "185/301\n",
      "186/301\n",
      "187/301\n",
      "188/301\n",
      "189/301\n",
      "190/301\n",
      "191/301\n",
      "192/301\n",
      "193/301\n",
      "194/301\n",
      "195/301\n",
      "196/301\n",
      "197/301\n",
      "198/301\n",
      "199/301\n",
      "200/301\n",
      "201/301\n",
      "202/301\n",
      "203/301\n",
      "204/301\n",
      "205/301\n",
      "206/301\n",
      "207/301\n",
      "208/301\n",
      "209/301\n",
      "210/301\n",
      "211/301\n",
      "212/301\n",
      "213/301\n",
      "214/301\n",
      "215/301\n",
      "216/301\n",
      "217/301\n",
      "218/301\n",
      "219/301\n",
      "220/301\n",
      "221/301\n",
      "222/301\n",
      "223/301\n",
      "224/301\n",
      "225/301\n",
      "226/301\n",
      "227/301\n",
      "228/301\n",
      "229/301\n",
      "230/301\n",
      "231/301\n",
      "232/301\n",
      "233/301\n",
      "234/301\n",
      "235/301\n",
      "236/301\n",
      "237/301\n",
      "238/301\n",
      "239/301\n",
      "240/301\n",
      "241/301\n",
      "242/301\n",
      "243/301\n",
      "244/301\n",
      "245/301\n",
      "246/301\n",
      "247/301\n",
      "248/301\n",
      "249/301\n",
      "250/301\n",
      "251/301\n",
      "252/301\n",
      "253/301\n",
      "254/301\n",
      "255/301\n",
      "256/301\n",
      "257/301\n",
      "258/301\n",
      "259/301\n",
      "260/301\n",
      "261/301\n",
      "262/301\n",
      "263/301\n",
      "264/301\n",
      "265/301\n",
      "266/301\n",
      "267/301\n",
      "268/301\n",
      "269/301\n",
      "270/301\n",
      "271/301\n",
      "272/301\n",
      "273/301\n",
      "274/301\n",
      "275/301\n",
      "276/301\n",
      "277/301\n",
      "278/301\n",
      "279/301\n",
      "280/301\n",
      "281/301\n",
      "282/301\n",
      "283/301\n",
      "284/301\n",
      "285/301\n",
      "286/301\n",
      "287/301\n",
      "288/301\n",
      "289/301\n",
      "290/301\n",
      "291/301\n",
      "292/301\n",
      "293/301\n",
      "294/301\n",
      "295/301\n",
      "296/301\n",
      "297/301\n",
      "298/301\n",
      "299/301\n",
      "300/301\n"
     ]
    }
   ],
   "source": [
    "# featurize all frames using these residue pairs\n",
    "X = []\n",
    "\n",
    "for i,f in enumerate(filenames):\n",
    "    print('{0}/{1}'.format(i,len(filenames)))\n",
    "    traj = md.load(f)\n",
    "    distances,_ = md.compute_contacts(traj,contacts=respairs_that_changed,scheme=scheme)\n",
    "\n",
    "    X.append(distances)"
   ]
  },
  {
   "cell_type": "markdown",
   "metadata": {},
   "source": [
    "## 2.2. Dihedrals"
   ]
  },
  {
   "cell_type": "code",
   "execution_count": 132,
   "metadata": {
    "collapsed": true
   },
   "outputs": [],
   "source": [
    "# also featurize using dihedrals\n",
    "\n",
    "from msmbuilder.featurizer import DihedralFeaturizer\n",
    "dih_model = DihedralFeaturizer()\n",
    "X_dih = dih_model.fit_transform(trajs)"
   ]
  },
  {
   "cell_type": "markdown",
   "metadata": {},
   "source": [
    "## 2.3. Heavy-atom RMSD"
   ]
  },
  {
   "cell_type": "code",
   "execution_count": 329,
   "metadata": {
    "collapsed": false
   },
   "outputs": [
    {
     "data": {
      "text/plain": [
       "<mdtraj.Trajectory with 150 frames, 2636 atoms, 164 residues, and unitcells at 0x16c6bd710>"
      ]
     },
     "execution_count": 329,
     "metadata": {},
     "output_type": "execute_result"
    }
   ],
   "source": [
    "# also featurize using heavy-atom RMSD to a random subset of frames\n",
    "k = 150\n",
    "\n",
    "from msmbuilder.featurizer import RMSDFeaturizer\n",
    "npr.seed(0)\n",
    "inds = []\n",
    "for i in range(len(dtrajs)):\n",
    "    for j in range(len(dtrajs[i])):\n",
    "        inds.append((i,j))\n",
    "inds = np.array(inds)\n",
    "npr.shuffle(inds)\n",
    "inds = inds[:k]\n",
    "\n",
    "frames = []\n",
    "for i,j in inds:\n",
    "    frames.append(trajs[i][j])\n",
    "traj = frames[0].join(frames[1:])\n",
    "del(frames)\n",
    "traj"
   ]
  },
  {
   "cell_type": "code",
   "execution_count": 172,
   "metadata": {
    "collapsed": false
   },
   "outputs": [
    {
     "data": {
      "text/plain": [
       "262"
      ]
     },
     "execution_count": 172,
     "metadata": {},
     "output_type": "execute_result"
    }
   ],
   "source": [
    "top = traj.topology\n",
    "atom_indices = top.select('mass>12')[::5]\n",
    "len(atom_indices)"
   ]
  },
  {
   "cell_type": "code",
   "execution_count": 175,
   "metadata": {
    "collapsed": false
   },
   "outputs": [
    {
     "name": "stdout",
     "output_type": "stream",
     "text": [
      "0\n",
      "1\n",
      "2\n",
      "3\n",
      "4\n",
      "5\n",
      "6\n",
      "7\n",
      "8\n",
      "9\n",
      "10\n",
      "11\n",
      "12\n",
      "13\n",
      "14\n",
      "15\n",
      "16\n",
      "17\n",
      "18\n",
      "19\n",
      "20\n",
      "21\n",
      "22\n",
      "23\n",
      "24\n",
      "25\n",
      "26\n",
      "27\n",
      "28\n",
      "29\n",
      "30\n",
      "31\n",
      "32\n",
      "33\n",
      "34\n",
      "35\n",
      "36\n",
      "37\n",
      "38\n",
      "39\n",
      "40\n",
      "41\n",
      "42\n",
      "43\n",
      "44\n",
      "45\n",
      "46\n",
      "47\n",
      "48\n",
      "49\n",
      "50\n",
      "51\n",
      "52\n",
      "53\n",
      "54\n",
      "55\n",
      "56\n",
      "57\n",
      "58\n",
      "59\n",
      "60\n",
      "61\n",
      "62\n",
      "63\n",
      "64\n",
      "65\n",
      "66\n",
      "67\n",
      "68\n",
      "69\n",
      "70\n",
      "71\n",
      "72\n",
      "73\n",
      "74\n",
      "75\n",
      "76\n",
      "77\n",
      "78\n",
      "79\n",
      "80\n",
      "81\n",
      "82\n",
      "83\n",
      "84\n",
      "85\n",
      "86\n",
      "87\n",
      "88\n",
      "89\n",
      "90\n",
      "91\n",
      "92\n",
      "93\n",
      "94\n",
      "95\n",
      "96\n",
      "97\n",
      "98\n",
      "99\n",
      "100\n",
      "101\n",
      "102\n",
      "103\n",
      "104\n",
      "105\n",
      "106\n",
      "107\n",
      "108\n",
      "109\n",
      "110\n",
      "111\n",
      "112\n",
      "113\n",
      "114\n",
      "115\n",
      "116\n",
      "117\n",
      "118\n",
      "119\n",
      "120\n",
      "121\n",
      "122\n",
      "123\n",
      "124\n",
      "125\n",
      "126\n",
      "127\n",
      "128\n",
      "129\n",
      "130\n",
      "131\n",
      "132\n",
      "133\n",
      "134\n",
      "135\n",
      "136\n",
      "137\n",
      "138\n",
      "139\n",
      "140\n",
      "141\n",
      "142\n",
      "143\n",
      "144\n",
      "145\n",
      "146\n",
      "147\n",
      "148\n",
      "149\n",
      "150\n",
      "151\n",
      "152\n",
      "153\n",
      "154\n",
      "155\n",
      "156\n",
      "157\n",
      "158\n",
      "159\n",
      "160\n",
      "161\n",
      "162\n",
      "163\n",
      "164\n",
      "165\n",
      "166\n",
      "167\n",
      "168\n",
      "169\n",
      "170\n",
      "171\n",
      "172\n",
      "173\n",
      "174\n",
      "175\n",
      "176\n",
      "177\n",
      "178\n",
      "179\n",
      "180\n",
      "181\n",
      "182\n",
      "183\n",
      "184\n",
      "185\n",
      "186\n",
      "187\n",
      "188\n",
      "189\n",
      "190\n",
      "191\n",
      "192\n",
      "193\n",
      "194\n",
      "195\n",
      "196\n",
      "197\n",
      "198\n",
      "199\n",
      "200\n",
      "201\n",
      "202\n",
      "203\n",
      "204\n",
      "205\n",
      "206\n",
      "207\n",
      "208\n",
      "209\n",
      "210\n",
      "211\n",
      "212\n",
      "213\n",
      "214\n",
      "215\n",
      "216\n",
      "217\n",
      "218\n",
      "219\n",
      "220\n",
      "221\n",
      "222\n",
      "223\n",
      "224\n",
      "225\n",
      "226\n",
      "227\n",
      "228\n",
      "229\n",
      "230\n",
      "231\n",
      "232\n",
      "233\n",
      "234\n",
      "235\n",
      "236\n",
      "237\n",
      "238\n",
      "239\n",
      "240\n",
      "241\n",
      "242\n",
      "243\n",
      "244\n",
      "245\n",
      "246\n",
      "247\n",
      "248\n",
      "249\n",
      "250\n",
      "251\n",
      "252\n",
      "253\n",
      "254\n",
      "255\n",
      "256\n",
      "257\n",
      "258\n",
      "259\n",
      "260\n",
      "261\n",
      "262\n",
      "263\n",
      "264\n",
      "265\n",
      "266\n",
      "267\n",
      "268\n",
      "269\n",
      "270\n",
      "271\n",
      "272\n",
      "273\n",
      "274\n",
      "275\n",
      "276\n",
      "277\n",
      "278\n",
      "279\n",
      "280\n",
      "281\n",
      "282\n",
      "283\n",
      "284\n",
      "285\n",
      "286\n",
      "287\n",
      "288\n",
      "289\n",
      "290\n",
      "291\n",
      "292\n",
      "293\n",
      "294\n",
      "295\n",
      "296\n",
      "297\n",
      "298\n",
      "299\n",
      "300\n",
      "CPU times: user 6min 42s, sys: 32.8 s, total: 7min 15s\n",
      "Wall time: 7min 31s\n"
     ]
    }
   ],
   "source": [
    "%%time\n",
    "rmsd_ = RMSDFeaturizer(traj,atom_indices)\n",
    "X_rmsd = []\n",
    "for i in range(len(trajs)):\n",
    "    print(i)\n",
    "    X_rmsd.append(rmsd_.fit_transform([trajs[i]])[0])"
   ]
  },
  {
   "cell_type": "code",
   "execution_count": null,
   "metadata": {
    "collapsed": false
   },
   "outputs": [],
   "source": [
    "X_dih[1].shape"
   ]
  },
  {
   "cell_type": "markdown",
   "metadata": {},
   "source": [
    "# 3. Kinetic distance learning"
   ]
  },
  {
   "cell_type": "markdown",
   "metadata": {},
   "source": [
    "## 3.1. Apply individually to inter-residue distance features"
   ]
  },
  {
   "cell_type": "code",
   "execution_count": 133,
   "metadata": {
    "collapsed": false
   },
   "outputs": [
    {
     "name": "stdout",
     "output_type": "stream",
     "text": [
      "calculate covariances:  94% (284/301) [##########################  ] eta 00:01 |11-02-16 20:55:51 pyemma.coordinates.transform.tica.TICA[15] WARNING  Had to skip 17 trajectories for being too short. Their indexes are in self._skipped_trajs.\n",
      "getting output of TICA: 100% (301/301) [###########################] eta 00:01 /Dimensionality after tICA, retaining enough eigenvectors to explain 0.95 of kinetic variation: 58\n"
     ]
    }
   ],
   "source": [
    "# tICA\n",
    "import pyemma\n",
    "tica = pyemma.coordinates.tica(X,lag=50,kinetic_map=True)\n",
    "Y = tica.get_output()\n",
    "print(\"Dimensionality after tICA, retaining enough eigenvectors to explain 0.95 of kinetic variation: {0}\".format(np.vstack(Y).shape[1]))"
   ]
  },
  {
   "cell_type": "code",
   "execution_count": 134,
   "metadata": {
    "collapsed": false
   },
   "outputs": [],
   "source": [
    "inds = np.argmax(tica.feature_TIC_correlation,axis=1)\n",
    "corrs = np.abs(tica.feature_TIC_correlation[inds,0])"
   ]
  },
  {
   "cell_type": "code",
   "execution_count": 135,
   "metadata": {
    "collapsed": false
   },
   "outputs": [
    {
     "data": {
      "text/plain": [
       "[<matplotlib.lines.Line2D at 0x15f1925d0>]"
      ]
     },
     "execution_count": 135,
     "metadata": {},
     "output_type": "execute_result"
    },
    {
     "data": {
      "image/png": "[encoded data removed]",
      "text/plain": [
       "<matplotlib.figure.Figure at 0x11e5f99d0>"
      ]
     },
     "metadata": {},
     "output_type": "display_data"
    }
   ],
   "source": [
    "plt.plot(corrs)"
   ]
  },
  {
   "cell_type": "code",
   "execution_count": 136,
   "metadata": {
    "collapsed": false
   },
   "outputs": [
    {
     "data": {
      "text/plain": [
       "0.19141578177290791"
      ]
     },
     "execution_count": 136,
     "metadata": {},
     "output_type": "execute_result"
    }
   ],
   "source": [
    "corrs[0]"
   ]
  },
  {
   "cell_type": "code",
   "execution_count": 137,
   "metadata": {
    "collapsed": false
   },
   "outputs": [
    {
     "data": {
      "image/png": "[encoded data removed]",
      "text/plain": [
       "<matplotlib.figure.Figure at 0x15f196390>"
      ]
     },
     "metadata": {},
     "output_type": "display_data"
    }
   ],
   "source": [
    "for y in Y:\n",
    "    plt.scatter(y[:,0],y[:,1],linewidths=0,s=2)"
   ]
  },
  {
   "cell_type": "markdown",
   "metadata": {},
   "source": [
    "## 3.2. Apply individually to dihedral angle features"
   ]
  },
  {
   "cell_type": "code",
   "execution_count": 138,
   "metadata": {
    "collapsed": false
   },
   "outputs": [
    {
     "name": "stdout",
     "output_type": "stream",
     "text": [
      "calculate covariances:  94% (284/301) [##########################  ] eta 00:01 -11-02-16 20:56:17 pyemma.coordinates.transform.tica.TICA[16] WARNING  Had to skip 17 trajectories for being too short. Their indexes are in self._skipped_trajs.\n",
      "getting output of TICA: 100% (301/301) [###########################] eta 00:01 \\Dimensionality after tICA, retaining enough eigenvectors to explain 0.95 of kinetic variation: 76\n"
     ]
    }
   ],
   "source": [
    "tica_dih = pyemma.coordinates.tica(X_dih,lag=50,kinetic_map=True)\n",
    "Y_dih = tica_dih.get_output()\n",
    "print(\"Dimensionality after tICA, retaining enough eigenvectors to explain 0.95 of kinetic variation: {0}\".format(np.vstack(Y_dih).shape[1]))"
   ]
  },
  {
   "cell_type": "code",
   "execution_count": 139,
   "metadata": {
    "collapsed": false
   },
   "outputs": [
    {
     "data": {
      "image/png": "[encoded data removed]",
      "text/plain": [
       "<matplotlib.figure.Figure at 0x136dda690>"
      ]
     },
     "metadata": {},
     "output_type": "display_data"
    }
   ],
   "source": [
    "for y in Y_dih:\n",
    "    plt.scatter(y[:,0],y[:,1],linewidths=0,s=2)"
   ]
  },
  {
   "cell_type": "markdown",
   "metadata": {},
   "source": [
    "## 3.3. Apply individually to RMSD features"
   ]
  },
  {
   "cell_type": "code",
   "execution_count": 176,
   "metadata": {
    "collapsed": false
   },
   "outputs": [
    {
     "name": "stdout",
     "output_type": "stream",
     "text": [
      "calculate covariances:  94% (284/301) [##########################  ] eta 00:01 |11-02-16 21:27:58 pyemma.coordinates.transform.tica.TICA[19] WARNING  Had to skip 17 trajectories for being too short. Their indexes are in self._skipped_trajs.\n",
      "getting output of TICA: 100% (301/301) [###########################] eta 00:01 /Dimensionality after tICA, retaining enough eigenvectors to explain 0.95 of kinetic variation: 33\n"
     ]
    }
   ],
   "source": [
    "tica_rmsd = pyemma.coordinates.tica(X_rmsd,lag=50,kinetic_map=True)\n",
    "Y_rmsd = tica_rmsd.get_output()\n",
    "print(\"Dimensionality after tICA, retaining enough eigenvectors to explain 0.95 of kinetic variation: {0}\".format(np.vstack(Y_rmsd).shape[1]))"
   ]
  },
  {
   "cell_type": "code",
   "execution_count": 177,
   "metadata": {
    "collapsed": false
   },
   "outputs": [
    {
     "data": {
      "image/png": "[encoded data removed]",
      "text/plain": [
       "<matplotlib.figure.Figure at 0x144fc5810>"
      ]
     },
     "metadata": {},
     "output_type": "display_data"
    }
   ],
   "source": [
    "for y in Y_rmsd:\n",
    "    plt.scatter(y[:,0],y[:,1],linewidths=0,s=2)"
   ]
  },
  {
   "cell_type": "markdown",
   "metadata": {},
   "source": [
    "## 3.4. Apply to concatenated feature vectors, containing all of the above!"
   ]
  },
  {
   "cell_type": "code",
   "execution_count": 178,
   "metadata": {
    "collapsed": false
   },
   "outputs": [
    {
     "data": {
      "text/plain": [
       "(160, 1238)"
      ]
     },
     "execution_count": 178,
     "metadata": {},
     "output_type": "execute_result"
    }
   ],
   "source": [
    "feature_sets = [X,X_dih,X_rmsd]\n",
    "X_combined = [np.hstack([x[i] for x in feature_sets]) for i in range(len(feature_sets[0]))]\n",
    "X_combined[0].shape"
   ]
  },
  {
   "cell_type": "code",
   "execution_count": 179,
   "metadata": {
    "collapsed": false
   },
   "outputs": [
    {
     "name": "stdout",
     "output_type": "stream",
     "text": [
      "calculate covariances:  94% (284/301) [##########################  ] eta 00:03 -11-02-16 21:28:58 pyemma.coordinates.transform.tica.TICA[20] WARNING  Had to skip 17 trajectories for being too short. Their indexes are in self._skipped_trajs.\n",
      "getting output of TICA: 100% (301/301) [###########################] eta 00:01 \\Dimensionality after tICA, retaining enough eigenvectors to explain 0.95 of kinetic variation: 330\n"
     ]
    }
   ],
   "source": [
    "tica_combined = pyemma.coordinates.tica(X_combined,lag=50,kinetic_map=True)\n",
    "Y_combined = tica_combined.get_output()\n",
    "print(\"Dimensionality after tICA, retaining enough eigenvectors to explain 0.95 of kinetic variation: {0}\".format(np.vstack(Y_combined).shape[1]))"
   ]
  },
  {
   "cell_type": "code",
   "execution_count": 182,
   "metadata": {
    "collapsed": false
   },
   "outputs": [],
   "source": [
    "del(X_combined)"
   ]
  },
  {
   "cell_type": "code",
   "execution_count": 185,
   "metadata": {
    "collapsed": false
   },
   "outputs": [
    {
     "data": {
      "text/plain": [
       "<matplotlib.collections.LineCollection at 0x1436a87d0>"
      ]
     },
     "execution_count": 185,
     "metadata": {},
     "output_type": "execute_result"
    },
    {
     "data": {
      "image/png": "[encoded data removed]",
      "text/plain": [
       "<matplotlib.figure.Figure at 0x1436a8850>"
      ]
     },
     "metadata": {},
     "output_type": "display_data"
    }
   ],
   "source": [
    "plt.plot(np.cumsum(tica_combined.eigenvalues))\n",
    "plt.vlines(150,0,55)"
   ]
  },
  {
   "cell_type": "code",
   "execution_count": 186,
   "metadata": {
    "collapsed": true
   },
   "outputs": [],
   "source": [
    "# actually, I think it probably makes sense to discard starting when this goes noisy / negative?\n",
    "Y_ = [y[:,:150] for y in Y_combined]"
   ]
  },
  {
   "cell_type": "code",
   "execution_count": 187,
   "metadata": {
    "collapsed": true
   },
   "outputs": [],
   "source": [
    "del(Y_combined)"
   ]
  },
  {
   "cell_type": "code",
   "execution_count": 188,
   "metadata": {
    "collapsed": false
   },
   "outputs": [
    {
     "data": {
      "text/plain": [
       "0.015714309955385985"
      ]
     },
     "execution_count": 188,
     "metadata": {},
     "output_type": "execute_result"
    }
   ],
   "source": [
    "inds = np.argmax(tica_combined.feature_TIC_correlation,axis=1)\n",
    "corrs = np.abs(tica_combined.feature_TIC_correlation[inds,0])\n",
    "corrs[0]"
   ]
  },
  {
   "cell_type": "code",
   "execution_count": 189,
   "metadata": {
    "collapsed": false
   },
   "outputs": [
    {
     "data": {
      "text/plain": [
       "[<matplotlib.lines.Line2D at 0x11a4b5690>]"
      ]
     },
     "execution_count": 189,
     "metadata": {},
     "output_type": "execute_result"
    },
    {
     "data": {
      "image/png": "[encoded data removed]",
      "text/plain": [
       "<matplotlib.figure.Figure at 0x1945c8f90>"
      ]
     },
     "metadata": {},
     "output_type": "display_data"
    }
   ],
   "source": [
    "plt.plot(corrs)"
   ]
  },
  {
   "cell_type": "code",
   "execution_count": 192,
   "metadata": {
    "collapsed": false
   },
   "outputs": [
    {
     "data": {
      "image/png": "[encoded data removed]",
      "text/plain": [
       "<matplotlib.figure.Figure at 0x11a4b5d90>"
      ]
     },
     "metadata": {},
     "output_type": "display_data"
    }
   ],
   "source": [
    "for y in Y_:\n",
    "    plt.scatter(y[:,0],y[:,1],linewidths=0,s=2)"
   ]
  },
  {
   "cell_type": "markdown",
   "metadata": {},
   "source": [
    "# 4. Clustering"
   ]
  },
  {
   "cell_type": "code",
   "execution_count": 193,
   "metadata": {
    "collapsed": false
   },
   "outputs": [
    {
     "name": "stdout",
     "output_type": "stream",
     "text": [
      "kmeans iterations:   7% (  72/1000) [##                          ] eta 3:07:06 \\11-02-16 21:46:51 pyemma.coordinates.clustering.kmeans.MiniBatchKmeansClustering[21] INFO     Cluster centers converged after 73 steps.\n",
      "kmeans iterations: 100% (1000/1000) [##############################] eta 00:00 -"
     ]
    }
   ],
   "source": [
    "# cluster using combined feature-space kinetic distance, with different numbers of target\n",
    "# clusters\n",
    "\n",
    "k_means = pyemma.coordinates.cluster_mini_batch_kmeans(Y_,k=1000,max_iter=1000)"
   ]
  },
  {
   "cell_type": "code",
   "execution_count": 230,
   "metadata": {
    "collapsed": false
   },
   "outputs": [
    {
     "name": "stdout",
     "output_type": "stream",
     "text": [
      "kmeans iterations:  14% ( 140/1000) [###                         ] eta 1:30:46 -11-02-16 22:51:48 pyemma.coordinates.clustering.kmeans.MiniBatchKmeansClustering[24] INFO     Cluster centers converged after 141 steps.\n",
      "kmeans iterations:  20% ( 207/1000) [######                        ] eta 17:27 |11-02-16 22:56:26 pyemma.coordinates.clustering.kmeans.MiniBatchKmeansClustering[25] INFO     Cluster centers converged after 208 steps.\n",
      "kmeans iterations: 100% (1000/1000) [##############################] eta 00:01 /11-02-16 23:08:48 pyemma.coordinates.clustering.kmeans.MiniBatchKmeansClustering[26] INFO     Algorithm did not reach convergence criterion of 1e-05 in 1000 iterations. Consider increasing max_iter.\n",
      "kmeans iterations: 100% (1000/1000) [##############################] eta 00:01 \\"
     ]
    }
   ],
   "source": [
    "k_means_500 = pyemma.coordinates.cluster_mini_batch_kmeans(Y_,k=500,max_iter=1000)\n",
    "k_means_100 = pyemma.coordinates.cluster_mini_batch_kmeans(Y_,k=100,max_iter=1000)\n",
    "k_means_50 = pyemma.coordinates.cluster_mini_batch_kmeans(Y_,k=50,max_iter=1000)"
   ]
  },
  {
   "cell_type": "code",
   "execution_count": 231,
   "metadata": {
    "collapsed": false
   },
   "outputs": [
    {
     "name": "stdout",
     "output_type": "stream",
     "text": [
      "getting output of MiniBatchKmeansClustering: 100% (301/301) [######] eta 00:01 |"
     ]
    }
   ],
   "source": [
    "# reshape into a list of numpy arrays\n",
    "dtrajs_500 = [np.array(dtraj)[:,0] for dtraj in k_means_500.get_output()]"
   ]
  },
  {
   "cell_type": "markdown",
   "metadata": {},
   "source": [
    "# 5. MSM estimation and validation"
   ]
  },
  {
   "cell_type": "markdown",
   "metadata": {},
   "source": [
    "## 5.1. Inspect implied timescales plots to identify Markovian lag-time"
   ]
  },
  {
   "cell_type": "code",
   "execution_count": 232,
   "metadata": {
    "collapsed": false
   },
   "outputs": [
    {
     "name": "stdout",
     "output_type": "stream",
     "text": [
      "estimating MaximumLikelihoodMSM: 100% (14/14) [####################] eta 00:09 \\"
     ]
    }
   ],
   "source": [
    "# select lag-time for MSM estimation:\n",
    "# we're looking for the earliest lag-time where these curves flatten out\n",
    "its = pyemma.msm.its(dtrajs_500,nits=10)"
   ]
  },
  {
   "cell_type": "code",
   "execution_count": 233,
   "metadata": {
    "collapsed": false
   },
   "outputs": [
    {
     "data": {
      "text/plain": [
       "<matplotlib.collections.LineCollection at 0x16822bad0>"
      ]
     },
     "execution_count": 233,
     "metadata": {},
     "output_type": "execute_result"
    },
    {
     "data": {
      "image/png": "[encoded data removed]",
      "text/plain": [
       "<matplotlib.figure.Figure at 0x1793952d0>"
      ]
     },
     "metadata": {},
     "output_type": "display_data"
    }
   ],
   "source": [
    "pyemma.plots.plot_implied_timescales(its)\n",
    "\n",
    "# eye-balling it, maybe around 50?\n",
    "lag_time=30\n",
    "plt.vlines(lag_time,0,1e10)"
   ]
  },
  {
   "cell_type": "code",
   "execution_count": 234,
   "metadata": {
    "collapsed": false
   },
   "outputs": [
    {
     "name": "stdout",
     "output_type": "stream",
     "text": [
      "estimating MaximumLikelihoodMSM: 100% (14/14) [####################] eta 00:00 \\"
     ]
    },
    {
     "data": {
      "text/plain": [
       "<matplotlib.collections.LineCollection at 0x184065490>"
      ]
     },
     "execution_count": 234,
     "metadata": {},
     "output_type": "execute_result"
    },
    {
     "data": {
      "image/png": "[encoded data removed]",
      "text/plain": [
       "<matplotlib.figure.Figure at 0x18c373390>"
      ]
     },
     "metadata": {},
     "output_type": "display_data"
    }
   ],
   "source": [
    "dtrajs_100 = [np.array(dtraj)[:,0] for dtraj in k_means_100.get_output()]\n",
    "its_100 = pyemma.msm.its(dtrajs_100,nits=10)\n",
    "pyemma.plots.plot_implied_timescales(its_100)\n",
    "plt.vlines(lag_time,0,1e10)"
   ]
  },
  {
   "cell_type": "markdown",
   "metadata": {},
   "source": [
    "## 5.2. Estimate MSM"
   ]
  },
  {
   "cell_type": "code",
   "execution_count": 235,
   "metadata": {
    "collapsed": false
   },
   "outputs": [],
   "source": [
    "# estimate an MSM using this lag-time\n",
    "msm = pyemma.msm.estimate_markov_model(dtrajs_100,lag_time)"
   ]
  },
  {
   "cell_type": "markdown",
   "metadata": {},
   "source": [
    "## 5.3. Inspect MSM"
   ]
  },
  {
   "cell_type": "markdown",
   "metadata": {},
   "source": [
    "### 5.3.1. Metastability"
   ]
  },
  {
   "cell_type": "code",
   "execution_count": 331,
   "metadata": {
    "collapsed": false
   },
   "outputs": [
    {
     "data": {
      "text/plain": [
       "<matplotlib.text.Text at 0x16e631510>"
      ]
     },
     "execution_count": 331,
     "metadata": {},
     "output_type": "execute_result"
    },
    {
     "data": {
      "image/png": "[encoded data removed]",
      "text/plain": [
       "<matplotlib.figure.Figure at 0x15241a350>"
      ]
     },
     "metadata": {},
     "output_type": "display_data"
    }
   ],
   "source": [
    "plt.imshow(msm.P,interpolation='none',cmap='Blues')\n",
    "plt.title('MSM transition matrix')"
   ]
  },
  {
   "cell_type": "code",
   "execution_count": 236,
   "metadata": {
    "collapsed": false
   },
   "outputs": [
    {
     "data": {
      "text/plain": [
       "63.136099121248392"
      ]
     },
     "execution_count": 236,
     "metadata": {},
     "output_type": "execute_result"
    }
   ],
   "source": [
    "# metastability\n",
    "np.trace(msm.P)"
   ]
  },
  {
   "cell_type": "code",
   "execution_count": 237,
   "metadata": {
    "collapsed": false
   },
   "outputs": [
    {
     "data": {
      "text/plain": [
       "(85, 85)"
      ]
     },
     "execution_count": 237,
     "metadata": {},
     "output_type": "execute_result"
    }
   ],
   "source": [
    "msm.P.shape"
   ]
  },
  {
   "cell_type": "code",
   "execution_count": 238,
   "metadata": {
    "collapsed": false
   },
   "outputs": [
    {
     "data": {
      "text/plain": [
       "0.74277763672056929"
      ]
     },
     "execution_count": 238,
     "metadata": {},
     "output_type": "execute_result"
    }
   ],
   "source": [
    "# fractional metastability (approaches 1.0 as process becomes more perfectly metastable)\n",
    "np.trace(msm.P)/len(msm.P)"
   ]
  },
  {
   "cell_type": "markdown",
   "metadata": {},
   "source": [
    "### 5.3.2. Implied timescales"
   ]
  },
  {
   "cell_type": "code",
   "execution_count": 330,
   "metadata": {
    "collapsed": false
   },
   "outputs": [
    {
     "data": {
      "text/plain": [
       "<matplotlib.text.Text at 0x15240ba50>"
      ]
     },
     "execution_count": 330,
     "metadata": {},
     "output_type": "execute_result"
    },
    {
     "data": {
      "image/png": "[encoded data removed]",
      "text/plain": [
       "<matplotlib.figure.Figure at 0x1710244d0>"
      ]
     },
     "metadata": {},
     "output_type": "display_data"
    }
   ],
   "source": [
    "plt.plot(msm.timescales(),'.')\n",
    "plt.xlabel('Process index')\n",
    "plt.ylabel('Relaxation timescale (# frames)')"
   ]
  },
  {
   "cell_type": "code",
   "execution_count": 255,
   "metadata": {
    "collapsed": false
   },
   "outputs": [
    {
     "name": "stdout",
     "output_type": "stream",
     "text": [
      "MSM contains 42 strongly connected components above weight=1.00. Component 10 selected, with population 82.298095%\n"
     ]
    },
    {
     "data": {
      "text/plain": [
       "MarkovStateModel(ergodic_cutoff=1.0, lag_time=30, n_timescales=None,\n",
       "         prior_counts=0, reversible_type='mle', sliding_window=True,\n",
       "         verbose=True)"
      ]
     },
     "execution_count": 255,
     "metadata": {},
     "output_type": "execute_result"
    }
   ],
   "source": [
    "mb_msm = msmbuilder.msm.MarkovStateModel(lag_time,ergodic_cutoff=1.0)\n",
    "mb_msm.fit([dtraj[50:] for dtraj in dtrajs_100 if len(dtraj)>50])"
   ]
  },
  {
   "cell_type": "code",
   "execution_count": 256,
   "metadata": {
    "collapsed": false
   },
   "outputs": [
    {
     "data": {
      "text/plain": [
       "(49, 49)"
      ]
     },
     "execution_count": 256,
     "metadata": {},
     "output_type": "execute_result"
    }
   ],
   "source": [
    "mb_msm.transmat_.shape"
   ]
  },
  {
   "cell_type": "code",
   "execution_count": 259,
   "metadata": {
    "collapsed": false
   },
   "outputs": [
    {
     "data": {
      "text/plain": [
       "<matplotlib.image.AxesImage at 0x119e4ded0>"
      ]
     },
     "execution_count": 259,
     "metadata": {},
     "output_type": "execute_result"
    },
    {
     "data": {
      "image/png": "[encoded data removed]",
      "text/plain": [
       "<matplotlib.figure.Figure at 0x11b731190>"
      ]
     },
     "metadata": {},
     "output_type": "display_data"
    }
   ],
   "source": [
    "plt.imshow(mb_msm.transmat_,interpolation='none',cmap='Blues')\n",
    "plt.colorbar()"
   ]
  },
  {
   "cell_type": "code",
   "execution_count": 257,
   "metadata": {
    "collapsed": false
   },
   "outputs": [
    {
     "data": {
      "text/plain": [
       "array([ 2386.6973343 ,  2124.15400988,   868.50315148,   542.23366376,\n",
       "         461.61825623,   342.42937894,   329.21383234,   306.08793137,\n",
       "         291.13444798,   273.70417338,   233.21987947,   183.11442497,\n",
       "         166.66868366,   150.83480461,   132.35420308,   126.91098666,\n",
       "         111.48451148,   111.10446896,   107.4372967 ,    86.3657304 ,\n",
       "          82.02177768,    80.81463876,    77.48065404,    75.53640897,\n",
       "          72.17906818,    70.85761444,    65.79686366,    64.96976376,\n",
       "          63.23097398,    60.88176288,    55.81313318,    54.11290886,\n",
       "          52.46517744,    48.075868  ,    47.36537865,    39.56568796,\n",
       "          38.52040917,    37.04081281,    35.27445773,    33.39613074,\n",
       "          31.86687831,    30.49598232,    29.62247372,    27.51913611,\n",
       "          27.43795625,    25.93188985,    22.54373718,    16.84327271])"
      ]
     },
     "execution_count": 257,
     "metadata": {},
     "output_type": "execute_result"
    }
   ],
   "source": [
    "mb_msm.timescales_"
   ]
  },
  {
   "cell_type": "code",
   "execution_count": 258,
   "metadata": {
    "collapsed": false
   },
   "outputs": [
    {
     "data": {
      "text/plain": [
       "(32.405690405047153, 0.66134062051116638)"
      ]
     },
     "execution_count": 258,
     "metadata": {},
     "output_type": "execute_result"
    }
   ],
   "source": [
    "np.trace(mb_msm.transmat_),np.trace(mb_msm.transmat_)/len(mb_msm.transmat_)"
   ]
  },
  {
   "cell_type": "markdown",
   "metadata": {},
   "source": [
    "# 6. Coarse-grain / identify metastable macrostates"
   ]
  },
  {
   "cell_type": "code",
   "execution_count": 332,
   "metadata": {
    "collapsed": false
   },
   "outputs": [
    {
     "data": {
      "text/plain": [
       "999.9999999999999"
      ]
     },
     "execution_count": 332,
     "metadata": {},
     "output_type": "execute_result"
    }
   ],
   "source": [
    "# given a metastability threshold, choose number of metastable states\n",
    "from simtk import unit as u\n",
    "integration_timestep = 2.0 * u.femtosecond\n",
    "time_per_frame = 1000 * integration_timestep # this is probably wrong\n",
    "time_per_frame.value_in_unit(u.picosecond)\n",
    "\n",
    "metastability_threshold = 2 * u.nanosecond\n",
    "\n",
    "threshold_in_frames = metastability_threshold/time_per_frame\n",
    "threshold_in_frames"
   ]
  },
  {
   "cell_type": "code",
   "execution_count": 344,
   "metadata": {
    "collapsed": false
   },
   "outputs": [
    {
     "data": {
      "text/plain": [
       "6"
      ]
     },
     "execution_count": 344,
     "metadata": {},
     "output_type": "execute_result"
    }
   ],
   "source": [
    "n_macro = sum(msm.timescales()>5000)\n",
    "n_macro"
   ]
  },
  {
   "cell_type": "code",
   "execution_count": 345,
   "metadata": {
    "collapsed": true
   },
   "outputs": [],
   "source": [
    "#coarse-grain!"
   ]
  },
  {
   "cell_type": "code",
   "execution_count": 346,
   "metadata": {
    "collapsed": true
   },
   "outputs": [],
   "source": [
    "# coarse-grain with an HMM"
   ]
  },
  {
   "cell_type": "code",
   "execution_count": 347,
   "metadata": {
    "collapsed": false
   },
   "outputs": [
    {
     "name": "stdout",
     "output_type": "stream",
     "text": [
      "12-02-16 11:32:08 pyemma.msm.estimators.maximum_likelihood_hmsm.MaximumLikelihoodHMSM[33] WARNING  Requested coarse-grained model with 6 metastable states at lag=30.The ratio of relaxation timescales between 6 and 7 states is only 1.78197710828 while we recommend at least 2.  It is possible that the resulting HMM is inaccurate. Handle with caution.\n"
     ]
    }
   ],
   "source": [
    "hmm = pyemma.msm.estimate_hidden_markov_model([dtraj for dtraj in dtrajs if len(dtraj)>lag_time],nstates=n_macro,lag=lag_time)"
   ]
  },
  {
   "cell_type": "code",
   "execution_count": 348,
   "metadata": {
    "collapsed": false
   },
   "outputs": [
    {
     "data": {
      "text/plain": [
       "5.0055362889032473"
      ]
     },
     "execution_count": 348,
     "metadata": {},
     "output_type": "execute_result"
    }
   ],
   "source": [
    "np.trace(hmm.P)"
   ]
  },
  {
   "cell_type": "code",
   "execution_count": 349,
   "metadata": {
    "collapsed": false
   },
   "outputs": [
    {
     "data": {
      "text/plain": [
       "0.83425604815054122"
      ]
     },
     "execution_count": 349,
     "metadata": {},
     "output_type": "execute_result"
    }
   ],
   "source": [
    "np.trace(hmm.P)/len(hmm.P)"
   ]
  },
  {
   "cell_type": "code",
   "execution_count": 350,
   "metadata": {
    "collapsed": false
   },
   "outputs": [
    {
     "data": {
      "text/plain": [
       "[<matplotlib.lines.Line2D at 0x1703b7d90>]"
      ]
     },
     "execution_count": 350,
     "metadata": {},
     "output_type": "execute_result"
    },
    {
     "data": {
      "image/png": "[encoded data removed]",
      "text/plain": [
       "<matplotlib.figure.Figure at 0x170446f90>"
      ]
     },
     "metadata": {},
     "output_type": "display_data"
    }
   ],
   "source": [
    "hmm_lifetimes = 1/(1-np.diag(hmm.P))\n",
    "plt.plot(np.sort(hmm_lifetimes)[::-1],'.')"
   ]
  },
  {
   "cell_type": "code",
   "execution_count": 352,
   "metadata": {
    "collapsed": false
   },
   "outputs": [
    {
     "data": {
      "image/png": "[encoded data removed]",
      "text/plain": [
       "<matplotlib.figure.Figure at 0x17042e050>"
      ]
     },
     "metadata": {},
     "output_type": "display_data"
    }
   ],
   "source": [
    "plt.scatter(hmm.stationary_distribution,hmm_lifetimes)\n",
    "plt.xlabel('Stationary probability')\n",
    "plt.ylabel('Lifetime')\n",
    "\n",
    "#plt.xscale('log')\n",
    "plt.yscale('log')"
   ]
  },
  {
   "cell_type": "code",
   "execution_count": 353,
   "metadata": {
    "collapsed": false
   },
   "outputs": [
    {
     "data": {
      "text/plain": [
       "[<matplotlib.lines.Line2D at 0x17194c710>]"
      ]
     },
     "execution_count": 353,
     "metadata": {},
     "output_type": "execute_result"
    },
    {
     "data": {
      "image/png": "[encoded data removed]",
      "text/plain": [
       "<matplotlib.figure.Figure at 0x1716ef5d0>"
      ]
     },
     "metadata": {},
     "output_type": "display_data"
    }
   ],
   "source": [
    "msm_lifetimes = 1/(1-np.diag(msm.P))\n",
    "plt.plot(np.sort(msm_lifetimes)[::-1],'.')"
   ]
  },
  {
   "cell_type": "code",
   "execution_count": 354,
   "metadata": {
    "collapsed": false
   },
   "outputs": [
    {
     "data": {
      "image/png": "[encoded data removed]",
      "text/plain": [
       "<matplotlib.figure.Figure at 0x171964590>"
      ]
     },
     "metadata": {},
     "output_type": "display_data"
    }
   ],
   "source": [
    "plt.scatter(msm.stationary_distribution,msm_lifetimes)\n",
    "plt.xlabel('Stationary probability')\n",
    "plt.ylabel('Lifetime')\n",
    "\n",
    "#plt.xscale('log')\n",
    "plt.yscale('log')"
   ]
  },
  {
   "cell_type": "code",
   "execution_count": 363,
   "metadata": {
    "collapsed": false
   },
   "outputs": [
    {
     "data": {
      "text/plain": [
       "49"
      ]
     },
     "execution_count": 363,
     "metadata": {},
     "output_type": "execute_result"
    }
   ],
   "source": [
    "mb_msm.n_states_"
   ]
  },
  {
   "cell_type": "code",
   "execution_count": 366,
   "metadata": {
    "collapsed": false
   },
   "outputs": [],
   "source": [
    "# coarse-grain with PCCA\n",
    "\n",
    "from msmbuilder import lumping\n",
    "\n",
    "pcca = lumping.PCCA(n_macro)\n",
    "pcca = pcca.from_msm(mb_msm,n_macro)"
   ]
  },
  {
   "cell_type": "code",
   "execution_count": null,
   "metadata": {
    "collapsed": true
   },
   "outputs": [],
   "source": [
    "# to-do: analyze"
   ]
  },
  {
   "cell_type": "code",
   "execution_count": null,
   "metadata": {
    "collapsed": true
   },
   "outputs": [],
   "source": [
    "# to-do: coarse-grain with PCCA+\n",
    "from msmbuilder.msm import PCCAPlus"
   ]
  },
  {
   "cell_type": "code",
   "execution_count": null,
   "metadata": {
    "collapsed": true
   },
   "outputs": [],
   "source": [
    "# to-do: examine structures within clusters\n",
    "\n",
    "# can i plot exemplar structures here?\n",
    "# use one of the packages for in-browser visualization developed by @rmcgibbo or @cxhr ?"
   ]
  }
 ],
 "metadata": {
  "kernelspec": {
   "display_name": "Python 2",
   "language": "python",
   "name": "python2"
  },
  "language_info": {
   "codemirror_mode": {
    "name": "ipython",
    "version": 2
   },
   "file_extension": ".py",
   "mimetype": "text/x-python",
   "name": "python",
   "nbconvert_exporter": "python",
   "pygments_lexer": "ipython2",
   "version": "2.7.10"
  }
 },
 "nbformat": 4,
 "nbformat_minor": 0
}
