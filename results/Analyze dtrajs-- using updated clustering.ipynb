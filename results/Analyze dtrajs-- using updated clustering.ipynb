{
 "cells": [
  {
   "cell_type": "code",
   "execution_count": 1,
   "metadata": {
    "collapsed": true
   },
   "outputs": [],
   "source": [
    "from utils import load_dtrajs_from_npz"
   ]
  },
  {
   "cell_type": "code",
   "execution_count": 2,
   "metadata": {
    "collapsed": true
   },
   "outputs": [],
   "source": [
    "import numpy as np\n",
    "import matplotlib.pyplot as plt\n",
    "%matplotlib inline"
   ]
  },
  {
   "cell_type": "code",
   "execution_count": 3,
   "metadata": {
    "collapsed": true
   },
   "outputs": [],
   "source": [
    "# updated clustering\n",
    "raw_dtrajs_abl = load_dtrajs_from_npz('abl_11400_2000_t_dtrajs.npz')\n",
    "raw_dtrajs_src = load_dtrajs_from_npz('src_11401_2000_t_dtrajs.npz')"
   ]
  },
  {
   "cell_type": "code",
   "execution_count": 4,
   "metadata": {
    "collapsed": false
   },
   "outputs": [],
   "source": [
    "import pyemma"
   ]
  },
  {
   "cell_type": "code",
   "execution_count": 99,
   "metadata": {
    "collapsed": true
   },
   "outputs": [],
   "source": [
    "lags=[1,2,5,10,25,50,100,250,500,1000]"
   ]
  },
  {
   "cell_type": "code",
   "execution_count": 100,
   "metadata": {
    "collapsed": false
   },
   "outputs": [
    {
     "name": "stdout",
     "output_type": "stream",
     "text": [
      "estimating MaximumLikelihoodMSM: 100% (10/10) [####################] eta 00:14 \\29-02-16 10:36:42 pyemma.msm.estimators.implied_timescales.ImpliedTimescales[1] WARNING  Estimation has failed at lagtimes: [ 50 100 250 500]. Run single-lag estimation at these lags to track down the error.\n"
     ]
    }
   ],
   "source": [
    "its = pyemma.msm.its(raw_dtrajs_abl,nits=10,lags=lags)"
   ]
  },
  {
   "cell_type": "code",
   "execution_count": 101,
   "metadata": {
    "collapsed": false
   },
   "outputs": [
    {
     "data": {
      "text/plain": [
       "<matplotlib.axes._subplots.AxesSubplot at 0x10ce33790>"
      ]
     },
     "execution_count": 101,
     "metadata": {},
     "output_type": "execute_result"
    },
    {
     "data": {
      "image/png": "[encoded data removed]",
      "text/plain": [
       "<matplotlib.figure.Figure at 0x10ce331d0>"
      ]
     },
     "metadata": {},
     "output_type": "display_data"
    }
   ],
   "source": [
    "pyemma.plots.plot_implied_timescales(its)"
   ]
  },
  {
   "cell_type": "code",
   "execution_count": 118,
   "metadata": {
    "collapsed": false
   },
   "outputs": [
    {
     "data": {
      "text/plain": [
       "2.4999999999999996"
      ]
     },
     "execution_count": 118,
     "metadata": {},
     "output_type": "execute_result"
    }
   ],
   "source": [
    "import simtk.unit as u\n",
    "(10*250*u.picosecond).value_in_unit(u.nanosecond)"
   ]
  },
  {
   "cell_type": "code",
   "execution_count": 114,
   "metadata": {
    "collapsed": false
   },
   "outputs": [
    {
     "ename": "Exception",
     "evalue": "Stationary distribution contains entries smaller than 1e-15 during iteration",
     "output_type": "error",
     "traceback": [
      "\u001b[0;31m---------------------------------------------------------------------------\u001b[0m",
      "\u001b[0;31mException\u001b[0m                                 Traceback (most recent call last)",
      "\u001b[0;32m<ipython-input-114-6e99626b815c>\u001b[0m in \u001b[0;36m<module>\u001b[0;34m()\u001b[0m\n\u001b[0;32m----> 1\u001b[0;31m \u001b[0mpyemma\u001b[0m\u001b[0;34m.\u001b[0m\u001b[0mmsm\u001b[0m\u001b[0;34m.\u001b[0m\u001b[0mestimate_markov_model\u001b[0m\u001b[0;34m(\u001b[0m\u001b[0mraw_dtrajs_abl\u001b[0m\u001b[0;34m,\u001b[0m\u001b[0mlag\u001b[0m\u001b[0;34m=\u001b[0m\u001b[0;36m50\u001b[0m\u001b[0;34m)\u001b[0m\u001b[0;34m\u001b[0m\u001b[0m\n\u001b[0m",
      "\u001b[0;32m/Users/joshuafass/anaconda/envs/py27/lib/python2.7/site-packages/pyemma/msm/api.pyc\u001b[0m in \u001b[0;36mestimate_markov_model\u001b[0;34m(dtrajs, lag, reversible, statdist, count_mode, sparse, connectivity, dt_traj, maxiter, maxerr)\u001b[0m\n\u001b[1;32m    501\u001b[0m                     maxerr=maxerr)\n\u001b[1;32m    502\u001b[0m     \u001b[0;31m# estimate and return\u001b[0m\u001b[0;34m\u001b[0m\u001b[0;34m\u001b[0m\u001b[0m\n\u001b[0;32m--> 503\u001b[0;31m     \u001b[0;32mreturn\u001b[0m \u001b[0mmlmsm\u001b[0m\u001b[0;34m.\u001b[0m\u001b[0mestimate\u001b[0m\u001b[0;34m(\u001b[0m\u001b[0mdtrajs\u001b[0m\u001b[0;34m)\u001b[0m\u001b[0;34m\u001b[0m\u001b[0m\n\u001b[0m\u001b[1;32m    504\u001b[0m \u001b[0;34m\u001b[0m\u001b[0m\n\u001b[1;32m    505\u001b[0m \u001b[0;34m\u001b[0m\u001b[0m\n",
      "\u001b[0;32m/Users/joshuafass/anaconda/envs/py27/lib/python2.7/site-packages/pyemma/_base/estimator.pyc\u001b[0m in \u001b[0;36mestimate\u001b[0;34m(self, X, **params)\u001b[0m\n\u001b[1;32m    339\u001b[0m         \u001b[0;32mif\u001b[0m \u001b[0mparams\u001b[0m\u001b[0;34m:\u001b[0m\u001b[0;34m\u001b[0m\u001b[0m\n\u001b[1;32m    340\u001b[0m             \u001b[0mself\u001b[0m\u001b[0;34m.\u001b[0m\u001b[0mset_params\u001b[0m\u001b[0;34m(\u001b[0m\u001b[0;34m**\u001b[0m\u001b[0mparams\u001b[0m\u001b[0;34m)\u001b[0m\u001b[0;34m\u001b[0m\u001b[0m\n\u001b[0;32m--> 341\u001b[0;31m         \u001b[0mself\u001b[0m\u001b[0;34m.\u001b[0m\u001b[0m_model\u001b[0m \u001b[0;34m=\u001b[0m \u001b[0mself\u001b[0m\u001b[0;34m.\u001b[0m\u001b[0m_estimate\u001b[0m\u001b[0;34m(\u001b[0m\u001b[0mX\u001b[0m\u001b[0;34m)\u001b[0m\u001b[0;34m\u001b[0m\u001b[0m\n\u001b[0m\u001b[1;32m    342\u001b[0m         \u001b[0mself\u001b[0m\u001b[0;34m.\u001b[0m\u001b[0m_estimated\u001b[0m \u001b[0;34m=\u001b[0m \u001b[0mTrue\u001b[0m\u001b[0;34m\u001b[0m\u001b[0m\n\u001b[1;32m    343\u001b[0m         \u001b[0;32mreturn\u001b[0m \u001b[0mself\u001b[0m\u001b[0;34m.\u001b[0m\u001b[0m_model\u001b[0m\u001b[0;34m\u001b[0m\u001b[0m\n",
      "\u001b[0;32m/Users/joshuafass/anaconda/envs/py27/lib/python2.7/site-packages/pyemma/msm/estimators/maximum_likelihood_msm.pyc\u001b[0m in \u001b[0;36m_estimate\u001b[0;34m(self, dtrajs)\u001b[0m\n\u001b[1;32m    263\u001b[0m             P = msmest.transition_matrix(self._C_active, reversible=self.reversible,\n\u001b[1;32m    264\u001b[0m                                          \u001b[0mmu\u001b[0m\u001b[0;34m=\u001b[0m\u001b[0mstatdist_active\u001b[0m\u001b[0;34m,\u001b[0m \u001b[0mmaxiter\u001b[0m\u001b[0;34m=\u001b[0m\u001b[0mself\u001b[0m\u001b[0;34m.\u001b[0m\u001b[0mmaxiter\u001b[0m\u001b[0;34m,\u001b[0m\u001b[0;34m\u001b[0m\u001b[0m\n\u001b[0;32m--> 265\u001b[0;31m                                          maxerr=self.maxerr)\n\u001b[0m\u001b[1;32m    266\u001b[0m         \u001b[0;32melif\u001b[0m \u001b[0mself\u001b[0m\u001b[0;34m.\u001b[0m\u001b[0mconnectivity\u001b[0m \u001b[0;34m==\u001b[0m \u001b[0;34m'none'\u001b[0m\u001b[0;34m:\u001b[0m\u001b[0;34m\u001b[0m\u001b[0m\n\u001b[1;32m    267\u001b[0m             \u001b[0;31m# reversible mode only possible if active set is connected\u001b[0m\u001b[0;34m\u001b[0m\u001b[0;34m\u001b[0m\u001b[0m\n",
      "\u001b[0;32m/Users/joshuafass/anaconda/envs/py27/lib/python2.7/site-packages/msmtools/estimation/api.pyc\u001b[0m in \u001b[0;36mtransition_matrix\u001b[0;34m(C, reversible, mu, method, **kwargs)\u001b[0m\n\u001b[1;32m    939\u001b[0m         \u001b[0;32mif\u001b[0m \u001b[0mmu\u001b[0m \u001b[0;32mis\u001b[0m \u001b[0mNone\u001b[0m\u001b[0;34m:\u001b[0m\u001b[0;34m\u001b[0m\u001b[0m\n\u001b[1;32m    940\u001b[0m             \u001b[0;32mif\u001b[0m \u001b[0msparse_computation\u001b[0m\u001b[0;34m:\u001b[0m\u001b[0;34m\u001b[0m\u001b[0m\n\u001b[0;32m--> 941\u001b[0;31m                 \u001b[0mT\u001b[0m \u001b[0;34m=\u001b[0m \u001b[0msparse\u001b[0m\u001b[0;34m.\u001b[0m\u001b[0mmle_trev\u001b[0m\u001b[0;34m.\u001b[0m\u001b[0mmle_trev\u001b[0m\u001b[0;34m(\u001b[0m\u001b[0mC\u001b[0m\u001b[0;34m,\u001b[0m \u001b[0;34m**\u001b[0m\u001b[0mkwargs\u001b[0m\u001b[0;34m)\u001b[0m\u001b[0;34m\u001b[0m\u001b[0m\n\u001b[0m\u001b[1;32m    942\u001b[0m             \u001b[0;32melse\u001b[0m\u001b[0;34m:\u001b[0m\u001b[0;34m\u001b[0m\u001b[0m\n\u001b[1;32m    943\u001b[0m                 \u001b[0mT\u001b[0m \u001b[0;34m=\u001b[0m \u001b[0mdense\u001b[0m\u001b[0;34m.\u001b[0m\u001b[0mmle_trev\u001b[0m\u001b[0;34m.\u001b[0m\u001b[0mmle_trev\u001b[0m\u001b[0;34m(\u001b[0m\u001b[0mC\u001b[0m\u001b[0;34m,\u001b[0m \u001b[0;34m**\u001b[0m\u001b[0mkwargs\u001b[0m\u001b[0;34m)\u001b[0m\u001b[0;34m\u001b[0m\u001b[0m\n",
      "\u001b[0;32mmsmtools/estimation/sparse/mle_trev.pyx\u001b[0m in \u001b[0;36mmsmtools.estimation.sparse.mle_trev.mle_trev (msmtools/estimation/sparse/mle_trev.c:2266)\u001b[0;34m()\u001b[0m\n",
      "\u001b[0;31mException\u001b[0m: Stationary distribution contains entries smaller than 1e-15 during iteration"
     ]
    }
   ],
   "source": [
    "pyemma.msm.estimate_markov_model(raw_dtrajs_abl,lag=50)"
   ]
  },
  {
   "cell_type": "code",
   "execution_count": 6,
   "metadata": {
    "collapsed": true
   },
   "outputs": [],
   "source": [
    "def trim_dtrajs(dtrajs,length_to_discard=10,min_length=100):\n",
    "   ''' Ignore trajectories under a specified length, and discard\n",
    "   the initial frames of the remainder.\n",
    "\n",
    "   Parameters\n",
    "   ----------\n",
    "   dtrajs : list of arrays\n",
    "\n",
    "   length_to_discard : int, optional\n",
    "   min_length : int, optional\n",
    "\n",
    "   Returns\n",
    "   -------\n",
    "   trimmed : list of arrays\n",
    "   '''\n",
    "   trimmed = [traj[length_to_discard:] for traj in dtrajs if len(traj)>length_to_discard]\n",
    "   return trimmed"
   ]
  },
  {
   "cell_type": "code",
   "execution_count": 7,
   "metadata": {
    "collapsed": true
   },
   "outputs": [],
   "source": [
    "dtrajs_abl = trim_dtrajs(raw_dtrajs_abl)\n",
    "dtrajs_src = trim_dtrajs(raw_dtrajs_src)"
   ]
  },
  {
   "cell_type": "code",
   "execution_count": 8,
   "metadata": {
    "collapsed": false
   },
   "outputs": [],
   "source": [
    "import numpy as np\n",
    "import mdtraj as md\n",
    "from pyemma import msm\n",
    "import pyemma.plots as mplt\n",
    "import matplotlib.pyplot as plt\n",
    "import numpy.random as npr\n",
    "plt.rc('font',family='serif')\n",
    "%matplotlib inline"
   ]
  },
  {
   "cell_type": "code",
   "execution_count": 102,
   "metadata": {
    "collapsed": false,
    "scrolled": false
   },
   "outputs": [],
   "source": [
    "import msmbuilder\n",
    "import msmbuilder.msm\n",
    "lag_frames = 10\n",
    "ergodic_cutoff_in_frames=20\n",
    "ergodic_cutoff = 1.0*ergodic_cutoff_in_frames/lag_frames"
   ]
  },
  {
   "cell_type": "code",
   "execution_count": 103,
   "metadata": {
    "collapsed": false
   },
   "outputs": [
    {
     "name": "stdout",
     "output_type": "stream",
     "text": [
      "Markov state model\n",
      "------------------\n",
      "Lag time         : 10\n",
      "Reversible type  : transpose\n",
      "Ergodic cutoff   : off\n",
      "Prior counts     : 0\n",
      "\n",
      "Number of states : 2000\n",
      "Number of nonzero entries in counts matrix : 7731 (0.193275%)\n",
      "Nonzero counts matrix entries:\n",
      "    Min.   : 0.1\n",
      "    1st Qu.: 0.3\n",
      "    Median : 1.1\n",
      "    Mean   : 10.4\n",
      "    3rd Qu.: 9.4\n",
      "    Max.   : 348.9\n",
      "\n",
      "Total transition counts :\n",
      "    80217.7 counts\n",
      "Total transition counts / lag_time:\n",
      "    8021.77 units\n",
      "Timescales:\n",
      "    [-883058750464808.12, -3002399751580335.50, -3216856876693216.50, -22517998136852484.00, -22517998136852484.00, -inf, -inf, 45035996273704960.00, 15011998757901648.00, 15011998757901648.00, 9007199254740987.00, 3335999723978140.50, 3002399751580325.50, 2434378176957019.50, 2094697501102551.50, 783234717803559.50, 941015.32, 629259.00, 204487.54, 182730.73, 117908.79, 98718.28, 64152.70, 52492.54, 47336.86, 42017.12, 40259.65, 33897.87, 32653.83, 31850.29, 31714.41, 30297.00, 28770.86, 28328.22, 24725.01, 24617.59, 24348.23, 21099.87, 20772.98, 20070.32, 19159.79, 18495.21, 17679.95, 17007.39, 16601.56, 16584.34, 16229.80, 15501.04, 15222.56, 14883.17, 14484.62, 14186.82, 13811.72, 13467.94, 13283.43, 13272.10, 11851.95, 11812.32, 11777.45, 11721.20, 11709.57, 11335.32, 11167.45, 11003.59, 10970.81, 10886.11, 10843.93, 10747.18, 10719.61, 10706.27, 10633.15, 10603.53, 9948.36, 9856.17, 9524.62, 9468.95, 9125.38, 8886.16, 8884.30, 8884.05, 8750.34, 8594.77, 8540.48, 8481.47, 8367.18, 8061.29, 8060.59, 8041.41, 7931.44, 7824.48, 7794.36, 7689.83, 7675.61, 7616.51, 7568.01, 7492.34, 7488.02, 7467.96, 7442.24, 7200.13, 7197.26, 7150.70, 6991.91, 6983.33, 6952.85, 6946.22, 6765.19, 6524.72, 6524.01, 6470.33, 6399.92, 6359.23, 6322.97, 6279.17, 6214.27, 6172.57, 6164.87, 6147.61, 6118.40, 6113.43, 6033.60, 5990.38, 5971.38, 5713.07, 5633.91, 5627.96, 5605.05, 5559.31, 5556.40, 5503.77, 5478.95, 5474.58, 5419.13, 5359.88, 5294.70, 5269.92, 5243.78, 5199.69, 5134.49, 5115.94, 5101.22, 5042.04, 5011.60, 4958.48, 4935.46, 4924.09, 4881.19, 4858.61, 4855.52, 4835.79, 4810.00, 4787.36, 4736.51, 4711.75, 4679.43, 4660.13, 4632.16, 4615.42, 4595.75, 4536.78, 4533.09, 4494.64, 4459.34, 4406.83, 4358.17, 4356.16, 4331.01, 4331.00, 4306.42, 4287.08, 4276.41, 4260.08, 4218.07, 4202.00, 4143.09, 4141.44, 4135.46, 4082.67, 4016.61, 4005.60, 3968.30, 3931.56, 3918.63, 3914.72, 3895.01, 3891.28, 3875.82, 3857.68, 3844.50, 3839.45, 3809.18, 3786.47, 3779.00, 3745.38, 3743.50, 3708.06, 3674.49, 3638.70, 3600.58, 3581.93, 3553.84, 3540.47, 3514.91, 3489.23, 3459.82, 3406.66, 3391.18, 3385.92, 3355.80, 3350.23, 3317.57, 3243.24, 3240.58, 3221.10, 3206.26, 3187.71, 3169.83, 3136.60, 3125.20, 3119.27, 3095.58, 3062.62, 3020.80, 3020.26, 3002.74, 2985.95, 2918.00, 2904.56, 2896.89, 2890.88, 2878.96, 2876.65, 2858.33, 2855.21, 2853.41, 2799.43, 2781.11, 2708.42, 2685.00, 2655.41, 2632.10, 2620.54, 2617.03, 2607.51, 2592.91, 2590.41, 2560.84, 2532.62, 2512.89, 2500.33, 2493.89, 2488.24, 2479.09, 2456.62, 2445.73, 2438.76, 2423.11, 2422.21, 2418.42, 2400.16, 2388.70, 2378.56, 2377.50, 2343.82, 2329.18, 2317.51, 2311.42, 2292.99, 2287.32, 2238.44, 2226.40, 2221.92, 2189.74, 2185.67, 2155.14, 2143.21, 2099.67, 2097.77, 2097.32, 2081.79, 2058.03, 2027.05, 2014.83, 2009.58, 2000.52, 1992.41, 1974.82, 1974.71, 1968.50, 1957.38, 1955.74, 1954.88, 1953.67, 1938.95, 1935.16, 1893.19, 1880.18, 1843.58, 1836.09, 1829.97, 1814.06, 1808.03, 1806.18, 1800.43, 1774.02, 1764.92, 1757.65, 1752.03, 1736.50, 1719.50, 1717.28, 1684.98, 1676.74, 1676.55, 1672.44, 1647.09, 1645.00, 1613.00, 1604.31, 1603.05, 1564.43, 1563.97, 1538.83, 1527.83, 1526.83, 1526.79, 1525.92, 1491.76, 1491.17, 1490.75, 1484.73, 1479.23, 1473.47, 1466.68, 1461.02, 1442.42, 1426.30, 1417.76, 1412.16, 1409.33, 1397.83, 1390.93, 1386.67, 1380.41, 1379.14, 1378.12, 1372.39, 1350.66, 1347.69, 1333.15, 1330.88, 1316.54, 1315.90, 1305.78, 1301.49, 1295.54, 1280.93, 1267.98, 1263.55, 1261.86, 1254.45, 1243.48, 1234.68, 1224.88, 1215.46, 1207.74, 1206.00, 1198.67, 1195.97, 1190.41, 1188.36, 1180.53, 1170.54, 1166.66, 1160.34, 1156.25, 1148.57, 1147.11, 1135.97, 1134.79, 1116.43, 1116.04, 1115.13, 1114.73, 1111.25, 1104.34, 1096.69, 1092.31, 1088.56, 1079.49, 1076.68, 1069.88, 1065.07, 1055.44, 1051.71, 1049.14, 1048.07, 1041.76, 1039.76, 1032.23, 1030.73, 1030.05, 1022.22, 1017.82, 1017.42, 1014.29, 1013.15, 1003.56, 1000.53, 995.93, 992.84, 979.30, 976.43, 974.47, 961.77, 959.26, 957.59, 949.40, 949.31, 933.75, 933.45, 929.35, 924.84, 922.93, 919.54, 916.77, 913.93, 912.92, 911.02, 909.14, 903.97, 898.40, 897.95, 889.29, 887.61, 876.50, 873.80, 873.04, 870.96, 870.16, 865.24, 860.49, 858.99, 858.33, 857.49, 851.61, 848.13, 847.57, 842.77, 842.12, 835.97, 831.60, 822.33, 818.98, 808.13, 794.78, 788.16, 783.72, 779.68, 777.77, 768.46, 764.18, 763.48, 762.93, 762.91, 757.51, 754.61, 753.79, 748.05, 745.77, 744.00, 743.69, 740.31, 738.63, 738.18, 735.51, 734.42, 727.87, 721.39, 710.88, 705.60, 703.99, 703.78, 703.20, 702.82, 696.03, 695.84, 692.61, 692.06, 689.73, 687.36, 685.89, 683.20, 675.66, 671.36, 671.25, 665.85, 665.10, 664.63, 657.14, 652.53, 651.16, 649.49, 644.94, 639.89, 636.86, 633.54, 632.35, 629.50, 626.11, 625.94, 623.48, 616.45, 612.37, 611.00, 607.44, 606.61, 604.73, 603.82, 602.28, 599.07, 599.06, 597.60, 595.26, 593.42, 592.98, 590.88, 586.24, 585.62, 578.84, 576.00, 574.83, 573.40, 573.28, 570.59, 567.02, 566.93, 565.73, 565.53, 565.25, 564.38, 557.55, 556.82, 554.57, 554.26, 551.19, 550.48, 542.95, 539.59, 539.41, 538.55, 536.52, 535.64, 532.82, 527.33, 524.15, 523.80, 522.99, 522.24, 518.75, 514.69, 513.77, 510.39, 509.99, 509.67, 508.70, 508.54, 507.78, 507.01, 506.41, 505.35, 504.77, 504.73, 503.96, 503.58, 501.47, 500.02, 495.06, 494.69, 493.26, 491.50, 490.98, 490.78, 490.74, 490.57, 489.40, 483.92, 482.95, 480.43, 479.52, 479.52, 478.05, 477.04, 475.44, 475.33, 471.41, 469.70, 468.96, 467.13, 465.42, 465.35, 463.50, 461.24, 460.34, 459.07, 456.85, 455.67, 454.84, 450.03, 449.19, 447.50, 446.10, 444.00, 441.38, 440.19, 439.78, 438.93, 438.36, 436.93, 436.79, 436.67, 433.37, 432.85, 431.38, 429.36, 428.26, 428.23, 428.22, 423.94, 423.86, 422.66, 421.51, 420.38, 417.97, 417.13, 416.20, 414.12, 413.68, 412.63, 411.75, 411.13, 411.06, 410.78, 409.54, 408.33, 407.83, 407.38, 406.45, 406.08, 405.96, 402.59, 402.52, 402.36, 399.91, 399.53, 398.79, 395.93, 394.05, 392.81, 392.18, 391.31, 389.49, 389.13, 387.92, 386.38, 386.35, 384.49, 383.50, 379.88, 379.09, 378.45, 377.51, 376.97, 376.96, 376.28, 375.14, 373.16, 370.26, 370.14, 369.76, 368.60, 368.38, 366.79, 365.83, 365.68, 364.30, 363.81, 362.61, 359.99, 358.89, 357.11, 356.02, 353.68, 353.23, 351.19, 350.94, 349.67, 347.93, 345.81, 345.73, 345.11, 344.77, 343.04, 342.34, 342.09, 342.02, 341.92, 340.62, 340.31, 340.11, 338.45, 338.42, 338.38, 335.88, 335.63, 335.45, 334.97, 334.48, 328.62, 327.56, 326.85, 326.39, 326.31, 320.86, 319.07, 318.40, 317.26, 315.82, 315.24, 314.95, 314.81, 314.68, 313.17, 312.27, 311.94, 311.70, 310.68, 310.28, 309.20, 307.66, 306.77, 306.23, 305.46, 304.14, 303.64, 303.20, 301.36, 299.84, 298.40, 298.06, 297.52, 296.33, 295.87, 294.88, 294.66, 294.62, 293.14, 292.67, 292.34, 291.22, 290.82, 290.62, 289.85, 287.84, 287.58, 287.26, 287.11, 285.36, 284.90, 284.05, 283.97, 283.07, 282.34, 281.57, 281.04, 278.26, 277.71, 277.23, 277.18, 276.52, 276.13, 274.46, 274.23, 272.66, 272.24, 271.98, 271.72, 271.55, 271.39, 269.76, 268.90, 268.33, 268.17, 267.82, 267.25, 264.95, 264.64, 264.31, 263.67, 260.91, 259.90, 258.90, 258.59, 258.44, 258.36, 256.95, 256.25, 256.09, 255.40, 255.19, 254.76, 254.38, 253.75, 252.79, 252.73, 250.87, 250.51, 250.09, 249.76, 249.27, 248.64, 246.80, 246.39, 245.63, 244.85, 243.88, 243.60, 243.01, 242.55, 241.50, 240.89, 240.77, 240.20, 240.20, 239.58, 238.83, 238.80, 238.09, 237.28, 236.97, 236.84, 236.63, 236.57, 235.83, 234.63, 234.57, 234.22, 233.61, 232.74, 232.61, 232.57, 232.14, 230.69, 228.38, 228.29, 227.55, 227.25, 226.97, 226.93, 226.93, 226.68, 226.65, 224.97, 224.75, 224.36, 224.28, 223.58, 223.51, 223.39, 222.11, 221.62, 221.23, 219.15, 218.68, 218.00, 217.98, 217.64, 217.40, 217.20, 216.85, 216.75, 215.57, 215.16, 215.14, 213.59, 213.50, 212.22, 211.48, 210.74, 210.01, 209.60, 208.99, 208.83, 208.81, 207.84, 207.60, 207.07, 206.97, 206.73, 206.62, 206.08, 205.92, 205.77, 205.76, 205.54, 204.87, 204.72, 204.59, 203.63, 203.59, 202.93, 202.78, 202.72, 202.61, 201.59, 201.13, 200.78, 200.07, 200.03, 199.40, 198.73, 198.24, 197.72, 197.17, 196.86, 196.47, 196.10, 196.00, 195.97, 195.69, 195.62, 195.52, 195.14, 193.98, 192.62, 191.98, 191.88, 191.54, 191.41, 191.18, 190.97, 188.96, 187.83, 187.47, 187.01, 186.69, 185.93, 185.41, 184.69, 184.46, 184.34, 183.98, 183.33, 183.05, 182.50, 181.86, 181.15, 181.05, 180.78, 180.07, 180.04, 178.99, 178.86, 178.34, 178.11, 177.95, 177.39, 176.97, 176.63, 175.93, 175.58, 175.34, 175.18, 175.07, 174.97, 174.86, 174.56, 174.09, 174.05, 173.77, 173.69, 173.42, 172.10, 171.95, 171.94, 171.93, 171.38, 170.41, 170.19, 169.65, 168.67, 168.61, 168.26, 168.13, 167.91, 167.52, 167.22, 166.80, 166.71, 166.61, 166.33, 166.28, 165.87, 165.61, 164.98, 164.08, 163.76, 163.73, 163.70, 163.61, 163.27, 162.80, 162.54, 162.38, 162.26, 162.22, 162.04, 161.94, 161.36, 161.35, 161.16, 160.75, 160.55, 159.08, 158.84, 158.77, 158.76, 158.39, 158.10, 157.95, 157.72, 157.47, 157.34, 157.30, 156.67, 156.11, 155.73, 155.62, 155.55, 155.44, 155.12, 154.64, 154.58, 154.25, 154.11, 154.01, 153.61, 153.28, 152.92, 152.59, 152.55, 152.25, 151.89, 151.44, 151.26, 150.96, 150.85, 150.80, 150.43, 150.30, 149.72, 149.65, 149.42, 148.47, 148.03, 147.84, 147.59, 147.54, 147.44, 147.44, 147.14, 146.95, 146.82, 146.69, 146.30, 146.02, 145.61, 145.46, 145.34, 145.22, 145.09, 144.93, 144.26, 143.82, 143.45, 142.94, 142.92, 142.16, 142.14, 142.08, 141.87, 141.54, 141.39, 140.47, 140.47, 140.43, 140.38, 140.19, 139.90, 139.40, 139.39, 139.18, 138.97, 138.17, 137.85, 137.77, 137.51, 136.76, 136.49, 136.25, 136.16, 136.15, 135.80, 135.11, 134.80, 134.77, 134.54, 134.50, 134.31, 134.09, 134.07, 133.01, 132.55, 132.47, 132.45, 132.26, 132.21, 132.04, 131.97, 131.95, 131.92, 131.82, 131.22, 131.00, 130.74, 130.70, 130.66, 130.36, 129.73, 129.40, 128.82, 128.77, 128.72, 128.56, 128.25, 128.06, 127.97, 127.70, 126.66, 126.45, 126.44, 126.43, 126.31, 126.14, 125.82, 125.29, 125.24, 124.86, 124.75, 124.61, 124.12, 123.62, 123.48, 123.35, 123.20, 122.84, 122.65, 122.51, 122.21, 121.45, 121.43, 121.35, 121.24, 120.89, 120.52, 120.50, 120.04, 120.01, 119.84, 119.75, 119.11, 118.97, 118.96, 118.92, 118.27, 118.20, 117.96, 117.95, 117.52, 117.44, 116.90, 116.35, 116.16, 116.11, 115.87, 115.82, 115.69, 115.48, 115.18, 114.96, 114.87, 113.73, 113.72, 113.67, 113.33, 113.00, 112.69, 112.23, 111.98, 111.88, 111.24, 111.20, 111.00, 110.88, 110.82, 110.59, 110.45, 110.05, 110.03, 109.93, 109.55, 109.44, 109.36, 109.04, 108.96, 108.88, 108.69, 108.38, 108.31, 108.31, 108.27, 108.25, 107.57, 107.37, 107.31, 107.30, 107.23, 107.01, 106.44, 106.32, 106.31, 106.26, 106.14, 105.94, 105.55, 105.19, 105.10, 105.08, 104.83, 104.68, 104.48, 104.30, 104.09, 103.95, 103.92, 103.85, 103.73, 103.63, 103.42, 103.42, 103.31, 103.29, 103.12, 102.90, 102.75, 102.62, 102.54, 102.39, 101.92, 101.91, 101.57, 101.04, 100.73, 100.62, 100.59, 100.28, 100.20, 100.08, 99.84, 99.77, 99.71, 99.67, 99.39, 99.39, 99.20, 99.19, 98.88, 98.87, 98.78, 98.75, 98.65, 98.64, 98.54, 98.37, 97.98, 97.84, 97.64, 97.44, 97.23, 97.13, 96.98, 96.79, 96.51, 96.49, 96.01, 95.78, 95.51, 95.24, 95.22, 95.03, 94.88, 94.68, 94.59, 94.37, 94.36, 94.29, 94.21, 94.20, 94.10, 94.09, 94.07, 93.97, 93.89, 93.09, 92.71, 92.35, 92.17, 92.03, 91.63, 91.62, 91.45, 91.40, 91.39, 91.19, 91.06, 90.98, 90.97, 90.76, 90.76, 90.67, 90.41, 90.36, 90.22, 90.18, 90.07, 90.04, 90.04, 89.89, 89.50, 89.33, 88.80, 88.79, 88.53, 88.24, 88.15, 87.98, 87.72, 87.64, 87.56, 87.38, 87.19, 87.10, 87.07, 86.96, 86.86, 86.85, 86.83, 86.77, 86.38, 86.04, 85.69, 85.44, 85.37, 85.31, 85.19, 85.18, 84.80, 84.78, 84.60, 84.49, 84.27, 84.03, 83.89, 83.82, 83.49, 83.47, 83.47, 83.39, 82.98, 82.96, 82.92, 82.81, 82.57, 82.45, 82.27, 82.21, 82.08, 81.99, 81.93, 81.68, 80.73, 80.71, 80.58, 80.57, 80.41, 80.33, 80.30, 80.30, 80.28, 80.20, 79.95, 79.85, 79.77, 79.73, 79.65, 79.49, 79.34, 79.34, 79.19, 79.04, 78.94, 78.85, 78.70, 78.68, 78.61, 77.97, 77.91, 77.82, 77.73, 77.63, 77.59, 77.55, 77.46, 77.31, 77.28, 77.20, 77.20, 76.91, 76.91, 76.89, 76.86, 76.68, 76.53, 76.44, 76.42, 76.35, 76.02, 76.00, 75.88, 75.64, 75.51, 75.44, 75.05, 74.84, 74.61, 74.58, 74.38, 74.32, 74.26, 74.20, 74.10, 73.91, 73.72, 73.52, 73.38, 73.29, 73.02, 72.94, 72.91, 72.91, 72.84, 72.64, 72.61, 72.60, 72.33, 72.03, 71.85, 71.73, 71.53, 71.52, 71.27, 71.22, 71.20, 71.17, 70.98, 70.89, 70.79, 70.73, 70.61, 70.24, 70.18, 70.14, 69.92, 69.90, 69.81, 69.67, 69.47, 69.30, 69.24, 69.19, 69.14, 68.81, 68.77, 68.63, 68.62, 68.59, 68.49, 68.48, 68.45, 68.35, 68.33, 68.28, 68.16, 68.11, 67.92, 67.90, 67.85, 67.57, 67.48, 67.42, 67.39, 67.31, 67.29, 67.19, 67.10, 67.08, 66.92, 66.91, 66.63, 66.39, 66.21, 66.10, 66.02, 65.98, 65.87, 65.66, 65.64, 65.63, 65.57, 65.48, 65.42, 65.06, 64.85, 64.66, 64.51, 64.46, 64.37, 64.32, 64.29, 64.23, 64.08, 63.98, 63.98, 63.95, 63.89, 63.89, 63.55, 63.43, 63.39, 63.34, 63.15, 62.78, 62.70, 62.61, 62.60, 62.59, 62.54, 62.44, 62.20, 62.02, 62.02, 61.81, 61.79, 61.76, 61.74, 61.71, 61.64, 61.25, 61.14, 61.02, 60.90, 60.85, 60.81, 60.41, 60.16, 60.08, 60.03, 59.93, 59.79, 59.68, 59.60, 59.50, 59.36, 59.32, 59.31, 59.22, 58.85, 58.59, 58.56, 58.52, 58.26, 58.10, 58.05, 58.03, 58.01, 58.00, 57.78, 57.73, 57.67, 57.50, 57.49, 57.45, 57.17, 57.16, 56.98, 56.98, 56.84, 56.83, 56.73, 56.68, 56.63, 56.47, 56.35, 56.16, 56.03, 55.92, 55.65, 55.43, 55.41, 55.34, 55.23, 55.06, 54.48, 54.43, 54.39, 54.37, 54.35, 54.19, 54.18, 54.02, 53.87, 53.80, 53.64, 53.62, 53.50, 53.33, 53.29, 53.21, 53.20, 53.14, 53.04, 52.82, 52.79, 52.76, 52.74, 52.58, 52.53, 52.33, 52.29, 52.25, 52.14, 52.08, 52.06, 51.98, 51.95, 51.90, 51.73, 51.71, 51.53, 51.39, 51.37, 51.34, 51.32, 51.29, 51.14, 51.04, 50.86, 50.83, 50.78, 50.59, 50.51, 50.39, 50.28, 50.28, 50.22, 50.15, 50.01, 49.81, 49.78, 49.75, 49.68, 49.53, 49.42, 49.35, 49.27, 49.16, 49.15, 49.05, 48.79, 48.70, 48.69, 48.66, 48.58, 48.47, 48.22, 48.13, 48.05, 48.03, 47.85, 47.68, 47.68, 47.65, 47.56, 47.46, 47.46, 47.42, 47.37, 47.20, 47.14, 47.05, 46.89, 46.81, 46.54, 46.50, 46.41, 46.37, 46.32, 46.29, 46.09, 45.87, 45.58, 45.43, 45.43, 45.31, 45.25, 45.22, 45.21, 45.16, 45.14, 45.00, 44.95, 44.92, 44.76, 44.69, 44.61, 44.37, 44.37, 44.36, 44.27, 44.20, 44.15, 44.11, 44.06, 44.02, 43.94, 43.93, 43.82, 43.77, 43.64, 43.60, 43.48, 43.43, 43.33, 42.78, 42.66, 42.59, 42.45, 42.43, 42.37, 42.27, 42.12, 41.97, 41.87, 41.82, 41.81, 41.77, 41.77, 41.62, 41.61, 41.56, 41.53, 41.41, 41.33, 41.31, 41.31, 41.14, 40.92, 40.90, 40.89, 40.83, 40.79, 40.48, 40.29, 39.97, 39.94, 39.63, 39.52, 39.50, 39.39, 39.36, 39.20, 39.19, 39.13, 38.90, 38.83, 38.72, 38.62, 38.56, 38.50, 38.48, 38.34, 38.27, 38.15, 38.02, 37.67, 37.65, 37.59, 37.56, 37.56, 37.50, 37.45, 36.99, 36.96, 36.95, 36.60, 36.50, 36.46, 36.45, 36.36, 36.18, 36.13, 35.99, 35.82, 35.80, 35.76, 35.75, 35.67, 35.63, 35.47, 35.36, 35.31, 35.29, 35.09, 35.06, 35.04, 34.95, 34.74, 34.70, 34.62, 34.37, 34.02, 33.84, 33.36, 33.31, 33.27, 33.27, 33.13, 33.05, 32.96, 32.82, 32.76, 32.74, 32.73, 32.70, 32.69, 32.68, 32.60, 32.29, 32.25, 32.11, 31.99, 31.59, 31.57, 31.42, 31.15, 31.14, 30.99, 30.98, 30.80, 30.77, 30.76, 30.71, 30.56, 30.48, 30.24, 30.21, 30.03, 29.96, 29.90, 29.77, 29.55, 29.28, 29.27, 28.92, 28.85, 28.40, 28.30, 28.07, 27.95, 27.90, 27.90, 27.83, 27.68, 27.44, 27.31, 27.31, 27.15, 26.99, 26.56, 26.48, 26.42, 26.05, 25.89, 25.88, 25.72, 25.62, 25.36, 25.21, 24.82, 24.68, 24.44, 24.37, 24.14, 23.92, 23.89, 23.75, 23.53, 23.18, 23.07, 22.59, 22.59, 22.46, 21.67, 21.49, 21.25, 21.22, 21.21, 21.03, 21.01, 20.98, 20.97, 20.92, 20.50, 20.22, 19.89, 19.51, 19.14, 19.13, 19.10, 18.94, 18.76, 18.71, 18.70, 18.42, 18.38, 18.13, 17.87, 17.51, 17.34, 17.10, 17.00, 16.76, 16.03, 15.94, 15.70, 15.19, 15.19, 15.05, 14.49, 14.12, 13.95, 13.74, 13.63, 13.32, 13.16, 11.57, 11.13, 10.10, 10.03, 9.48, 9.45, 8.80, 7.63, 6.53, 6.28, 6.17, 5.60, 5.26, 5.11, 4.28, nan, nan, nan, nan, nan, nan, nan, nan, nan]  units\n",
      "\n"
     ]
    },
    {
     "name": "stderr",
     "output_type": "stream",
     "text": [
      "/Users/joshuafass/anaconda/envs/py27/lib/python2.7/site-packages/msmbuilder/msm/core.py:310: RuntimeWarning: invalid value encountered in sqrt\n",
      "  lv[:, i] = lv[:, i] / np.sqrt(np.dot(lv[:, i], lv[:, i] / lv[:, 0]))\n"
     ]
    }
   ],
   "source": [
    "mb_msm_abl = msmbuilder.msm.MarkovStateModel(lag_time=lag_frames,\n",
    "                                             reversible_type='transpose',\n",
    "                                             #ergodic_cutoff=True,\n",
    "                                             ergodic_cutoff='off')\n",
    "mb_msm_abl.fit(dtrajs_abl)\n",
    "print(mb_msm_abl.summarize())"
   ]
  },
  {
   "cell_type": "code",
   "execution_count": 104,
   "metadata": {
    "collapsed": false
   },
   "outputs": [
    {
     "data": {
      "text/plain": [
       "<matplotlib.colorbar.Colorbar at 0x13efaf490>"
      ]
     },
     "execution_count": 104,
     "metadata": {},
     "output_type": "execute_result"
    },
    {
     "data": {
      "image/png": "[encoded data removed]",
      "text/plain": [
       "<matplotlib.figure.Figure at 0x13ef428d0>"
      ]
     },
     "metadata": {},
     "output_type": "display_data"
    }
   ],
   "source": [
    "plt.imshow(mb_msm_abl.countsmat_,cmap='Blues',interpolation='none');\n",
    "plt.colorbar()"
   ]
  },
  {
   "cell_type": "code",
   "execution_count": 105,
   "metadata": {
    "collapsed": false
   },
   "outputs": [
    {
     "data": {
      "text/plain": [
       "0.90235079594666556"
      ]
     },
     "execution_count": 105,
     "metadata": {},
     "output_type": "execute_result"
    }
   ],
   "source": [
    "np.trace(mb_msm_abl.transmat_)/len(mb_msm_abl.transmat_)"
   ]
  },
  {
   "cell_type": "code",
   "execution_count": 106,
   "metadata": {
    "collapsed": false
   },
   "outputs": [
    {
     "data": {
      "text/plain": [
       "0.91935944311542195"
      ]
     },
     "execution_count": 106,
     "metadata": {},
     "output_type": "execute_result"
    }
   ],
   "source": [
    "np.trace(mb_msm_abl.countsmat_)/np.sum(mb_msm_abl.countsmat_)"
   ]
  },
  {
   "cell_type": "code",
   "execution_count": 107,
   "metadata": {
    "collapsed": false
   },
   "outputs": [
    {
     "data": {
      "text/plain": [
       "1804.7015918933312"
      ]
     },
     "execution_count": 107,
     "metadata": {},
     "output_type": "execute_result"
    }
   ],
   "source": [
    "np.trace(mb_msm_abl.transmat_)"
   ]
  },
  {
   "cell_type": "code",
   "execution_count": null,
   "metadata": {
    "collapsed": true
   },
   "outputs": [],
   "source": []
  },
  {
   "cell_type": "code",
   "execution_count": 108,
   "metadata": {
    "collapsed": false
   },
   "outputs": [
    {
     "data": {
      "image/png": "[encoded data removed]",
      "text/plain": [
       "<matplotlib.figure.Figure at 0x13f448290>"
      ]
     },
     "metadata": {},
     "output_type": "display_data"
    }
   ],
   "source": [
    "plt.hist(np.hstack(raw_dtrajs_abl),bins=len(set(np.hstack(raw_dtrajs_abl))));"
   ]
  },
  {
   "cell_type": "code",
   "execution_count": null,
   "metadata": {
    "collapsed": true
   },
   "outputs": [],
   "source": []
  },
  {
   "cell_type": "code",
   "execution_count": 109,
   "metadata": {
    "collapsed": false
   },
   "outputs": [
    {
     "name": "stdout",
     "output_type": "stream",
     "text": [
      "MSM contains 1727 strongly connected components above weight=2.00. Component 115 selected, with population 2.055656%\n",
      "Markov state model\n",
      "------------------\n",
      "Lag time         : 10\n",
      "Reversible type  : mle\n",
      "Ergodic cutoff   : 2.0\n",
      "Prior counts     : 0\n",
      "\n",
      "Number of states : 16\n",
      "Number of nonzero entries in counts matrix : 88 (34.375%)\n",
      "Nonzero counts matrix entries:\n",
      "    Min.   : 0.1\n",
      "    1st Qu.: 0.7\n",
      "    Median : 2.7\n",
      "    Mean   : 18.2\n",
      "    3rd Qu.: 6.0\n",
      "    Max.   : 159.5\n",
      "\n",
      "Total transition counts :\n",
      "    1604.2 counts\n",
      "Total transition counts / lag_time:\n",
      "    160.42 units\n",
      "Timescales:\n",
      "    [1701.11, 285.72, 267.86, 194.55, 140.68, 139.06, 99.43, 90.69, 87.39, 84.66, 66.12, 58.88, 48.60, 42.05, 28.92]  units\n",
      "\n"
     ]
    }
   ],
   "source": [
    "mb_msm_abl = msmbuilder.msm.MarkovStateModel(lag_time=lag_frames,\n",
    "                                             #ergodic_cutoff=True,\n",
    "                                             ergodic_cutoff=ergodic_cutoff)\n",
    "mb_msm_abl.fit(dtrajs_abl)\n",
    "print(mb_msm_abl.summarize())"
   ]
  },
  {
   "cell_type": "code",
   "execution_count": 110,
   "metadata": {
    "collapsed": false
   },
   "outputs": [
    {
     "data": {
      "text/plain": [
       "1604.1999999999998"
      ]
     },
     "execution_count": 110,
     "metadata": {},
     "output_type": "execute_result"
    }
   ],
   "source": [
    "mb_msm_abl.countsmat_.sum()"
   ]
  },
  {
   "cell_type": "code",
   "execution_count": 111,
   "metadata": {
    "collapsed": false
   },
   "outputs": [
    {
     "name": "stdout",
     "output_type": "stream",
     "text": [
      "Markov state model\n",
      "------------------\n",
      "Lag time         : 10\n",
      "Reversible type  : transpose\n",
      "Ergodic cutoff   : off\n",
      "Prior counts     : 0\n",
      "\n",
      "Number of states : 1997\n",
      "Number of nonzero entries in counts matrix : 7778 (0.195034665168%)\n",
      "Nonzero counts matrix entries:\n",
      "    Min.   : 0.1\n",
      "    1st Qu.: 0.2\n",
      "    Median : 0.8\n",
      "    Mean   : 2.8\n",
      "    3rd Qu.: 2.3\n",
      "    Max.   : 61.5\n",
      "\n",
      "Total transition counts :\n",
      "    22120.6 counts\n",
      "Total transition counts / lag_time:\n",
      "    2212.06 units\n",
      "Timescales:\n",
      "    [-979043397254460.62, -1608428438346610.50, -1608428438346610.50, -5003999585967223.00, -5629499534213125.00, -5629499534213125.00, -6433713753386428.00, -6433713753386428.00, -7505999378950831.00, -7505999378950831.00, -7505999378950831.00, -9007199254740996.00, -9007199254740996.00, -9007199254740996.00, -9007199254740996.00, -11258999068426246.00, -11258999068426246.00, -11258999068426246.00, -11258999068426246.00, -11258999068426246.00, -11258999068426246.00, -15011998757901658.00, -15011998757901658.00, -22517998136852484.00, -22517998136852484.00, -22517998136852484.00, -22517998136852484.00, -22517998136852484.00, -22517998136852484.00, -22517998136852484.00, -45035996273704968.00, -45035996273704968.00, -45035996273704968.00, -inf, -inf, -inf, -inf, -inf, -inf, -inf, -inf, -inf, -inf, -inf, -inf, -inf, -inf, -inf, 90071992547409920.00, 90071992547409920.00, 90071992547409920.00, 90071992547409920.00, 45035996273704960.00, 45035996273704960.00, 45035996273704960.00, 45035996273704960.00, 45035996273704960.00, 30023997515803304.00, 30023997515803304.00, 30023997515803304.00, 22517998136852476.00, 18014398509481978.00, 18014398509481978.00, 15011998757901648.00, 15011998757901648.00, 12867427506772840.00, 12867427506772840.00, 12867427506772840.00, 11258999068426236.00, 10007999171934430.00, 10007999171934430.00, 10007999171934430.00, 9007199254740987.00, 9007199254740987.00, 9007199254740987.00, 8188362958855442.00, 8188362958855442.00, 8188362958855442.00, 7505999378950821.00, 6928614811339220.00, 6928614811339220.00, 6004799503160656.00, 5629499534213115.00, 5003999585967213.00, 4503599627370491.00, 2905548146690637.50, 2370315593352888.00, 1217189088478507.50, 341820.48, 109755.24, 88981.11, 64876.85, 56648.54, 44632.06, 31734.28, 27397.85, 26062.48, 24684.99, 24364.11, 23969.33, 20004.24, 18650.92, 18022.39, 14909.82, 14621.25, 12879.98, 12353.83, 12311.69, 10305.93, 10155.76, 9431.55, 9336.23, 9216.47, 8759.46, 8723.30, 8249.87, 8163.87, 7744.70, 7711.80, 7195.96, 6384.02, 6079.00, 5820.22, 5776.31, 5271.63, 5111.19, 4930.80, 4595.02, 4562.60, 4502.97, 4498.92, 4483.87, 4272.47, 4168.71, 4099.96, 4031.41, 4022.82, 3995.14, 3912.20, 3842.40, 3733.18, 3591.10, 3530.18, 3516.71, 3456.65, 3324.27, 3236.43, 3185.02, 3118.34, 3093.04, 3033.66, 3030.52, 3020.92, 2954.56, 2928.58, 2899.74, 2895.18, 2853.53, 2826.08, 2802.08, 2757.86, 2721.34, 2583.30, 2555.91, 2506.81, 2506.78, 2501.22, 2486.91, 2469.76, 2464.42, 2419.04, 2411.63, 2382.50, 2379.56, 2346.80, 2288.13, 2268.99, 2224.15, 2219.66, 2216.46, 2215.09, 2196.75, 2143.01, 2052.85, 2029.66, 2018.90, 2012.45, 1951.61, 1906.68, 1890.14, 1876.63, 1841.16, 1831.63, 1792.26, 1764.49, 1747.58, 1740.10, 1730.16, 1707.66, 1672.95, 1648.91, 1575.82, 1560.61, 1537.91, 1518.64, 1484.02, 1462.11, 1462.09, 1454.78, 1448.24, 1435.72, 1426.89, 1397.89, 1392.37, 1389.26, 1374.66, 1372.17, 1371.99, 1368.68, 1367.50, 1349.87, 1341.87, 1319.15, 1307.99, 1263.91, 1258.55, 1238.51, 1230.40, 1206.79, 1201.86, 1189.98, 1187.20, 1168.80, 1163.91, 1161.68, 1159.48, 1150.39, 1147.75, 1139.99, 1124.80, 1121.83, 1113.26, 1112.35, 1109.82, 1099.41, 1095.80, 1086.97, 1084.12, 1057.47, 1046.43, 1043.88, 1040.92, 1020.21, 1013.26, 1000.60, 988.04, 985.48, 969.55, 965.44, 961.54, 917.07, 903.77, 897.85, 897.80, 892.66, 881.71, 876.93, 872.29, 871.17, 861.30, 838.31, 838.15, 828.49, 809.21, 808.38, 808.17, 784.54, 773.29, 772.81, 753.45, 752.06, 749.65, 749.55, 743.92, 740.26, 733.27, 732.26, 732.16, 725.68, 720.27, 719.16, 714.05, 712.51, 702.21, 700.41, 699.82, 697.11, 687.73, 687.60, 675.56, 673.38, 670.23, 668.07, 658.05, 655.45, 649.20, 640.35, 635.31, 629.98, 629.34, 623.95, 621.77, 613.92, 613.08, 606.65, 605.24, 605.07, 601.58, 598.27, 597.16, 586.30, 581.39, 576.56, 575.06, 568.03, 562.42, 562.00, 560.37, 548.48, 548.05, 546.98, 540.54, 531.93, 531.62, 529.82, 524.62, 524.25, 522.90, 521.23, 505.29, 502.01, 497.66, 495.06, 493.77, 490.53, 488.11, 480.82, 480.76, 477.64, 476.50, 471.59, 468.56, 465.73, 464.32, 463.16, 456.47, 456.00, 448.95, 443.02, 438.38, 433.90, 428.89, 427.92, 426.94, 425.07, 419.92, 416.02, 412.28, 411.41, 408.19, 407.72, 406.76, 404.47, 400.11, 400.08, 396.38, 393.27, 392.02, 391.35, 390.97, 387.79, 386.82, 385.05, 384.26, 383.07, 380.67, 380.64, 379.55, 374.38, 374.13, 372.97, 372.03, 363.82, 363.40, 359.73, 359.60, 358.62, 356.88, 354.27, 354.23, 352.74, 352.44, 351.40, 349.99, 348.64, 346.69, 346.28, 345.46, 345.42, 343.19, 340.42, 335.92, 332.75, 330.88, 329.12, 328.29, 327.33, 326.56, 324.41, 323.32, 323.06, 321.59, 321.26, 320.53, 320.33, 320.00, 319.53, 315.46, 308.47, 307.52, 307.28, 306.41, 304.89, 300.98, 300.03, 299.76, 299.53, 299.07, 296.27, 296.07, 296.03, 295.97, 295.93, 295.65, 293.90, 292.54, 289.32, 285.68, 285.67, 284.62, 283.18, 281.24, 279.94, 279.15, 278.23, 277.42, 276.54, 274.95, 274.42, 271.89, 271.66, 271.53, 270.00, 267.44, 267.13, 263.97, 263.49, 263.25, 262.36, 257.60, 257.48, 255.71, 255.67, 255.47, 255.19, 254.78, 254.42, 254.14, 250.79, 250.22, 250.18, 248.26, 246.96, 246.17, 245.72, 243.90, 243.44, 242.72, 238.84, 238.15, 235.22, 234.36, 233.07, 232.62, 232.12, 232.08, 231.80, 230.80, 229.58, 229.15, 228.33, 228.18, 225.40, 225.29, 224.48, 224.38, 222.50, 221.10, 219.70, 219.04, 218.46, 216.84, 215.85, 214.66, 214.33, 213.41, 212.33, 211.67, 211.66, 208.91, 207.55, 206.68, 205.84, 204.66, 204.65, 204.00, 203.61, 202.82, 202.59, 201.60, 201.58, 200.07, 199.90, 199.67, 199.67, 198.65, 198.46, 198.26, 197.83, 195.88, 195.13, 193.19, 192.72, 191.98, 191.89, 191.67, 191.36, 190.65, 190.45, 189.63, 189.58, 186.46, 185.72, 185.29, 185.22, 184.70, 184.04, 182.44, 182.40, 179.37, 178.06, 177.74, 176.25, 175.50, 175.19, 174.78, 174.66, 174.19, 173.88, 173.80, 173.36, 171.89, 171.17, 170.84, 170.66, 168.73, 168.16, 168.00, 167.53, 166.92, 166.16, 166.15, 165.87, 164.91, 164.60, 163.88, 163.74, 162.96, 162.82, 162.27, 161.15, 160.62, 160.38, 160.36, 160.33, 160.09, 160.00, 159.83, 159.53, 159.15, 158.08, 157.90, 157.14, 156.03, 155.90, 155.61, 155.32, 154.40, 152.81, 152.63, 151.93, 151.49, 151.48, 150.59, 150.31, 149.81, 149.72, 149.64, 147.95, 147.32, 147.30, 147.20, 146.93, 145.52, 143.61, 143.13, 142.28, 140.87, 140.01, 139.74, 138.76, 138.68, 138.60, 138.08, 137.88, 137.73, 137.57, 136.99, 136.62, 136.56, 136.17, 136.12, 136.04, 135.92, 135.73, 135.58, 135.52, 135.45, 134.53, 133.74, 133.41, 133.38, 133.08, 133.05, 132.54, 131.91, 131.60, 131.25, 131.16, 130.29, 130.06, 129.88, 129.78, 128.50, 128.46, 127.85, 127.82, 127.53, 127.40, 127.33, 125.63, 125.29, 124.67, 124.34, 124.21, 124.21, 124.08, 123.24, 122.22, 122.14, 121.92, 121.19, 121.10, 120.87, 120.51, 120.33, 120.27, 119.70, 119.25, 119.10, 119.06, 119.02, 119.00, 118.30, 117.84, 117.16, 116.96, 116.82, 116.81, 116.66, 116.04, 115.71, 115.71, 115.57, 114.78, 114.42, 114.32, 114.07, 114.06, 112.95, 112.64, 112.16, 112.12, 111.46, 111.20, 111.06, 110.92, 110.61, 110.44, 109.87, 109.86, 109.75, 109.74, 108.15, 108.06, 107.75, 106.82, 106.24, 106.15, 105.68, 105.34, 105.10, 104.85, 104.24, 104.18, 104.06, 103.56, 103.55, 103.03, 102.78, 102.63, 101.81, 101.66, 101.53, 101.26, 100.81, 100.65, 100.63, 100.58, 99.63, 99.55, 99.53, 99.32, 99.23, 99.06, 99.01, 98.95, 98.69, 98.56, 98.44, 98.38, 98.33, 97.40, 97.31, 96.77, 96.67, 96.55, 96.32, 96.07, 95.72, 95.16, 95.06, 94.90, 94.60, 94.56, 94.44, 94.35, 94.10, 93.99, 93.34, 92.76, 92.75, 92.67, 92.44, 92.24, 91.62, 91.41, 91.35, 91.20, 91.11, 90.71, 90.57, 90.56, 90.40, 90.35, 90.21, 90.13, 89.93, 89.79, 89.73, 89.53, 89.47, 89.37, 89.09, 89.08, 88.50, 87.74, 87.72, 87.72, 87.65, 87.64, 87.09, 86.88, 86.70, 86.40, 86.37, 86.23, 86.22, 86.15, 86.00, 85.87, 85.85, 85.69, 85.68, 85.58, 85.09, 85.02, 84.47, 84.43, 83.56, 83.18, 83.05, 82.56, 82.37, 82.33, 82.31, 82.12, 82.05, 81.80, 81.57, 81.45, 81.34, 81.09, 80.95, 80.90, 80.64, 80.53, 80.52, 80.12, 80.03, 79.86, 79.23, 79.06, 78.98, 78.89, 78.68, 78.57, 78.45, 78.08, 77.96, 77.82, 77.64, 77.63, 77.44, 77.33, 77.19, 76.72, 76.47, 76.46, 76.35, 76.18, 75.82, 75.79, 75.60, 75.43, 75.21, 74.62, 74.56, 74.06, 73.86, 73.84, 73.73, 73.65, 73.55, 73.49, 73.02, 73.00, 72.90, 72.88, 72.80, 72.55, 72.53, 72.52, 72.31, 71.94, 71.81, 71.61, 71.40, 71.34, 71.33, 71.19, 71.14, 71.03, 70.68, 70.68, 70.62, 70.31, 70.30, 69.99, 69.70, 69.58, 69.36, 69.14, 68.99, 68.85, 68.82, 68.51, 68.36, 68.13, 68.06, 67.72, 67.58, 67.46, 67.42, 67.26, 67.06, 67.02, 66.92, 66.84, 66.45, 66.26, 66.17, 65.92, 65.80, 65.52, 65.33, 65.30, 65.04, 64.95, 64.93, 64.53, 64.49, 64.30, 64.26, 64.24, 64.16, 63.94, 63.90, 63.84, 63.65, 63.63, 63.45, 63.08, 62.92, 62.90, 62.88, 62.87, 62.75, 62.68, 62.62, 62.61, 62.57, 62.43, 62.38, 62.20, 61.87, 61.59, 61.56, 61.52, 61.49, 61.48, 61.30, 61.29, 61.03, 60.89, 60.74, 60.71, 60.61, 60.51, 60.47, 60.45, 60.24, 60.18, 60.09, 60.08, 59.77, 59.72, 59.58, 59.53, 59.53, 59.51, 59.36, 59.07, 58.88, 58.83, 58.37, 58.21, 58.01, 57.81, 57.79, 57.54, 57.52, 57.51, 57.48, 57.20, 56.84, 56.68, 56.48, 56.42, 55.97, 55.61, 55.51, 55.18, 54.98, 54.96, 54.80, 54.75, 54.55, 54.55, 54.48, 54.48, 54.46, 54.35, 54.18, 54.17, 54.11, 54.04, 53.87, 53.87, 53.79, 53.72, 53.71, 53.60, 53.58, 53.51, 53.33, 53.33, 53.30, 53.23, 53.02, 53.01, 52.95, 52.70, 52.55, 52.48, 52.46, 52.31, 52.30, 52.24, 52.01, 51.98, 51.83, 51.75, 51.71, 51.40, 51.30, 51.23, 51.20, 51.18, 51.15, 51.13, 51.09, 51.08, 50.88, 50.81, 50.67, 50.59, 50.22, 50.15, 50.15, 50.15, 49.98, 49.98, 49.81, 49.80, 49.74, 49.71, 49.59, 49.46, 49.40, 49.38, 49.36, 49.34, 49.31, 49.21, 49.15, 49.09, 49.08, 48.91, 48.78, 48.77, 48.65, 48.57, 48.31, 48.20, 48.00, 47.95, 47.65, 47.61, 47.31, 47.28, 47.22, 47.20, 47.07, 47.06, 46.92, 46.92, 46.72, 46.71, 46.68, 46.61, 46.60, 46.58, 46.57, 46.55, 46.50, 46.33, 46.30, 46.04, 46.01, 45.98, 45.87, 45.78, 45.77, 45.60, 45.57, 45.54, 45.31, 45.28, 45.06, 44.83, 44.80, 44.78, 44.78, 44.65, 44.57, 44.48, 44.35, 44.22, 44.19, 44.17, 44.16, 44.07, 43.91, 43.85, 43.77, 43.71, 43.59, 43.54, 43.49, 43.41, 43.41, 43.33, 43.19, 43.15, 43.00, 43.00, 42.93, 42.76, 42.58, 42.57, 42.57, 42.49, 42.41, 42.40, 42.31, 42.26, 42.22, 42.07, 42.05, 42.03, 41.96, 41.90, 41.85, 41.83, 41.81, 41.76, 41.23, 41.15, 41.10, 41.04, 41.01, 40.83, 40.72, 40.59, 40.58, 40.47, 40.38, 40.18, 40.16, 40.13, 39.95, 39.91, 39.87, 39.76, 39.61, 39.53, 39.49, 39.39, 39.37, 39.37, 39.08, 38.94, 38.89, 38.81, 38.74, 38.65, 38.65, 38.65, 38.62, 38.62, 38.61, 38.47, 38.40, 38.37, 38.36, 37.91, 37.86, 37.83, 37.63, 37.48, 37.45, 37.32, 37.22, 37.02, 36.83, 36.83, 36.82, 36.70, 36.65, 36.56, 36.53, 36.43, 36.41, 36.31, 36.16, 35.96, 35.92, 35.91, 35.80, 35.76, 35.76, 35.75, 35.75, 35.69, 35.61, 35.59, 35.51, 35.46, 35.42, 35.41, 35.39, 35.37, 35.29, 35.22, 35.18, 35.13, 35.11, 35.10, 35.04, 35.00, 34.98, 34.98, 34.93, 34.93, 34.88, 34.85, 34.82, 34.77, 34.67, 34.65, 34.57, 34.45, 34.42, 34.35, 34.29, 34.10, 34.09, 34.09, 34.07, 34.00, 33.95, 33.86, 33.76, 33.71, 33.63, 33.57, 33.56, 33.51, 33.34, 33.32, 33.18, 33.17, 33.17, 33.17, 33.07, 33.01, 32.92, 32.77, 32.75, 32.73, 32.43, 32.32, 32.26, 32.25, 32.24, 32.23, 32.15, 32.14, 32.14, 32.12, 32.06, 32.04, 31.93, 31.92, 31.90, 31.85, 31.80, 31.79, 31.78, 31.77, 31.72, 31.49, 31.30, 31.25, 31.25, 31.22, 31.11, 31.09, 30.99, 30.98, 30.96, 30.87, 30.77, 30.74, 30.62, 30.55, 30.53, 30.51, 30.49, 30.41, 30.31, 30.29, 30.29, 30.24, 30.21, 30.18, 30.13, 30.02, 30.01, 29.84, 29.74, 29.55, 29.50, 29.48, 29.41, 29.37, 29.35, 29.29, 29.23, 29.21, 28.91, 28.90, 28.88, 28.84, 28.75, 28.71, 28.67, 28.66, 28.60, 28.50, 28.48, 28.40, 28.37, 28.37, 28.32, 28.30, 28.20, 28.17, 28.11, 28.08, 28.07, 27.99, 27.95, 27.92, 27.89, 27.87, 27.86, 27.74, 27.56, 27.51, 27.44, 27.42, 27.37, 27.33, 27.17, 27.15, 27.09, 27.07, 26.96, 26.91, 26.77, 26.77, 26.72, 26.70, 26.66, 26.64, 26.51, 26.49, 26.47, 26.40, 26.32, 26.30, 26.22, 26.07, 26.07, 26.04, 26.03, 25.95, 25.87, 25.78, 25.77, 25.74, 25.66, 25.64, 25.61, 25.61, 25.57, 25.47, 25.37, 25.33, 25.28, 25.24, 24.98, 24.88, 24.81, 24.79, 24.71, 24.63, 24.54, 24.51, 24.50, 24.47, 24.45, 24.42, 24.40, 24.40, 24.35, 24.32, 24.24, 24.19, 24.13, 24.05, 24.04, 24.00, 23.98, 23.95, 23.93, 23.76, 23.72, 23.72, 23.70, 23.63, 23.62, 23.61, 23.58, 23.57, 23.50, 23.47, 23.46, 23.44, 23.40, 23.28, 23.27, 23.15, 23.13, 23.12, 23.09, 23.03, 23.01, 23.00, 22.90, 22.87, 22.81, 22.77, 22.72, 22.65, 22.58, 22.40, 22.40, 22.37, 22.33, 22.22, 22.20, 22.16, 22.14, 22.07, 21.97, 21.95, 21.93, 21.93, 21.91, 21.91, 21.85, 21.83, 21.80, 21.80, 21.62, 21.58, 21.55, 21.35, 21.33, 21.32, 21.22, 21.22, 21.18, 21.08, 21.08, 21.03, 20.94, 20.88, 20.85, 20.80, 20.73, 20.68, 20.66, 20.56, 20.53, 20.52, 20.49, 20.38, 20.37, 20.36, 20.32, 20.31, 20.25, 20.21, 20.18, 20.18, 20.15, 20.14, 20.13, 20.11, 20.02, 19.95, 19.88, 19.83, 19.81, 19.72, 19.72, 19.71, 19.67, 19.65, 19.60, 19.58, 19.56, 19.42, 19.38, 19.36, 19.34, 19.24, 19.21, 19.15, 19.15, 19.09, 19.08, 19.06, 18.99, 18.95, 18.93, 18.93, 18.92, 18.88, 18.87, 18.85, 18.82, 18.80, 18.66, 18.63, 18.54, 18.49, 18.47, 18.39, 18.34, 18.31, 18.20, 18.20, 18.16, 18.15, 18.15, 18.14, 18.11, 18.07, 18.06, 18.05, 18.02, 17.99, 17.85, 17.85, 17.83, 17.83, 17.80, 17.79, 17.79, 17.71, 17.57, 17.53, 17.35, 17.33, 17.29, 17.26, 17.23, 17.20, 17.19, 17.17, 17.07, 17.06, 17.01, 16.99, 16.93, 16.89, 16.89, 16.85, 16.82, 16.81, 16.79, 16.78, 16.74, 16.74, 16.71, 16.67, 16.65, 16.65, 16.64, 16.59, 16.51, 16.50, 16.47, 16.45, 16.43, 16.34, 16.32, 16.31, 16.23, 16.20, 16.18, 16.18, 16.17, 16.15, 16.14, 16.14, 16.09, 16.06, 16.03, 16.00, 15.92, 15.89, 15.88, 15.86, 15.79, 15.72, 15.72, 15.71, 15.70, 15.67, 15.63, 15.61, 15.55, 15.54, 15.54, 15.51, 15.51, 15.49, 15.42, 15.39, 15.39, 15.36, 15.36, 15.32, 15.28, 15.14, 15.13, 15.04, 15.00, 14.99, 14.97, 14.96, 14.95, 14.89, 14.86, 14.84, 14.83, 14.79, 14.78, 14.75, 14.68, 14.67, 14.65, 14.61, 14.60, 14.60, 14.59, 14.58, 14.55, 14.53, 14.52, 14.50, 14.36, 14.35, 14.31, 14.28, 14.24, 14.23, 14.19, 14.15, 14.14, 14.00, 14.00, 13.88, 13.88, 13.79, 13.77, 13.75, 13.66, 13.64, 13.62, 13.61, 13.56, 13.53, 13.49, 13.46, 13.45, 13.43, 13.37, 13.31, 13.19, 13.17, 13.10, 13.09, 13.09, 13.08, 13.05, 12.97, 12.96, 12.89, 12.86, 12.78, 12.73, 12.66, 12.64, 12.64, 12.63, 12.48, 12.48, 12.43, 12.43, 12.33, 12.27, 12.25, 12.24, 12.04, 12.02, 12.00, 11.99, 11.96, 11.94, 11.93, 11.91, 11.88, 11.84, 11.79, 11.74, 11.69, 11.65, 11.61, 11.58, 11.56, 11.55, 11.48, 11.44, 11.43, 11.43, 11.38, 11.33, 11.29, 11.26, 11.15, 11.13, 10.97, 10.90, 10.85, 10.84, 10.81, 10.79, 10.78, 10.77, 10.75, 10.73, 10.71, 10.69, 10.60, 10.59, 10.58, 10.58, 10.49, 10.48, 10.46, 10.43, 10.42, 10.39, 10.32, 10.30, 10.24, 10.23, 10.22, 10.14, 10.10, 10.10, 10.03, 10.00, 9.97, 9.95, 9.94, 9.81, 9.77, 9.72, 9.71, 9.68, 9.68, 9.67, 9.64, 9.53, 9.51, 9.33, 9.32, 9.31, 9.30, 9.29, 9.15, 9.15, 9.07, 9.05, 8.90, 8.90, 8.83, 8.74, 8.73, 8.68, 8.63, 8.51, 8.51, 8.41, 8.41, 8.40, 8.38, 8.36, 8.33, 8.29, 8.18, 8.18, 8.13, 8.12, 8.10, 8.03, 7.99, 7.97, 7.92, 7.86, 7.85, 7.82, 7.77, 7.74, 7.63, 7.36, 7.31, 7.29, 7.29, 7.23, 7.22, 7.12, 7.10, 6.92, 6.90, 6.90, 6.90, 6.83, 6.73, 6.63, 6.62, 6.62, 6.55, 6.55, 6.34, 6.34, 6.25, 6.22, 6.21, 6.20, 6.13, 6.13, 6.11, 6.05, 5.93, 5.92, 5.85, 5.84, 5.79, 5.72, 5.70, 5.55, 5.55, 5.51, 5.45, 5.42, 5.36, 5.30, 5.30, 5.29, 5.21, 5.11, 5.06, 5.06, 5.04, 4.95, 4.91, 4.91, 4.90, 4.79, 4.77, 4.71, 4.64, 4.64, 4.62, 4.60, 4.48, 4.42, 4.33, 4.22, 4.20, 4.05, 4.04, 3.72, 3.67, 3.41, 3.40, 3.38, 3.31, 3.15, 3.14, 3.01, 2.99, 2.88, 2.73, 2.56, 2.38, 2.15, 2.14, 0.27, nan, nan, nan, nan, nan, nan, nan, nan, nan, nan, nan, nan, nan, nan, nan, nan, nan, nan, nan, nan, nan, nan, nan, nan, nan, nan, nan, nan, nan, nan, nan, nan, nan, nan, nan, nan, nan, nan]  units\n",
      "\n"
     ]
    },
    {
     "name": "stderr",
     "output_type": "stream",
     "text": [
      "/Users/joshuafass/anaconda/envs/py27/lib/python2.7/site-packages/msmbuilder/msm/core.py:310: RuntimeWarning: invalid value encountered in true_divide\n",
      "  lv[:, i] = lv[:, i] / np.sqrt(np.dot(lv[:, i], lv[:, i] / lv[:, 0]))\n",
      "/Users/joshuafass/anaconda/envs/py27/lib/python2.7/site-packages/msmbuilder/msm/core.py:310: RuntimeWarning: divide by zero encountered in true_divide\n",
      "  lv[:, i] = lv[:, i] / np.sqrt(np.dot(lv[:, i], lv[:, i] / lv[:, 0]))\n"
     ]
    }
   ],
   "source": [
    "mb_msm_src = msmbuilder.msm.MarkovStateModel(lag_time=lag_frames,\n",
    "                                             reversible_type='transpose',\n",
    "                                             #ergodic_cutoff=True,\n",
    "                                             ergodic_cutoff='off')\n",
    "mb_msm_src.fit(dtrajs_src)\n",
    "print(mb_msm_src.summarize())"
   ]
  },
  {
   "cell_type": "code",
   "execution_count": 112,
   "metadata": {
    "collapsed": false
   },
   "outputs": [
    {
     "data": {
      "text/plain": [
       "0.81234234152780616"
      ]
     },
     "execution_count": 112,
     "metadata": {},
     "output_type": "execute_result"
    }
   ],
   "source": [
    "np.trace(mb_msm_src.countsmat_)/np.sum(mb_msm_src.countsmat_)"
   ]
  },
  {
   "cell_type": "code",
   "execution_count": 113,
   "metadata": {
    "collapsed": false
   },
   "outputs": [
    {
     "data": {
      "text/plain": [
       "0.75740735339897425"
      ]
     },
     "execution_count": 113,
     "metadata": {},
     "output_type": "execute_result"
    }
   ],
   "source": [
    "np.trace(mb_msm_src.transmat_)/len(mb_msm_src.transmat_)"
   ]
  },
  {
   "cell_type": "code",
   "execution_count": 95,
   "metadata": {
    "collapsed": false
   },
   "outputs": [
    {
     "data": {
      "text/plain": [
       "nan"
      ]
     },
     "execution_count": 95,
     "metadata": {},
     "output_type": "execute_result"
    }
   ],
   "source": [
    "np.min(np.diag(mb_msm_src.transmat_))"
   ]
  },
  {
   "cell_type": "code",
   "execution_count": 96,
   "metadata": {
    "collapsed": false
   },
   "outputs": [
    {
     "data": {
      "text/plain": [
       "nan"
      ]
     },
     "execution_count": 96,
     "metadata": {},
     "output_type": "execute_result"
    }
   ],
   "source": [
    "np.max(np.diag(mb_msm_src.transmat_))"
   ]
  },
  {
   "cell_type": "code",
   "execution_count": 98,
   "metadata": {
    "collapsed": false
   },
   "outputs": [
    {
     "data": {
      "text/plain": [
       "[nan,\n",
       " 1.0,\n",
       " 0.97222222222222232,\n",
       " 0.95522388059701491,\n",
       " 0.86010362694300524,\n",
       " 0.84297520661157022,\n",
       " 0.82352941176470584,\n",
       " 0.82162162162162156,\n",
       " 0.80451127819548873,\n",
       " 0.79029462738301559,\n",
       " 0.78947368421052633,\n",
       " 0.78074866310160418,\n",
       " 0.77484787018255574,\n",
       " 0.7727272727272726,\n",
       " 0.75636363636363624,\n",
       " 0.73170731707317083,\n",
       " 0.73124999999999996,\n",
       " 0.7303370786516854,\n",
       " 0.7186147186147186,\n",
       " 0.70498084291187735,\n",
       " 0.68837209302325586,\n",
       " 0.66242038216560506,\n",
       " 0.66101694915254239,\n",
       " 0.64912280701754388,\n",
       " 0.64827586206896559,\n",
       " 0.62385321100917435,\n",
       " 0.59090909090909105,\n",
       " 0.58937198067632846,\n",
       " 0.58163265306122447,\n",
       " 0.57894736842105265,\n",
       " 0.56701030927835061,\n",
       " 0.56122448979591832,\n",
       " 0.55454545454545456,\n",
       " 0.54830287206266315,\n",
       " 0.54545454545454541,\n",
       " 0.54088050314465408,\n",
       " 0.54000000000000004,\n",
       " 0.53921568627450989,\n",
       " 0.53892215568862267,\n",
       " 0.53846153846153844,\n",
       " 0.53846153846153844,\n",
       " 0.51162790697674421,\n",
       " 0.50862068965517249,\n",
       " 0.48684210526315785,\n",
       " 0.48360655737704916,\n",
       " 0.47499999999999998,\n",
       " 0.4669603524229074,\n",
       " 0.4612068965517242,\n",
       " 0.44444444444444442,\n",
       " 0.43589743589743585,\n",
       " 0.40366972477064222,\n",
       " 0.40298507462686567,\n",
       " 0.40206185567010305,\n",
       " 0.40000000000000002,\n",
       " 0.39097744360902253,\n",
       " 0.389261744966443,\n",
       " 0.38500000000000001,\n",
       " 0.37333333333333329,\n",
       " 0.37037037037037035,\n",
       " 0.36529680365296807,\n",
       " 0.35483870967741937,\n",
       " 0.35000000000000003,\n",
       " 0.34999999999999998,\n",
       " 0.30357142857142855,\n",
       " 0.2950819672131148,\n",
       " 0.29508196721311475,\n",
       " 0.29347826086956519,\n",
       " 0.26415094339622641,\n",
       " 0.25995807127882598,\n",
       " 0.24590163934426232,\n",
       " 0.24528301886792456,\n",
       " 0.24324324324324323,\n",
       " 0.23076923076923075,\n",
       " 0.20754716981132082,\n",
       " 0.19148936170212766,\n",
       " 0.18604651162790695,\n",
       " 0.16,\n",
       " 0.13636363636363635,\n",
       " 0.11764705882352942,\n",
       " 0.097560975609756087,\n",
       " 0.093023255813953501,\n",
       " 0.090909090909090912,\n",
       " 0.083333333333333329,\n",
       " 0.060606060606060608,\n",
       " 0.051948051948051951,\n",
       " 0.04651162790697675,\n",
       " 0.025316455696202538,\n",
       " 0.0,\n",
       " 0.0,\n",
       " 0.0,\n",
       " 0.0,\n",
       " 0.0,\n",
       " 0.0,\n",
       " 0.0,\n",
       " 0.0,\n",
       " 0.0,\n",
       " 0.0,\n",
       " 0.0,\n",
       " 0.0,\n",
       " 0.0,\n",
       " 0.0,\n",
       " 0.0,\n",
       " 0.0,\n",
       " 0.0,\n",
       " 0.0,\n",
       " 0.0,\n",
       " 0.0,\n",
       " 0.0,\n",
       " 0.0,\n",
       " 0.0,\n",
       " 0.0,\n",
       " nan,\n",
       " 0.94532627865961205,\n",
       " 0.91866028708133962,\n",
       " 0.77978339350180492,\n",
       " 0.73170731707317083,\n",
       " nan,\n",
       " nan,\n",
       " 1.0,\n",
       " 0.96989966555183937,\n",
       " 0.94736842105263164,\n",
       " 0.94736842105263164,\n",
       " 0.90909090909090906,\n",
       " nan,\n",
       " 0.85454545454545461,\n",
       " nan,\n",
       " 0.98571428571428577,\n",
       " 0.96598639455782309,\n",
       " 0.94831460674157309,\n",
       " 0.94708994708994709,\n",
       " 0.92753623188405798,\n",
       " 0.92517006802721091,\n",
       " 0.89847715736040612,\n",
       " 0.89705882352941191,\n",
       " 0.89534883720930236,\n",
       " 0.8948453608247422,\n",
       " 0.89000000000000001,\n",
       " 0.88950276243093929,\n",
       " 0.88828337874659402,\n",
       " 0.88095238095238093,\n",
       " 0.87976539589442815,\n",
       " 0.87951807228915657,\n",
       " 0.87878787878787878,\n",
       " 0.8699551569506726,\n",
       " 0.86381322957198448,\n",
       " 0.8601398601398601,\n",
       " 0.85970149253731343,\n",
       " 0.85931558935361207,\n",
       " 0.85567010309278335,\n",
       " 0.84895833333333326,\n",
       " 0.84615384615384615,\n",
       " 0.83999999999999997,\n",
       " 0.8393782383419689,\n",
       " 0.83870967741935487,\n",
       " 0.83461538461538454,\n",
       " 0.83397683397683398,\n",
       " 0.83208955223880587,\n",
       " 0.83076923076923082,\n",
       " 0.82203389830508478,\n",
       " 0.82096069868995625,\n",
       " 0.80952380952380942,\n",
       " 0.79844961240310086,\n",
       " 0.79790026246719148,\n",
       " 0.79166666666666652,\n",
       " 0.79158699808795407,\n",
       " 0.78236914600550966,\n",
       " 0.78157503714710252,\n",
       " 0.78008298755186722,\n",
       " 0.77575757575757587,\n",
       " 0.77083333333333315,\n",
       " 0.76344086021505364,\n",
       " 0.75907590759075905,\n",
       " 0.75536480686695284,\n",
       " 0.7552182163187855,\n",
       " 0.75471698113207542,\n",
       " 0.75102040816326521,\n",
       " 0.74698795180722888,\n",
       " 0.74418604651162779,\n",
       " 0.74358974358974372,\n",
       " 0.74308300395256921,\n",
       " 0.73727933541017643,\n",
       " 0.72988505747126442,\n",
       " 0.72289156626506013,\n",
       " 0.72173913043478255,\n",
       " 0.7186858316221767,\n",
       " 0.71856287425149701,\n",
       " 0.70921985815602828,\n",
       " 0.70289855072463769,\n",
       " 0.70204081632653059,\n",
       " 0.69852941176470595,\n",
       " 0.68551236749116606,\n",
       " 0.68253968253968256,\n",
       " 0.67716535433070868,\n",
       " 0.66153846153846152,\n",
       " 0.64912280701754388,\n",
       " 0.61467889908256879,\n",
       " 0.60952380952380958,\n",
       " 0.59848484848484851,\n",
       " 0.58091286307053946,\n",
       " 0.57306590257879664,\n",
       " 0.53904282115869007,\n",
       " 0.50230414746543783,\n",
       " nan,\n",
       " 1.0,\n",
       " 1.0,\n",
       " 0.95522388059701491,\n",
       " 0.94890510948905116,\n",
       " 0.9455081001472756,\n",
       " 0.94339622641509435,\n",
       " nan,\n",
       " 1.0,\n",
       " 0.99290780141843971,\n",
       " 0.90756302521008403,\n",
       " 0.89895470383275267,\n",
       " 0.88256227758007111,\n",
       " 0.86842105263157898,\n",
       " nan,\n",
       " nan,\n",
       " 0.95973154362416102,\n",
       " 0.95522388059701491,\n",
       " nan,\n",
       " 0.96551724137931028,\n",
       " 0.93860845839017748,\n",
       " nan,\n",
       " 1.0,\n",
       " 0.9928057553956835,\n",
       " 0.99186991869918695,\n",
       " 0.98648648648648651,\n",
       " 0.97368421052631571,\n",
       " 0.97058823529411764,\n",
       " 0.96408839779005528,\n",
       " 0.96226415094339623,\n",
       " 0.96153846153846156,\n",
       " 0.95652173913043481,\n",
       " 0.9557713052858684,\n",
       " 0.9508196721311476,\n",
       " 0.94736842105263164,\n",
       " 0.94032023289665223,\n",
       " 0.9391304347826086,\n",
       " 0.93036211699164351,\n",
       " 0.92957746478873238,\n",
       " 0.92708333333333326,\n",
       " 0.92644757433489833,\n",
       " 0.92450879007238884,\n",
       " 0.92372881355932202,\n",
       " 0.92207792207792205,\n",
       " 0.92194674012855826,\n",
       " 0.92168674698795183,\n",
       " 0.91884057971014488,\n",
       " 0.91757387247278388,\n",
       " 0.91749174917491749,\n",
       " 0.91739130434782612,\n",
       " 0.91578947368421049,\n",
       " 0.9152542372881356,\n",
       " 0.91497975708502022,\n",
       " 0.91457286432160811,\n",
       " 0.91295116772823781,\n",
       " 0.91245791245791241,\n",
       " 0.9068627450980391,\n",
       " 0.90625,\n",
       " 0.90566037735849059,\n",
       " 0.90531177829099307,\n",
       " 0.90423162583518923,\n",
       " 0.90196078431372551,\n",
       " 0.90133333333333343,\n",
       " 0.90076335877862601,\n",
       " 0.90000000000000002,\n",
       " 0.8990825688073395,\n",
       " 0.89473684210526316,\n",
       " 0.89417989417989419,\n",
       " 0.89371980676328511,\n",
       " 0.89215686274509809,\n",
       " 0.89156626506024095,\n",
       " 0.88813559322033897,\n",
       " 0.88631090487238973,\n",
       " 0.88541666666666674,\n",
       " 0.88505747126436796,\n",
       " 0.88461538461538458,\n",
       " 0.88275862068965527,\n",
       " 0.88226059654631084,\n",
       " 0.88172043010752688,\n",
       " 0.88046647230320707,\n",
       " 0.87804878048780499,\n",
       " 0.87692307692307703,\n",
       " 0.87640449438202239,\n",
       " 0.87640449438202239,\n",
       " 0.87577639751552783,\n",
       " 0.87559808612440204,\n",
       " 0.875,\n",
       " 0.874751491053678,\n",
       " 0.87341772151898733,\n",
       " 0.87272727272727268,\n",
       " 0.87261146496815289,\n",
       " 0.87227414330218067,\n",
       " 0.8721174004192872,\n",
       " 0.87179487179487181,\n",
       " 0.87158469945355188,\n",
       " 0.87096774193548387,\n",
       " 0.86982248520710059,\n",
       " 0.86956521739130443,\n",
       " 0.86792452830188671,\n",
       " 0.86754966887417218,\n",
       " 0.86646884272997027,\n",
       " 0.86631016042780751,\n",
       " 0.86451612903225805,\n",
       " 0.86430678466076705,\n",
       " 0.86111111111111116,\n",
       " 0.86111111111111116,\n",
       " 0.85999999999999999,\n",
       " 0.8596237337192475,\n",
       " 0.85714285714285721,\n",
       " 0.85714285714285721,\n",
       " 0.8571428571428571,\n",
       " 0.85616438356164382,\n",
       " 0.85530546623794212,\n",
       " 0.85385500575373996,\n",
       " 0.8530465949820788,\n",
       " 0.8529411764705882,\n",
       " 0.85276073619631898,\n",
       " 0.85185185185185164,\n",
       " 0.85176470588235298,\n",
       " 0.85128205128205126,\n",
       " 0.85074626865671643,\n",
       " 0.85074626865671643,\n",
       " 0.85070422535211265,\n",
       " 0.84892086330935257,\n",
       " 0.84732824427480913,\n",
       " 0.84615384615384615,\n",
       " 0.84596577017114905,\n",
       " 0.84496124031007758,\n",
       " 0.84432717678100266,\n",
       " 0.8439306358381502,\n",
       " 0.84375,\n",
       " 0.84255319148936159,\n",
       " 0.84251968503937003,\n",
       " 0.8421052631578948,\n",
       " 0.84057971014492749,\n",
       " 0.83969465648854968,\n",
       " 0.8393782383419689,\n",
       " 0.83921568627450971,\n",
       " 0.83916083916083928,\n",
       " 0.83738317757009328,\n",
       " 0.83692307692307688,\n",
       " 0.83471074380165289,\n",
       " 0.83333333333333337,\n",
       " 0.83193277310924374,\n",
       " 0.83193277310924374,\n",
       " 0.83193277310924374,\n",
       " 0.831530139103555,\n",
       " 0.83098591549295775,\n",
       " 0.83050847457627119,\n",
       " 0.83050847457627119,\n",
       " 0.83044982698961933,\n",
       " 0.83044982698961933,\n",
       " 0.83018867924528306,\n",
       " 0.82891566265060235,\n",
       " 0.82847896440129454,\n",
       " 0.82835820895522383,\n",
       " 0.8282442748091603,\n",
       " 0.828125,\n",
       " 0.82758620689655171,\n",
       " 0.82758620689655171,\n",
       " 0.8271604938271605,\n",
       " 0.82608695652173914,\n",
       " 0.82580645161290323,\n",
       " 0.82432432432432423,\n",
       " 0.82421875,\n",
       " 0.82414698162729649,\n",
       " 0.82352941176470595,\n",
       " 0.82352941176470584,\n",
       " 0.82352941176470584,\n",
       " 0.82246376811594191,\n",
       " 0.82222222222222219,\n",
       " 0.82191780821917815,\n",
       " 0.82111436950146621,\n",
       " 0.82035928143712578,\n",
       " 0.8199233716475095,\n",
       " 0.8193832599118942,\n",
       " 0.81856540084388185,\n",
       " 0.81730769230769229,\n",
       " 0.81632653061224492,\n",
       " 0.81578947368421051,\n",
       " 0.81481481481481477,\n",
       " 0.81407035175879383,\n",
       " 0.81314878892733555,\n",
       " 0.81308411214953269,\n",
       " 0.81278538812785395,\n",
       " 0.81108312342569266,\n",
       " 0.80952380952380953,\n",
       " 0.80930232558139525,\n",
       " 0.80851063829787229,\n",
       " 0.80786026200873351,\n",
       " 0.80582524271844658,\n",
       " 0.80568720379146919,\n",
       " 0.80487804878048774,\n",
       " 0.80392156862745101,\n",
       " 0.80373831775700932,\n",
       " 0.80257510729613724,\n",
       " 0.80198019801980203,\n",
       " 0.80188679245283023,\n",
       " 0.80188679245283012,\n",
       " 0.80165289256198358,\n",
       " 0.80000000000000004,\n",
       " 0.80000000000000004,\n",
       " 0.80000000000000004,\n",
       " 0.80000000000000004,\n",
       " 0.80000000000000004,\n",
       " 0.80000000000000004,\n",
       " 0.799043062200957,\n",
       " 0.79797979797979801,\n",
       " 0.79797979797979801,\n",
       " 0.79797979797979801,\n",
       " 0.79746835443037967,\n",
       " 0.79661016949152541,\n",
       " 0.79611650485436891,\n",
       " 0.79545454545454541,\n",
       " 0.79536679536679533,\n",
       " 0.79535864978902948,\n",
       " 0.79329608938547491,\n",
       " 0.79323797139141727,\n",
       " 0.79318734793187351,\n",
       " 0.7927927927927928,\n",
       " 0.79274611398963735,\n",
       " 0.79177377892030854,\n",
       " 0.79166666666666663,\n",
       " 0.78987341772151898,\n",
       " 0.78865979381443307,\n",
       " 0.78838174273858919,\n",
       " 0.78723404255319152,\n",
       " 0.78700361010830333,\n",
       " 0.7850467289719627,\n",
       " 0.78504672897196259,\n",
       " 0.78494623655913975,\n",
       " 0.78494623655913975,\n",
       " 0.78472222222222221,\n",
       " 0.78409090909090906,\n",
       " 0.78354978354978355,\n",
       " 0.78350515463917525,\n",
       " 0.78350515463917525,\n",
       " 0.78260869565217395,\n",
       " 0.78247261345852892,\n",
       " 0.78212290502793302,\n",
       " 0.78172588832487311,\n",
       " 0.78115501519756836,\n",
       " 0.78036175710594302,\n",
       " 0.78021978021978022,\n",
       " 0.78021978021978022,\n",
       " 0.78014184397163122,\n",
       " 0.77984084880636595,\n",
       " 0.77894736842105272,\n",
       " 0.77777777777777779,\n",
       " 0.77777777777777779,\n",
       " 0.77777777777777779,\n",
       " 0.77777777777777779,\n",
       " 0.77750000000000008,\n",
       " 0.77659574468085102,\n",
       " 0.775609756097561,\n",
       " 0.77551020408163274,\n",
       " 0.7752808988764045,\n",
       " 0.7752808988764045,\n",
       " 0.7752808988764045,\n",
       " 0.7752808988764045,\n",
       " 0.77435897435897438,\n",
       " 0.77386934673366836,\n",
       " 0.77385159010600701,\n",
       " 0.77348066298342533,\n",
       " 0.77292576419213965,\n",
       " 0.7727272727272726,\n",
       " 0.77192982456140358,\n",
       " 0.77192982456140358,\n",
       " 0.77157360406091369,\n",
       " 0.7710280373831776,\n",
       " 0.77094972067039114,\n",
       " 0.77088948787061995,\n",
       " 0.76966292134831449,\n",
       " 0.76844783715012721,\n",
       " 0.76800000000000002,\n",
       " 0.76780185758513941,\n",
       " 0.76506024096385528,\n",
       " 0.76470588235294112,\n",
       " 0.76344086021505386,\n",
       " 0.76325088339222613,\n",
       " 0.76315789473684215,\n",
       " 0.76300578034682087,\n",
       " 0.76300578034682087,\n",
       " 0.76190476190476186,\n",
       " 0.7610993657505285,\n",
       " 0.76097560975609757,\n",
       " 0.76086956521739135,\n",
       " 0.76018099547511309,\n",
       " 0.75968992248062017,\n",
       " 0.75916230366492143,\n",
       " 0.7584269662921348,\n",
       " 0.75824175824175832,\n",
       " 0.75789473684210529,\n",
       " 0.75774134790528225,\n",
       " 0.75739644970414199,\n",
       " 0.75706214689265539,\n",
       " 0.7563805104408351,\n",
       " 0.75609756097560987,\n",
       " 0.75609756097560987,\n",
       " 0.75609756097560987,\n",
       " 0.754601226993865,\n",
       " 0.75449101796407192,\n",
       " 0.75428571428571423,\n",
       " 0.75294117647058822,\n",
       " 0.75294117647058822,\n",
       " 0.75294117647058822,\n",
       " 0.75195822454308092,\n",
       " 0.75090252707581229,\n",
       " 0.75,\n",
       " 0.75,\n",
       " 0.74943566591422117,\n",
       " 0.74897119341563789,\n",
       " 0.74712643678160906,\n",
       " 0.7470997679814384,\n",
       " 0.74698795180722888,\n",
       " 0.74626865671641784,\n",
       " 0.74509803921568629,\n",
       " 0.74358974358974361,\n",
       " 0.74358974358974361,\n",
       " 0.74336283185840701,\n",
       " 0.74248927038626611,\n",
       " 0.74242424242424232,\n",
       " 0.74153846153846159,\n",
       " 0.74117647058823533,\n",
       " 0.74074074074074081,\n",
       " 0.74074074074074081,\n",
       " 0.74074074074074081,\n",
       " 0.7407407407407407,\n",
       " 0.74050632911392411,\n",
       " 0.74025974025974028,\n",
       " 0.74025974025974028,\n",
       " 0.73863636363636354,\n",
       " 0.73717948717948723,\n",
       " 0.73684210526315796,\n",
       " 0.73684210526315785,\n",
       " 0.73684210526315785,\n",
       " 0.73548387096774193,\n",
       " 0.73429951690821238,\n",
       " 0.73333333333333328,\n",
       " 0.73333333333333328,\n",
       " 0.73053892215568861,\n",
       " 0.73015873015873023,\n",
       " 0.72972972972972971,\n",
       " 0.72932330827067671,\n",
       " 0.72800000000000009,\n",
       " 0.72727272727272729,\n",
       " 0.72727272727272729,\n",
       " 0.72602739726027399,\n",
       " 0.72573839662447259,\n",
       " 0.72425249169435202,\n",
       " 0.72333848531684686,\n",
       " 0.72307692307692306,\n",
       " 0.72222222222222221,\n",
       " 0.72222222222222221,\n",
       " 0.72173913043478266,\n",
       " 0.72077922077922085,\n",
       " 0.72043010752688164,\n",
       " 0.71999999999999997,\n",
       " 0.71830985915492951,\n",
       " 0.71830985915492951,\n",
       " 0.71830985915492951,\n",
       " 0.71672354948805461,\n",
       " 0.71621621621621623,\n",
       " 0.71615720524017468,\n",
       " 0.7142857142857143,\n",
       " 0.71355060034305318,\n",
       " 0.71339563862928346,\n",
       " 0.71282051282051284,\n",
       " 0.71278458844133108,\n",
       " 0.71264367816091967,\n",
       " 0.71232876712328763,\n",
       " 0.71204188481675401,\n",
       " 0.71014492753623193,\n",
       " 0.70967741935483863,\n",
       " 0.70921985815602839,\n",
       " 0.70904645476772621,\n",
       " 0.70873786407766981,\n",
       " 0.70748299319727892,\n",
       " 0.70689655172413779,\n",
       " 0.70666666666666667,\n",
       " 0.70662460567823338,\n",
       " 0.70652173913043481,\n",
       " 0.70588235294117652,\n",
       " 0.70542635658914732,\n",
       " 0.70531400966183577,\n",
       " 0.70526315789473681,\n",
       " 0.70454545454545447,\n",
       " 0.70370370370370372,\n",
       " 0.70370370370370372,\n",
       " 0.70355731225296447,\n",
       " 0.70344827586206893,\n",
       " 0.70319634703196343,\n",
       " 0.70270270270270274,\n",
       " 0.70149253731343286,\n",
       " 0.70149253731343286,\n",
       " 0.70138888888888895,\n",
       " 0.70129870129870131,\n",
       " 0.7012987012987012,\n",
       " 0.70078740157480324,\n",
       " 0.70072992700729919,\n",
       " 0.69902912621359226,\n",
       " 0.69852941176470595,\n",
       " 0.69780219780219777,\n",
       " 0.69709543568464727,\n",
       " 0.69565217391304357,\n",
       " 0.69398907103825125,\n",
       " 0.69387755102040816,\n",
       " 0.6924643584521385,\n",
       " 0.69230769230769229,\n",
       " 0.69230769230769229,\n",
       " 0.69117647058823528,\n",
       " 0.69109947643979064,\n",
       " 0.68992248062015504,\n",
       " 0.68946648426812585,\n",
       " 0.68918918918918914,\n",
       " 0.68844221105527637,\n",
       " 0.68831168831168832,\n",
       " 0.6878306878306879,\n",
       " 0.68769716088328081,\n",
       " 0.6875,\n",
       " 0.6875,\n",
       " 0.6875,\n",
       " 0.68690095846645371,\n",
       " 0.68571428571428572,\n",
       " 0.68571428571428561,\n",
       " 0.68503937007874016,\n",
       " 0.68493150684931503,\n",
       " 0.68462757527733742,\n",
       " 0.68461538461538463,\n",
       " 0.68437500000000007,\n",
       " 0.68276619099890212,\n",
       " 0.68253968253968256,\n",
       " 0.68148148148148147,\n",
       " 0.68098159509202449,\n",
       " 0.68000000000000005,\n",
       " 0.67871485943775101,\n",
       " 0.67741935483870974,\n",
       " 0.67741935483870963,\n",
       " 0.67724867724867721,\n",
       " 0.67664670658682646,\n",
       " 0.67647058823529416,\n",
       " 0.67543859649122817,\n",
       " 0.67492260061919518,\n",
       " 0.67491166077738529,\n",
       " 0.67469879518072295,\n",
       " 0.67460317460317465,\n",
       " 0.67407407407407405,\n",
       " 0.67346938775510212,\n",
       " 0.67346938775510212,\n",
       " 0.67264573991031384,\n",
       " 0.6717557251908397,\n",
       " 0.67148014440433212,\n",
       " 0.67142857142857149,\n",
       " 0.66935483870967749,\n",
       " 0.66666666666666674,\n",
       " 0.66666666666666674,\n",
       " 0.66666666666666663,\n",
       " 0.66666666666666663,\n",
       " 0.66666666666666663,\n",
       " 0.66666666666666663,\n",
       " 0.66666666666666663,\n",
       " 0.66666666666666663,\n",
       " 0.66666666666666652,\n",
       " 0.66455696202531656,\n",
       " 0.66442953020134232,\n",
       " 0.66428571428571437,\n",
       " 0.66399999999999992,\n",
       " 0.66386554621848748,\n",
       " 0.66382978723404262,\n",
       " 0.66115702479338845,\n",
       " 0.66112266112266116,\n",
       " 0.66108786610878667,\n",
       " 0.66101694915254239,\n",
       " 0.66037735849056611,\n",
       " 0.65671641791044777,\n",
       " 0.65599999999999992,\n",
       " 0.65546218487394958,\n",
       " 0.65517241379310354,\n",
       " 0.6534653465346536,\n",
       " 0.65240641711229941,\n",
       " 0.65236051502145931,\n",
       " 0.65217391304347827,\n",
       " 0.6518518518518519,\n",
       " 0.65174129353233834,\n",
       " 0.65100671140939603,\n",
       " 0.65040650406504064,\n",
       " 0.65000000000000002,\n",
       " 0.65000000000000002,\n",
       " 0.64919354838709686,\n",
       " 0.64912280701754388,\n",
       " 0.64634146341463417,\n",
       " 0.64601769911504414,\n",
       " 0.64480874316939885,\n",
       " 0.64367816091954022,\n",
       " 0.6428571428571429,\n",
       " 0.6428571428571429,\n",
       " 0.6428571428571429,\n",
       " 0.64285714285714279,\n",
       " 0.64285714285714279,\n",
       " 0.6412213740458016,\n",
       " 0.64102564102564108,\n",
       " 0.64102564102564097,\n",
       " 0.64065040650406502,\n",
       " 0.64000000000000001,\n",
       " 0.63963963963963966,\n",
       " 0.63849765258215962,\n",
       " 0.63809523809523816,\n",
       " 0.63783783783783787,\n",
       " 0.63745019920318724,\n",
       " 0.63709677419354838,\n",
       " 0.63698630136986301,\n",
       " 0.63636363636363635,\n",
       " 0.63636363636363635,\n",
       " 0.634920634920635,\n",
       " 0.6344827586206897,\n",
       " 0.63387978142076506,\n",
       " 0.63380281690140849,\n",
       " 0.63380281690140849,\n",
       " 0.63369963369963367,\n",
       " 0.63354037267080754,\n",
       " 0.63326653306613234,\n",
       " 0.63235294117647067,\n",
       " 0.63157894736842102,\n",
       " 0.63063063063063074,\n",
       " 0.63063063063063063,\n",
       " 0.63063063063063063,\n",
       " 0.63063063063063063,\n",
       " 0.63020833333333337,\n",
       " 0.62962962962962965,\n",
       " 0.62962962962962954,\n",
       " 0.62962962962962954,\n",
       " 0.62903225806451624,\n",
       " 0.62831858407079644,\n",
       " 0.6279863481228668,\n",
       " 0.62755102040816324,\n",
       " 0.62698412698412698,\n",
       " 0.62626262626262641,\n",
       " 0.62608695652173918,\n",
       " 0.62595419847328237,\n",
       " 0.62576687116564422,\n",
       " 0.62548262548262545,\n",
       " 0.625,\n",
       " 0.625,\n",
       " 0.625,\n",
       " 0.62411347517730498,\n",
       " 0.62311557788944716,\n",
       " 0.62307692307692308,\n",
       " 0.62264150943396235,\n",
       " 0.62264150943396224,\n",
       " 0.62264150943396224,\n",
       " 0.62264150943396224,\n",
       " 0.62264150943396224,\n",
       " 0.62264150943396224,\n",
       " 0.62177650429799414,\n",
       " 0.6216216216216216,\n",
       " 0.62105263157894741,\n",
       " 0.61971830985915499,\n",
       " 0.61946902654867253,\n",
       " 0.61920529801324498,\n",
       " 0.61864406779661008,\n",
       " 0.61788617886178865,\n",
       " 0.61788617886178854,\n",
       " 0.61682242990654201,\n",
       " 0.61654135338345861,\n",
       " 0.61538461538461542,\n",
       " 0.61538461538461542,\n",
       " 0.61538461538461542,\n",
       " 0.61538461538461542,\n",
       " 0.6146788990825689,\n",
       " 0.6146788990825689,\n",
       " 0.61467889908256879,\n",
       " 0.61349693251533743,\n",
       " 0.6132075471698113,\n",
       " 0.61284403669724763,\n",
       " 0.61224489795918369,\n",
       " 0.61194029850746268,\n",
       " 0.61165048543689315,\n",
       " 0.61165048543689315,\n",
       " 0.61157024793388437,\n",
       " 0.61120000000000008,\n",
       " 0.61111111111111116,\n",
       " 0.60992907801418439,\n",
       " 0.60952380952380958,\n",
       " 0.60909090909090913,\n",
       " 0.60905349794238695,\n",
       " 0.60869565217391308,\n",
       " 0.60843373493975905,\n",
       " 0.60808435852372578,\n",
       " 0.60784313725490202,\n",
       " 0.60784313725490202,\n",
       " 0.60784313725490191,\n",
       " 0.60747663551401876,\n",
       " 0.60747663551401876,\n",
       " 0.60714285714285721,\n",
       " 0.6071428571428571,\n",
       " 0.60629921259842512,\n",
       " 0.60616438356164382,\n",
       " 0.60521739130434782,\n",
       " 0.60465116279069753,\n",
       " 0.60444444444444445,\n",
       " 0.60377358490566035,\n",
       " 0.60335195530726249,\n",
       " 0.6028880866425993,\n",
       " 0.60273972602739745,\n",
       " 0.60264105642256893,\n",
       " 0.60227272727272729,\n",
       " 0.60207612456747406,\n",
       " 0.60204081632653061,\n",
       " 0.60194174757281549,\n",
       " 0.60162601626016265,\n",
       " 0.60162601626016254,\n",
       " 0.60150375939849632,\n",
       " 0.60044150110375283,\n",
       " 0.59999999999999998,\n",
       " 0.59999999999999998,\n",
       " 0.59615384615384626,\n",
       " 0.59615384615384615,\n",
       " 0.59595959595959602,\n",
       " 0.59595959595959602,\n",
       " 0.59595959595959591,\n",
       " 0.5955056179775281,\n",
       " 0.59541984732824416,\n",
       " 0.59482758620689646,\n",
       " 0.59405940594059392,\n",
       " 0.59398496240601506,\n",
       " 0.59330143540669866,\n",
       " 0.59304703476482623,\n",
       " 0.59183673469387754,\n",
       " 0.59183673469387754,\n",
       " 0.59047619047619049,\n",
       " 0.59030837004405279,\n",
       " 0.59000000000000008,\n",
       " 0.58888888888888902,\n",
       " 0.58638743455497389,\n",
       " 0.58628841607565019,\n",
       " 0.58620689655172409,\n",
       " 0.58536585365853666,\n",
       " 0.58503401360544216,\n",
       " 0.58461538461538454,\n",
       " 0.5843373493975903,\n",
       " 0.58399999999999996,\n",
       " 0.58333333333333337,\n",
       " 0.58333333333333337,\n",
       " 0.58208955223880599,\n",
       " 0.57999999999999996,\n",
       " 0.57999999999999996,\n",
       " 0.57978723404255317,\n",
       " 0.5795053003533569,\n",
       " 0.57943925233644866,\n",
       " 0.57894736842105265,\n",
       " 0.57894736842105265,\n",
       " 0.57861635220125784,\n",
       " 0.57843137254901966,\n",
       " 0.57777777777777772,\n",
       " 0.57758620689655171,\n",
       " 0.57754010695187163,\n",
       " 0.57692307692307698,\n",
       " 0.57657657657657657,\n",
       " 0.57615894039735105,\n",
       " 0.57608695652173914,\n",
       " 0.57600000000000007,\n",
       " 0.57591623036649209,\n",
       " 0.57446808510638303,\n",
       " 0.57446808510638303,\n",
       " 0.57446808510638303,\n",
       " 0.57446808510638303,\n",
       " 0.57435897435897432,\n",
       " 0.57377049180327866,\n",
       " 0.57324840764331209,\n",
       " 0.57258064516129037,\n",
       " 0.5722222222222223,\n",
       " 0.5722222222222223,\n",
       " 0.57186544342507639,\n",
       " 0.57142857142857151,\n",
       " 0.5706806282722513,\n",
       " 0.56862745098039214,\n",
       " 0.56842105263157894,\n",
       " 0.56701030927835061,\n",
       " 0.56701030927835061,\n",
       " 0.56701030927835061,\n",
       " 0.5663716814159292,\n",
       " 0.56521739130434789,\n",
       " 0.56521739130434789,\n",
       " 0.56521739130434778,\n",
       " 0.56382978723404253,\n",
       " 0.5636363636363636,\n",
       " 0.56216216216216219,\n",
       " 0.5617977528089888,\n",
       " 0.56164383561643827,\n",
       " 0.56140350877192979,\n",
       " 0.56043956043956045,\n",
       " 0.56043956043956045,\n",
       " 0.56000000000000005,\n",
       " 0.55882352941176472,\n",
       " 0.55862068965517242,\n",
       " 0.55789473684210522,\n",
       " 0.55648535564853552,\n",
       " 0.55633802816901412,\n",
       " 0.55629139072847689,\n",
       " 0.55629139072847678,\n",
       " 0.5558912386706949,\n",
       " 0.55555555555555558,\n",
       " 0.55555555555555558,\n",
       " 0.55555555555555558,\n",
       " 0.55555555555555558,\n",
       " 0.55555555555555558,\n",
       " 0.55555555555555558,\n",
       " 0.55555555555555558,\n",
       " 0.55555555555555558,\n",
       " 0.55474452554744524,\n",
       " 0.55434782608695654,\n",
       " 0.55434782608695654,\n",
       " 0.55405405405405406,\n",
       " 0.55399061032863839,\n",
       " 0.5536723163841808,\n",
       " 0.55319148936170226,\n",
       " 0.55102040816326525,\n",
       " 0.55102040816326525,\n",
       " 0.55089820359281438,\n",
       " 0.550561797752809,\n",
       " 0.550561797752809,\n",
       " 0.54961832061068694,\n",
       " 0.5494505494505495,\n",
       " 0.5490196078431373,\n",
       " 0.54736842105263162,\n",
       " 0.54545454545454541,\n",
       " 0.54545454545454541,\n",
       " 0.54545454545454541,\n",
       " 0.54545454545454541,\n",
       " 0.54545454545454541,\n",
       " 0.5446808510638298,\n",
       " 0.5434782608695653,\n",
       " 0.5434782608695653,\n",
       " 0.5434782608695653,\n",
       " 0.5434782608695653,\n",
       " 0.54304635761589404,\n",
       " 0.54304635761589404,\n",
       " 0.54229934924078094,\n",
       " 0.54022988505747138,\n",
       " 0.54008438818565407,\n",
       " 0.54000000000000004,\n",
       " 0.54000000000000004,\n",
       " 0.53968253968253965,\n",
       " 0.53956834532374109,\n",
       " 0.53956834532374098,\n",
       " 0.5393258426966292,\n",
       " 0.5387647831800263,\n",
       " 0.53846153846153855,\n",
       " 0.53846153846153844,\n",
       " 0.5377777777777778,\n",
       " 0.53773584905660388,\n",
       " 0.5376344086021505,\n",
       " 0.5376344086021505,\n",
       " 0.53658536585365846,\n",
       " 0.53508771929824561,\n",
       " 0.53488372093023262,\n",
       " 0.53488372093023251,\n",
       " 0.53488372093023251,\n",
       " 0.53488372093023251,\n",
       " 0.53488372093023251,\n",
       " 0.53488372093023251,\n",
       " 0.53488372093023251,\n",
       " 0.53488372093023251,\n",
       " 0.53465346534653468,\n",
       " 0.53456221198156695,\n",
       " 0.53289473684210531,\n",
       " 0.53191489361702127,\n",
       " 0.53164556962025311,\n",
       " 0.53097345132743357,\n",
       " 0.53061224489795922,\n",
       " 0.52941176470588236,\n",
       " 0.52941176470588236,\n",
       " 0.52941176470588236,\n",
       " 0.52941176470588236,\n",
       " 0.52820512820512822,\n",
       " 0.52713178294573648,\n",
       " 0.52694610778443107,\n",
       " 0.52459016393442615,\n",
       " 0.52442996742671011,\n",
       " 0.52419354838709686,\n",
       " 0.5241379310344827,\n",
       " 0.52380952380952384,\n",
       " 0.52380952380952384,\n",
       " 0.52380952380952384,\n",
       " 0.52380952380952384,\n",
       " 0.52380952380952384,\n",
       " 0.52336448598130836,\n",
       " 0.52252252252252251,\n",
       " 0.52173913043478259,\n",
       " 0.52173913043478259,\n",
       " 0.52127659574468088,\n",
       " 0.52112676056338025,\n",
       " 0.52100840336134457,\n",
       " 0.52071005917159774,\n",
       " 0.51851851851851849,\n",
       " 0.51776649746192904,\n",
       " 0.5168539325842697,\n",
       " 0.5161290322580645,\n",
       " ...]"
      ]
     },
     "execution_count": 98,
     "metadata": {},
     "output_type": "execute_result"
    }
   ],
   "source": [
    "sorted(np.diag(mb_msm_src.transmat_))[::-1]"
   ]
  },
  {
   "cell_type": "code",
   "execution_count": 87,
   "metadata": {
    "collapsed": false
   },
   "outputs": [
    {
     "data": {
      "image/png": "[encoded data removed]",
      "text/plain": [
       "<matplotlib.figure.Figure at 0x13e527710>"
      ]
     },
     "metadata": {},
     "output_type": "display_data"
    },
    {
     "data": {
      "image/png": "[encoded data removed]",
      "text/plain": [
       "<matplotlib.figure.Figure at 0x13e626590>"
      ]
     },
     "metadata": {},
     "output_type": "display_data"
    },
    {
     "data": {
      "image/png": "[encoded data removed]",
      "text/plain": [
       "<matplotlib.figure.Figure at 0x13e6a4c90>"
      ]
     },
     "metadata": {},
     "output_type": "display_data"
    },
    {
     "data": {
      "image/png": "[encoded data removed]",
      "text/plain": [
       "<matplotlib.figure.Figure at 0x141a7bb50>"
      ]
     },
     "metadata": {},
     "output_type": "display_data"
    },
    {
     "data": {
      "image/png": "[encoded data removed]",
      "text/plain": [
       "<matplotlib.figure.Figure at 0x13e794490>"
      ]
     },
     "metadata": {},
     "output_type": "display_data"
    },
    {
     "data": {
      "image/png": "[encoded data removed]",
      "text/plain": [
       "<matplotlib.figure.Figure at 0x13e8148d0>"
      ]
     },
     "metadata": {},
     "output_type": "display_data"
    },
    {
     "data": {
      "image/png": "[encoded data removed]",
      "text/plain": [
       "<matplotlib.figure.Figure at 0x13e8d3650>"
      ]
     },
     "metadata": {},
     "output_type": "display_data"
    }
   ],
   "source": [
    "for traj in raw_dtrajs_abl[::100]:\n",
    "    plt.figure()\n",
    "    plt.plot(traj,alpha=0.2)\n",
    "    plt.xlabel('Frame #')\n",
    "    plt.ylabel('Cluster ID')"
   ]
  },
  {
   "cell_type": "code",
   "execution_count": 82,
   "metadata": {
    "collapsed": false
   },
   "outputs": [
    {
     "data": {
      "text/plain": [
       "(679, 711)"
      ]
     },
     "execution_count": 82,
     "metadata": {},
     "output_type": "execute_result"
    }
   ],
   "source": [
    "len(raw_dtrajs_abl),len(raw_dtrajs_src)"
   ]
  },
  {
   "cell_type": "code",
   "execution_count": 119,
   "metadata": {
    "collapsed": false
   },
   "outputs": [
    {
     "name": "stdout",
     "output_type": "stream",
     "text": [
      "MSM contains 1861 strongly connected components above weight=2.00. Component 281 selected, with population 1.515782%\n",
      "Markov state model\n",
      "------------------\n",
      "Lag time         : 10\n",
      "Reversible type  : mle\n",
      "Ergodic cutoff   : 2.0\n",
      "Prior counts     : 0\n",
      "\n",
      "Number of states : 9\n",
      "Number of nonzero entries in counts matrix : 52 (64.1975308642%)\n",
      "Nonzero counts matrix entries:\n",
      "    Min.   : 0.1\n",
      "    1st Qu.: 0.3\n",
      "    Median : 1.2\n",
      "    Mean   : 6.0\n",
      "    3rd Qu.: 5.1\n",
      "    Max.   : 46.0\n",
      "\n",
      "Total transition counts :\n",
      "    314.1 counts\n",
      "Total transition counts / lag_time:\n",
      "    31.41 units\n",
      "Timescales:\n",
      "    [207.67, 121.90, 52.86, 37.52, 25.96, 24.14, 18.67, 14.73]  units\n",
      "\n"
     ]
    }
   ],
   "source": [
    "mb_msm_src = msmbuilder.msm.MarkovStateModel(lag_time=lag_frames,\n",
    "                                             #ergodic_cutoff=True,\n",
    "                                             ergodic_cutoff=ergodic_cutoff)\n",
    "mb_msm_src.fit(dtrajs_src)\n",
    "print(mb_msm_src.summarize())"
   ]
  },
  {
   "cell_type": "code",
   "execution_count": 58,
   "metadata": {
    "collapsed": true
   },
   "outputs": [],
   "source": [
    "def plot_relative_free_energies(stationary_distribution,model_name,top_k=50):\n",
    "   ''' Use stationary distribution to compute the relative\n",
    "   free energies of the top-k most stable states.\n",
    "\n",
    "   Parameters\n",
    "   ----------\n",
    "   stationary_distribution : array-like\n",
    "      vector of probabilities\n",
    "   model_name : string\n",
    "   top_k : int\n",
    "   '''\n",
    "   f_i = -np.log(sorted(stationary_distribution))[::-1];\n",
    "   f_i -= f_i.min();\n",
    "   plt.figure()\n",
    "   plt.plot(f_i[:top_k], '.')\n",
    "   plt.ylabel(r'Relative free energy ($k_B T \\ln \\pi_i$)')\n",
    "   plt.xlabel('State index ($i$)')\n",
    "   plt.title(model_name)"
   ]
  },
  {
   "cell_type": "code",
   "execution_count": 59,
   "metadata": {
    "collapsed": false
   },
   "outputs": [
    {
     "data": {
      "text/plain": [
       "<matplotlib.text.Text at 0x11a2b3bd0>"
      ]
     },
     "execution_count": 59,
     "metadata": {},
     "output_type": "execute_result"
    },
    {
     "data": {
      "image/png": "[encoded data removed]",
      "text/plain": [
       "<matplotlib.figure.Figure at 0x11a182210>"
      ]
     },
     "metadata": {},
     "output_type": "display_data"
    },
    {
     "data": {
      "image/png": "[encoded data removed]",
      "text/plain": [
       "<matplotlib.figure.Figure at 0x11a25a6d0>"
      ]
     },
     "metadata": {},
     "output_type": "display_data"
    }
   ],
   "source": [
    "k=1000\n",
    "convert_to_ns = lambda x:x/4.0\n",
    "\n",
    "def plot_its(msm,k):\n",
    "    plt.figure()\n",
    "    plt.plot(convert_to_ns(msm.timescales_[:k]),'.')\n",
    "    plt.xlabel('Eigenvalue index')\n",
    "    plt.ylabel('Implied timescale (ns)')\n",
    "\n",
    "\n",
    "plot_its(mb_msm_abl,k) # cut at 8\n",
    "plt.vlines(30,0,500)\n",
    "plt.title('abl')\n",
    "\n",
    "plot_its(mb_msm_src,k) # cut at 2?\n",
    "plt.vlines(2,0,500)\n",
    "plt.title('src')"
   ]
  },
  {
   "cell_type": "code",
   "execution_count": null,
   "metadata": {
    "collapsed": false
   },
   "outputs": [],
   "source": []
  },
  {
   "cell_type": "code",
   "execution_count": 60,
   "metadata": {
    "collapsed": false
   },
   "outputs": [
    {
     "data": {
      "text/plain": [
       "(808, 0)"
      ]
     },
     "execution_count": 60,
     "metadata": {},
     "output_type": "execute_result"
    }
   ],
   "source": [
    "# select number of macrostates by how many processes are slower than a threshold\n",
    "ns_threshold=100\n",
    "\n",
    "n_macro_abl=sum(convert_to_ns(mb_msm_abl.timescales_[:k])>ns_threshold)\n",
    "n_macro_src=sum(convert_to_ns(mb_msm_src.timescales_[:k])>ns_threshold)\n",
    "n_macro_abl,n_macro_src"
   ]
  },
  {
   "cell_type": "markdown",
   "metadata": {},
   "source": [
    "\"The free energy of metastable state $S_j$ is just $f_j = - ln \\sum_{i \\in S_j} \\pi_i$, where $\\pi_i$ is the microstate equilibrium probability\""
   ]
  },
  {
   "cell_type": "code",
   "execution_count": 61,
   "metadata": {
    "collapsed": false
   },
   "outputs": [
    {
     "ename": "KeyboardInterrupt",
     "evalue": "",
     "output_type": "error",
     "traceback": [
      "\u001b[0;31m---------------------------------------------------------------------------\u001b[0m",
      "\u001b[0;31mKeyboardInterrupt\u001b[0m                         Traceback (most recent call last)",
      "\u001b[0;32m<ipython-input-61-52701ce9ae3d>\u001b[0m in \u001b[0;36m<module>\u001b[0;34m()\u001b[0m\n\u001b[1;32m     26\u001b[0m \u001b[0;34m\u001b[0m\u001b[0m\n\u001b[1;32m     27\u001b[0m \u001b[0;34m\u001b[0m\u001b[0m\n\u001b[0;32m---> 28\u001b[0;31m \u001b[0mpcca_abl\u001b[0m\u001b[0;34m,\u001b[0m\u001b[0mmacrostate_free_energies\u001b[0m \u001b[0;34m=\u001b[0m \u001b[0mcoarse_grain_and_plot_energies\u001b[0m\u001b[0;34m(\u001b[0m\u001b[0mmb_msm_abl\u001b[0m\u001b[0;34m,\u001b[0m\u001b[0mn_macro_abl\u001b[0m\u001b[0;34m,\u001b[0m\u001b[0;34m'abl'\u001b[0m\u001b[0;34m)\u001b[0m\u001b[0;34m\u001b[0m\u001b[0m\n\u001b[0m\u001b[1;32m     29\u001b[0m \u001b[0mplt\u001b[0m\u001b[0;34m.\u001b[0m\u001b[0mfigure\u001b[0m\u001b[0;34m(\u001b[0m\u001b[0;34m)\u001b[0m\u001b[0;34m\u001b[0m\u001b[0m\n\u001b[1;32m     30\u001b[0m \u001b[0mpcca_src\u001b[0m\u001b[0;34m,\u001b[0m\u001b[0m_\u001b[0m \u001b[0;34m=\u001b[0m \u001b[0mcoarse_grain_and_plot_energies\u001b[0m\u001b[0;34m(\u001b[0m\u001b[0mmb_msm_src\u001b[0m\u001b[0;34m,\u001b[0m\u001b[0;36m10\u001b[0m\u001b[0;34m,\u001b[0m\u001b[0;34m'src'\u001b[0m\u001b[0;34m)\u001b[0m\u001b[0;34m\u001b[0m\u001b[0m\n",
      "\u001b[0;32m<ipython-input-61-52701ce9ae3d>\u001b[0m in \u001b[0;36mcoarse_grain_and_plot_energies\u001b[0;34m(msm_obj, n_macro, title, kt_threshold)\u001b[0m\n\u001b[1;32m      3\u001b[0m \u001b[0;34m\u001b[0m\u001b[0m\n\u001b[1;32m      4\u001b[0m \u001b[0;32mdef\u001b[0m \u001b[0mcoarse_grain_and_plot_energies\u001b[0m\u001b[0;34m(\u001b[0m\u001b[0mmsm_obj\u001b[0m\u001b[0;34m,\u001b[0m\u001b[0mn_macro\u001b[0m\u001b[0;34m,\u001b[0m\u001b[0mtitle\u001b[0m\u001b[0;34m,\u001b[0m\u001b[0mkt_threshold\u001b[0m\u001b[0;34m=\u001b[0m\u001b[0;36m6\u001b[0m\u001b[0;34m)\u001b[0m\u001b[0;34m:\u001b[0m\u001b[0;34m\u001b[0m\u001b[0m\n\u001b[0;32m----> 5\u001b[0;31m     \u001b[0mpcca\u001b[0m \u001b[0;34m=\u001b[0m \u001b[0mlumping\u001b[0m\u001b[0;34m.\u001b[0m\u001b[0mPCCAPlus\u001b[0m\u001b[0;34m.\u001b[0m\u001b[0mfrom_msm\u001b[0m\u001b[0;34m(\u001b[0m\u001b[0mmsm_obj\u001b[0m\u001b[0;34m,\u001b[0m \u001b[0mn_macrostates\u001b[0m\u001b[0;34m=\u001b[0m\u001b[0mn_macro\u001b[0m\u001b[0;34m)\u001b[0m\u001b[0;34m\u001b[0m\u001b[0m\n\u001b[0m\u001b[1;32m      6\u001b[0m     \u001b[0mn_micro\u001b[0m\u001b[0;34m=\u001b[0m\u001b[0mlen\u001b[0m\u001b[0;34m(\u001b[0m\u001b[0mpcca\u001b[0m\u001b[0;34m.\u001b[0m\u001b[0mmicrostate_mapping_\u001b[0m\u001b[0;34m)\u001b[0m\u001b[0;34m\u001b[0m\u001b[0m\n\u001b[1;32m      7\u001b[0m \u001b[0;34m\u001b[0m\u001b[0m\n",
      "\u001b[0;32m/Users/joshuafass/anaconda/envs/py27/lib/python2.7/site-packages/msmbuilder/lumping/pcca.pyc\u001b[0m in \u001b[0;36mfrom_msm\u001b[0;34m(cls, msm, n_macrostates)\u001b[0m\n\u001b[1;32m    130\u001b[0m         \u001b[0mlumper\u001b[0m\u001b[0;34m.\u001b[0m\u001b[0mn_states_\u001b[0m \u001b[0;34m=\u001b[0m \u001b[0mmsm\u001b[0m\u001b[0;34m.\u001b[0m\u001b[0mn_states_\u001b[0m\u001b[0;34m\u001b[0m\u001b[0m\n\u001b[1;32m    131\u001b[0m \u001b[0;34m\u001b[0m\u001b[0m\n\u001b[0;32m--> 132\u001b[0;31m         \u001b[0mlumper\u001b[0m\u001b[0;34m.\u001b[0m\u001b[0m_do_lumping\u001b[0m\u001b[0;34m(\u001b[0m\u001b[0;34m)\u001b[0m\u001b[0;34m\u001b[0m\u001b[0m\n\u001b[0m\u001b[1;32m    133\u001b[0m \u001b[0;34m\u001b[0m\u001b[0m\n\u001b[1;32m    134\u001b[0m         \u001b[0;32mreturn\u001b[0m \u001b[0mlumper\u001b[0m\u001b[0;34m\u001b[0m\u001b[0m\n",
      "\u001b[0;32m/Users/joshuafass/anaconda/envs/py27/lib/python2.7/site-packages/msmbuilder/lumping/pcca_plus.pyc\u001b[0m in \u001b[0;36m_do_lumping\u001b[0;34m(self)\u001b[0m\n\u001b[1;32m    123\u001b[0m         \"\"\"\n\u001b[1;32m    124\u001b[0m         \u001b[0mright_eigenvectors\u001b[0m \u001b[0;34m=\u001b[0m \u001b[0mself\u001b[0m\u001b[0;34m.\u001b[0m\u001b[0mright_eigenvectors_\u001b[0m\u001b[0;34m[\u001b[0m\u001b[0;34m:\u001b[0m\u001b[0;34m,\u001b[0m \u001b[0;34m:\u001b[0m\u001b[0mself\u001b[0m\u001b[0;34m.\u001b[0m\u001b[0mn_macrostates\u001b[0m\u001b[0;34m]\u001b[0m\u001b[0;34m\u001b[0m\u001b[0m\n\u001b[0;32m--> 125\u001b[0;31m         \u001b[0mindex\u001b[0m \u001b[0;34m=\u001b[0m \u001b[0mindex_search\u001b[0m\u001b[0;34m(\u001b[0m\u001b[0mright_eigenvectors\u001b[0m\u001b[0;34m)\u001b[0m\u001b[0;34m\u001b[0m\u001b[0m\n\u001b[0m\u001b[1;32m    126\u001b[0m \u001b[0;34m\u001b[0m\u001b[0m\n\u001b[1;32m    127\u001b[0m         \u001b[0;31m# compute transformation matrix A as initial guess for local\u001b[0m\u001b[0;34m\u001b[0m\u001b[0;34m\u001b[0m\u001b[0m\n",
      "\u001b[0;32m/Users/joshuafass/anaconda/envs/py27/lib/python2.7/site-packages/msmbuilder/lumping/pcca_plus.pyc\u001b[0m in \u001b[0;36mindex_search\u001b[0;34m(right_eigenvectors)\u001b[0m\n\u001b[1;32m    455\u001b[0m         \u001b[0mtemp\u001b[0m \u001b[0;34m=\u001b[0m \u001b[0mortho_sys\u001b[0m\u001b[0;34m[\u001b[0m\u001b[0mindex\u001b[0m\u001b[0;34m[\u001b[0m\u001b[0mj\u001b[0m \u001b[0;34m-\u001b[0m \u001b[0;36m1\u001b[0m\u001b[0;34m]\u001b[0m\u001b[0;34m]\u001b[0m\u001b[0;34m.\u001b[0m\u001b[0mcopy\u001b[0m\u001b[0;34m(\u001b[0m\u001b[0;34m)\u001b[0m\u001b[0;34m\u001b[0m\u001b[0m\n\u001b[1;32m    456\u001b[0m         \u001b[0;32mfor\u001b[0m \u001b[0ml\u001b[0m \u001b[0;32min\u001b[0m \u001b[0mrange\u001b[0m\u001b[0;34m(\u001b[0m\u001b[0mnum_micro\u001b[0m\u001b[0;34m)\u001b[0m\u001b[0;34m:\u001b[0m\u001b[0;34m\u001b[0m\u001b[0m\n\u001b[0;32m--> 457\u001b[0;31m             \u001b[0mortho_sys\u001b[0m\u001b[0;34m[\u001b[0m\u001b[0ml\u001b[0m\u001b[0;34m]\u001b[0m \u001b[0;34m-=\u001b[0m \u001b[0mtemp\u001b[0m \u001b[0;34m*\u001b[0m \u001b[0mdot\u001b[0m\u001b[0;34m(\u001b[0m\u001b[0mortho_sys\u001b[0m\u001b[0;34m[\u001b[0m\u001b[0ml\u001b[0m\u001b[0;34m]\u001b[0m\u001b[0;34m,\u001b[0m \u001b[0mtemp\u001b[0m\u001b[0;34m)\u001b[0m\u001b[0;34m\u001b[0m\u001b[0m\n\u001b[0m\u001b[1;32m    458\u001b[0m \u001b[0;34m\u001b[0m\u001b[0m\n\u001b[1;32m    459\u001b[0m         \u001b[0mdist_list\u001b[0m \u001b[0;34m=\u001b[0m \u001b[0mnp\u001b[0m\u001b[0;34m.\u001b[0m\u001b[0marray\u001b[0m\u001b[0;34m(\u001b[0m\u001b[0;34m[\u001b[0m\u001b[0mnorm\u001b[0m\u001b[0;34m(\u001b[0m\u001b[0mortho_sys\u001b[0m\u001b[0;34m[\u001b[0m\u001b[0ml\u001b[0m\u001b[0;34m]\u001b[0m\u001b[0;34m)\u001b[0m \u001b[0;32mfor\u001b[0m \u001b[0ml\u001b[0m \u001b[0;32min\u001b[0m \u001b[0mrange\u001b[0m\u001b[0;34m(\u001b[0m\u001b[0mnum_micro\u001b[0m\u001b[0;34m)\u001b[0m\u001b[0;34m]\u001b[0m\u001b[0;34m)\u001b[0m\u001b[0;34m\u001b[0m\u001b[0m\n",
      "\u001b[0;31mKeyboardInterrupt\u001b[0m: "
     ]
    }
   ],
   "source": [
    "# compute coarse-graining by PCCA+\n",
    "from msmbuilder import lumping\n",
    "\n",
    "def coarse_grain_and_plot_energies(msm_obj,n_macro,title,kt_threshold=6):\n",
    "    pcca = lumping.PCCAPlus.from_msm(msm_obj, n_macrostates=n_macro)\n",
    "    n_micro=len(pcca.microstate_mapping_)\n",
    "\n",
    "    # each element of this array is a list of microstate indices corresponding to macrostate indices\n",
    "    microstates_per_macrostate = np.array([np.arange(n_micro)[pcca.microstate_mapping_==i] for i in range(n_macro)])\n",
    "\n",
    "    # compute and sort relative macrostate free energies\n",
    "    macrostate_free_energies = np.array([-np.log(np.sum([msm_obj.populations_[i] for i in microstates])) for microstates in microstates_per_macrostate])\n",
    "    macrostate_free_energies -= macrostate_free_energies.min()\n",
    "    macrostate_free_energies = np.array(sorted(macrostate_free_energies))\n",
    "\n",
    "    # plot, with a threshold of 6kT\n",
    "    plt.plot(macrostate_free_energies,'.')\n",
    "    plt.xlabel('Macrostate index')\n",
    "    plt.ylabel(r'Relative free energy ($k_B T \\ln \\pi_i$)')\n",
    "    plt.title(title)\n",
    "    plt.hlines(kt_threshold,0,n_macro,linestyles='--')\n",
    "\n",
    "    print('# macrostates more metastable than {0}kB T: {1}'.format(kt_threshold,\n",
    "                                                                   sum(macrostate_free_energies<kt_threshold)))\n",
    "    return pcca,macrostate_free_energies\n",
    "\n",
    "\n",
    "pcca_abl,macrostate_free_energies = coarse_grain_and_plot_energies(mb_msm_abl,n_macro_abl,'abl')\n",
    "plt.figure()\n",
    "pcca_src,_ = coarse_grain_and_plot_energies(mb_msm_src,10,'src')"
   ]
  },
  {
   "cell_type": "code",
   "execution_count": null,
   "metadata": {
    "collapsed": true
   },
   "outputs": [],
   "source": []
  },
  {
   "cell_type": "code",
   "execution_count": 25,
   "metadata": {
    "collapsed": false
   },
   "outputs": [
    {
     "ename": "NameError",
     "evalue": "name 'microstates_per_macrostate' is not defined",
     "output_type": "error",
     "traceback": [
      "\u001b[0;31m---------------------------------------------------------------------------\u001b[0m",
      "\u001b[0;31mNameError\u001b[0m                                 Traceback (most recent call last)",
      "\u001b[0;32m<ipython-input-25-815c1e98f463>\u001b[0m in \u001b[0;36m<module>\u001b[0;34m()\u001b[0m\n\u001b[0;32m----> 1\u001b[0;31m \u001b[0mmacrostate_free_energies\u001b[0m \u001b[0;34m=\u001b[0m \u001b[0mnp\u001b[0m\u001b[0;34m.\u001b[0m\u001b[0marray\u001b[0m\u001b[0;34m(\u001b[0m\u001b[0;34m[\u001b[0m\u001b[0;34m-\u001b[0m\u001b[0mnp\u001b[0m\u001b[0;34m.\u001b[0m\u001b[0mlog\u001b[0m\u001b[0;34m(\u001b[0m\u001b[0mnp\u001b[0m\u001b[0;34m.\u001b[0m\u001b[0msum\u001b[0m\u001b[0;34m(\u001b[0m\u001b[0;34m[\u001b[0m\u001b[0mmsm_obj\u001b[0m\u001b[0;34m.\u001b[0m\u001b[0mpopulations_\u001b[0m\u001b[0;34m[\u001b[0m\u001b[0mi\u001b[0m\u001b[0;34m]\u001b[0m \u001b[0;32mfor\u001b[0m \u001b[0mi\u001b[0m \u001b[0;32min\u001b[0m \u001b[0mmicrostates\u001b[0m\u001b[0;34m]\u001b[0m\u001b[0;34m)\u001b[0m\u001b[0;34m)\u001b[0m \u001b[0;32mfor\u001b[0m \u001b[0mmicrostates\u001b[0m \u001b[0;32min\u001b[0m \u001b[0mmicrostates_per_macrostate\u001b[0m\u001b[0;34m]\u001b[0m\u001b[0;34m)\u001b[0m\u001b[0;34m\u001b[0m\u001b[0m\n\u001b[0m\u001b[1;32m      2\u001b[0m \u001b[0mmacrostate_free_energies\u001b[0m \u001b[0;34m-=\u001b[0m \u001b[0mmacrostate_free_energies\u001b[0m\u001b[0;34m.\u001b[0m\u001b[0mmin\u001b[0m\u001b[0;34m(\u001b[0m\u001b[0;34m)\u001b[0m\u001b[0;34m\u001b[0m\u001b[0m\n\u001b[1;32m      3\u001b[0m \u001b[0mmacrostate_free_energies\u001b[0m \u001b[0;34m=\u001b[0m \u001b[0mnp\u001b[0m\u001b[0;34m.\u001b[0m\u001b[0marray\u001b[0m\u001b[0;34m(\u001b[0m\u001b[0msorted\u001b[0m\u001b[0;34m(\u001b[0m\u001b[0mmacrostate_free_energies\u001b[0m\u001b[0;34m)\u001b[0m\u001b[0;34m)\u001b[0m\u001b[0;34m\u001b[0m\u001b[0m\n",
      "\u001b[0;31mNameError\u001b[0m: name 'microstates_per_macrostate' is not defined"
     ]
    }
   ],
   "source": [
    "macrostate_free_energies = np.array([-np.log(np.sum([msm_obj.populations_[i] for i in microstates])) for microstates in microstates_per_macrostate])\n",
    "macrostate_free_energies -= macrostate_free_energies.min()\n",
    "macrostate_free_energies = np.array(sorted(macrostate_free_energies))"
   ]
  },
  {
   "cell_type": "code",
   "execution_count": null,
   "metadata": {
    "collapsed": true
   },
   "outputs": [],
   "source": []
  },
  {
   "cell_type": "code",
   "execution_count": 26,
   "metadata": {
    "collapsed": false
   },
   "outputs": [
    {
     "name": "stderr",
     "output_type": "stream",
     "text": [
      "/Users/joshuafass/anaconda/envs/py27/lib/python2.7/site-packages/ipykernel/__main__.py:4: VisibleDeprecationWarning: boolean index did not match indexed array along dimension 0; dimension is 338 but corresponding boolean dimension is 25\n",
      "/Users/joshuafass/anaconda/envs/py27/lib/python2.7/site-packages/ipykernel/__main__.py:7: RuntimeWarning: divide by zero encountered in log\n"
     ]
    }
   ],
   "source": [
    "pcca = pcca_abl\n",
    "n_macro=31\n",
    "n_micro=338\n",
    "microstates_per_macrostate = np.array([np.arange(n_micro)[pcca.microstate_mapping_==i] for i in range(n_macro)])\n",
    "\n",
    "# compute and sort relative macrostate free energies\n",
    "macrostate_free_energies = np.array([-np.log(np.sum([mb_msm_abl.populations_[i] for i in microstates])) for microstates in microstates_per_macrostate])\n",
    "macrostate_free_energies -= macrostate_free_energies.min()"
   ]
  },
  {
   "cell_type": "code",
   "execution_count": 27,
   "metadata": {
    "collapsed": false
   },
   "outputs": [
    {
     "data": {
      "text/plain": [
       "array([7, 2, 7, 7, 3, 4, 0, 1, 5, 2, 3, 1, 7, 3, 6, 0, 2, 7, 6, 2, 7, 4, 2,\n",
       "       7, 3])"
      ]
     },
     "execution_count": 27,
     "metadata": {},
     "output_type": "execute_result"
    }
   ],
   "source": [
    "pcca_abl.microstate_mapping_"
   ]
  },
  {
   "cell_type": "code",
   "execution_count": 28,
   "metadata": {
    "collapsed": false
   },
   "outputs": [
    {
     "data": {
      "text/plain": [
       "array([ 3.98964864,  3.73446889,  3.60892136,  3.16694943,  2.37784129,\n",
       "        1.43659464,  0.82279479,  0.        ,         inf,         inf,\n",
       "               inf,         inf,         inf,         inf,         inf,\n",
       "               inf,         inf,         inf,         inf,         inf,\n",
       "               inf,         inf,         inf,         inf,         inf,\n",
       "               inf,         inf,         inf,         inf,         inf,\n",
       "               inf])"
      ]
     },
     "execution_count": 28,
     "metadata": {},
     "output_type": "execute_result"
    }
   ],
   "source": [
    "macrostate_free_energies"
   ]
  },
  {
   "cell_type": "code",
   "execution_count": null,
   "metadata": {
    "collapsed": true
   },
   "outputs": [],
   "source": []
  },
  {
   "cell_type": "code",
   "execution_count": 29,
   "metadata": {
    "collapsed": false
   },
   "outputs": [
    {
     "data": {
      "text/plain": [
       "(inf, 8)"
      ]
     },
     "execution_count": 29,
     "metadata": {},
     "output_type": "execute_result"
    }
   ],
   "source": [
    "macrostate_free_energies.max(),np.argmax(macrostate_free_energies)"
   ]
  },
  {
   "cell_type": "code",
   "execution_count": 30,
   "metadata": {
    "collapsed": true
   },
   "outputs": [],
   "source": [
    "most_metastable_macrostate = np.argmax(macrostate_free_energies)\n",
    "microstate_indices_in_most_metastable_macrostate = microstates_per_macrostate[most_metastable_macrostate]"
   ]
  },
  {
   "cell_type": "code",
   "execution_count": 31,
   "metadata": {
    "collapsed": false
   },
   "outputs": [
    {
     "data": {
      "text/plain": [
       "array([], dtype=int64)"
      ]
     },
     "execution_count": 31,
     "metadata": {},
     "output_type": "execute_result"
    }
   ],
   "source": [
    "microstate_indices_in_most_metastable_macrostate"
   ]
  },
  {
   "cell_type": "code",
   "execution_count": 32,
   "metadata": {
    "collapsed": false
   },
   "outputs": [
    {
     "data": {
      "text/plain": [
       "{1: 0,\n",
       " 67: 1,\n",
       " 89: 2,\n",
       " 128: 3,\n",
       " 253: 4,\n",
       " 278: 5,\n",
       " 419: 6,\n",
       " 428: 7,\n",
       " 494: 8,\n",
       " 717: 9,\n",
       " 883: 10,\n",
       " 894: 11,\n",
       " 953: 12,\n",
       " 1028: 13,\n",
       " 1051: 14,\n",
       " 1284: 15,\n",
       " 1327: 16,\n",
       " 1378: 17,\n",
       " 1488: 18,\n",
       " 1566: 19,\n",
       " 1573: 20,\n",
       " 1771: 21,\n",
       " 1867: 22,\n",
       " 1905: 23,\n",
       " 1925: 24}"
      ]
     },
     "execution_count": 32,
     "metadata": {},
     "output_type": "execute_result"
    }
   ],
   "source": [
    "mb_msm_abl.mapping_"
   ]
  },
  {
   "cell_type": "code",
   "execution_count": 33,
   "metadata": {
    "collapsed": true
   },
   "outputs": [],
   "source": [
    "inv_map = {micro: cluster for cluster, micro in mb_msm_abl.mapping_.items()}"
   ]
  },
  {
   "cell_type": "code",
   "execution_count": 34,
   "metadata": {
    "collapsed": false
   },
   "outputs": [
    {
     "data": {
      "text/plain": [
       "[]"
      ]
     },
     "execution_count": 34,
     "metadata": {},
     "output_type": "execute_result"
    }
   ],
   "source": [
    "cluster_ids_in_metastable_state = [inv_map[i] for i in microstate_indices_in_most_metastable_macrostate]\n",
    "cluster_ids_in_metastable_state"
   ]
  },
  {
   "cell_type": "code",
   "execution_count": 35,
   "metadata": {
    "collapsed": false
   },
   "outputs": [
    {
     "ename": "NameError",
     "evalue": "name 'macrostate_ids' is not defined",
     "output_type": "error",
     "traceback": [
      "\u001b[0;31m---------------------------------------------------------------------------\u001b[0m",
      "\u001b[0;31mNameError\u001b[0m                                 Traceback (most recent call last)",
      "\u001b[0;32m<ipython-input-35-f9ee8ffc7ffd>\u001b[0m in \u001b[0;36m<module>\u001b[0;34m()\u001b[0m\n\u001b[1;32m      4\u001b[0m \u001b[0mmacrostate_ids_abl\u001b[0m \u001b[0;34m=\u001b[0m \u001b[0mnp\u001b[0m\u001b[0;34m.\u001b[0m\u001b[0mzeros\u001b[0m\u001b[0;34m(\u001b[0m\u001b[0;36m2000\u001b[0m\u001b[0;34m)\u001b[0m\u001b[0;34m-\u001b[0m\u001b[0;36m1\u001b[0m\u001b[0;34m\u001b[0m\u001b[0m\n\u001b[1;32m      5\u001b[0m \u001b[0;34m\u001b[0m\u001b[0m\n\u001b[0;32m----> 6\u001b[0;31m \u001b[0;32mfor\u001b[0m \u001b[0mi\u001b[0m \u001b[0;32min\u001b[0m \u001b[0mrange\u001b[0m\u001b[0;34m(\u001b[0m\u001b[0mlen\u001b[0m\u001b[0;34m(\u001b[0m\u001b[0mmacrostate_ids\u001b[0m\u001b[0;34m)\u001b[0m\u001b[0;34m)\u001b[0m\u001b[0;34m:\u001b[0m\u001b[0;34m\u001b[0m\u001b[0m\n\u001b[0m\u001b[1;32m      7\u001b[0m     \u001b[0mcluster_id\u001b[0m \u001b[0;34m=\u001b[0m \u001b[0mi\u001b[0m\u001b[0;34m\u001b[0m\u001b[0m\n\u001b[1;32m      8\u001b[0m     \u001b[0;32mif\u001b[0m \u001b[0mcluster_id\u001b[0m \u001b[0;32min\u001b[0m \u001b[0mmb_msm_abl\u001b[0m\u001b[0;34m.\u001b[0m\u001b[0mmapping_\u001b[0m\u001b[0;34m:\u001b[0m\u001b[0;34m\u001b[0m\u001b[0m\n",
      "\u001b[0;31mNameError\u001b[0m: name 'macrostate_ids' is not defined"
     ]
    }
   ],
   "source": [
    "# create a length-2000 array and save it, mapping each cluster_id to \n",
    "# its metastable state\n",
    "\n",
    "macrostate_ids_abl = np.zeros(2000)-1\n",
    "\n",
    "for i in range(len(macrostate_ids)):\n",
    "    cluster_id = i\n",
    "    if cluster_id in mb_msm_abl.mapping_:\n",
    "        microstate_id = mb_msm_abl.mapping_[cluster_id]\n",
    "        macrostate_id = pcca_abl.microstate_mapping_[microstate_id]\n",
    "        macrostate_ids_abl[cluster_id] = macrostate_id\n",
    "        \n",
    "np.save('macrostate_ids_abl.npy',macrostate_ids_abl)"
   ]
  },
  {
   "cell_type": "code",
   "execution_count": null,
   "metadata": {
    "collapsed": true
   },
   "outputs": [],
   "source": []
  },
  {
   "cell_type": "code",
   "execution_count": 36,
   "metadata": {
    "collapsed": false
   },
   "outputs": [
    {
     "ename": "NameError",
     "evalue": "name 'macrostate_ids' is not defined",
     "output_type": "error",
     "traceback": [
      "\u001b[0;31m---------------------------------------------------------------------------\u001b[0m",
      "\u001b[0;31mNameError\u001b[0m                                 Traceback (most recent call last)",
      "\u001b[0;32m<ipython-input-36-f6eb394d7e90>\u001b[0m in \u001b[0;36m<module>\u001b[0;34m()\u001b[0m\n\u001b[1;32m      1\u001b[0m \u001b[0mmacrostate_ids_src\u001b[0m \u001b[0;34m=\u001b[0m \u001b[0mnp\u001b[0m\u001b[0;34m.\u001b[0m\u001b[0mzeros\u001b[0m\u001b[0;34m(\u001b[0m\u001b[0;36m2000\u001b[0m\u001b[0;34m)\u001b[0m\u001b[0;34m-\u001b[0m\u001b[0;36m1\u001b[0m\u001b[0;34m\u001b[0m\u001b[0m\n\u001b[1;32m      2\u001b[0m \u001b[0;34m\u001b[0m\u001b[0m\n\u001b[0;32m----> 3\u001b[0;31m \u001b[0;32mfor\u001b[0m \u001b[0mi\u001b[0m \u001b[0;32min\u001b[0m \u001b[0mrange\u001b[0m\u001b[0;34m(\u001b[0m\u001b[0mlen\u001b[0m\u001b[0;34m(\u001b[0m\u001b[0mmacrostate_ids\u001b[0m\u001b[0;34m)\u001b[0m\u001b[0;34m)\u001b[0m\u001b[0;34m:\u001b[0m\u001b[0;34m\u001b[0m\u001b[0m\n\u001b[0m\u001b[1;32m      4\u001b[0m     \u001b[0mcluster_id\u001b[0m \u001b[0;34m=\u001b[0m \u001b[0mi\u001b[0m\u001b[0;34m\u001b[0m\u001b[0m\n\u001b[1;32m      5\u001b[0m     \u001b[0;32mif\u001b[0m \u001b[0mcluster_id\u001b[0m \u001b[0;32min\u001b[0m \u001b[0mmb_msm_src\u001b[0m\u001b[0;34m.\u001b[0m\u001b[0mmapping_\u001b[0m\u001b[0;34m:\u001b[0m\u001b[0;34m\u001b[0m\u001b[0m\n",
      "\u001b[0;31mNameError\u001b[0m: name 'macrostate_ids' is not defined"
     ]
    }
   ],
   "source": [
    "macrostate_ids_src = np.zeros(2000)-1\n",
    "\n",
    "for i in range(len(macrostate_ids)):\n",
    "    cluster_id = i\n",
    "    if cluster_id in mb_msm_src.mapping_:\n",
    "        microstate_id = mb_msm_src.mapping_[cluster_id]\n",
    "        macrostate_id = pcca_src.microstate_mapping_[microstate_id]\n",
    "        macrostate_ids_src[cluster_id] = macrostate_id\n",
    "        \n",
    "np.save('macrostate_ids_src.npy',macrostate_ids_src)"
   ]
  },
  {
   "cell_type": "code",
   "execution_count": 37,
   "metadata": {
    "collapsed": false
   },
   "outputs": [
    {
     "data": {
      "text/plain": [
       "(25,)"
      ]
     },
     "execution_count": 37,
     "metadata": {},
     "output_type": "execute_result"
    }
   ],
   "source": [
    "pcca_abl.populations_.shape"
   ]
  },
  {
   "cell_type": "code",
   "execution_count": 38,
   "metadata": {
    "collapsed": false
   },
   "outputs": [
    {
     "data": {
      "text/plain": [
       "array([7, 2, 7, 7, 3, 4, 0, 1, 5, 2, 3, 1, 7, 3, 6, 0, 2, 7, 6, 2, 7, 4, 2,\n",
       "       7, 3])"
      ]
     },
     "execution_count": 38,
     "metadata": {},
     "output_type": "execute_result"
    }
   ],
   "source": [
    "pcca_abl.microstate_mapping_"
   ]
  },
  {
   "cell_type": "code",
   "execution_count": 39,
   "metadata": {
    "collapsed": true
   },
   "outputs": [],
   "source": [
    "\n",
    "for macrostate in range(pcca_abl.n_macrostates):\n",
    "    pcca_abl.populations_"
   ]
  },
  {
   "cell_type": "code",
   "execution_count": 40,
   "metadata": {
    "collapsed": false
   },
   "outputs": [
    {
     "ename": "NameError",
     "evalue": "name 'macrostate_ids' is not defined",
     "output_type": "error",
     "traceback": [
      "\u001b[0;31m---------------------------------------------------------------------------\u001b[0m",
      "\u001b[0;31mNameError\u001b[0m                                 Traceback (most recent call last)",
      "\u001b[0;32m<ipython-input-40-9d1984b9f920>\u001b[0m in \u001b[0;36m<module>\u001b[0;34m()\u001b[0m\n\u001b[0;32m----> 1\u001b[0;31m \u001b[0mmacrostate_ids\u001b[0m\u001b[0;34m\u001b[0m\u001b[0m\n\u001b[0m",
      "\u001b[0;31mNameError\u001b[0m: name 'macrostate_ids' is not defined"
     ]
    }
   ],
   "source": [
    "macrostate_ids"
   ]
  },
  {
   "cell_type": "code",
   "execution_count": 41,
   "metadata": {
    "collapsed": true
   },
   "outputs": [],
   "source": [
    "# map "
   ]
  },
  {
   "cell_type": "code",
   "execution_count": 42,
   "metadata": {
    "collapsed": false
   },
   "outputs": [],
   "source": [
    "for i in cluster_ids_in_metastable_state:\n",
    "    print(1.0*np.sum(np.hstack(dtrajs_abl)==i)/len(np.hstack(dtrajs_abl)))"
   ]
  },
  {
   "cell_type": "code",
   "execution_count": 43,
   "metadata": {
    "collapsed": false
   },
   "outputs": [],
   "source": [
    "# get microstate populations\n",
    "\n",
    "populations_abl = np.zeros(2000)\n",
    "for i in mb_msm_abl.mapping_:\n",
    "    populations_abl[i] = mb_msm_abl.populations_[mb_msm_abl.mapping_[i]]\n",
    "\n",
    "# select most populous microstate within each macrostate\n",
    "n_macro = pcca_abl.n_macrostates\n",
    "exemplar_inds_abl = np.zeros(n_macro,dtype=int)\n",
    "for i in range(n_macro):\n",
    "    exemplar_inds_abl[i] = np.argmax(populations_abl*(macrostate_ids_abl==i))\n",
    "    \n",
    "    \n",
    "populations_src = np.zeros(2000)\n",
    "for i in mb_msm_src.mapping_:\n",
    "    populations_src[i] = mb_msm_src.populations_[mb_msm_src.mapping_[i]]\n",
    "\n",
    "# select most populous microstate within each macrostate\n",
    "n_macro = pcca_src.n_macrostates\n",
    "exemplar_inds_src = np.zeros(n_macro,dtype=int)\n",
    "for i in range(n_macro):\n",
    "    exemplar_inds_src[i] = np.argmax(populations_src*(macrostate_ids_src==i))"
   ]
  },
  {
   "cell_type": "code",
   "execution_count": 44,
   "metadata": {
    "collapsed": false
   },
   "outputs": [
    {
     "data": {
      "text/plain": [
       "array([0, 0, 0, 0, 0, 0, 0, 0, 0, 0])"
      ]
     },
     "execution_count": 44,
     "metadata": {},
     "output_type": "execute_result"
    }
   ],
   "source": [
    "exemplar_inds_src"
   ]
  },
  {
   "cell_type": "code",
   "execution_count": 45,
   "metadata": {
    "collapsed": true
   },
   "outputs": [],
   "source": [
    "np.save('exemplar_inds_abl.npy',exemplar_inds_abl)\n",
    "np.save('exemplar_inds_src.npy',exemplar_inds_src)"
   ]
  },
  {
   "cell_type": "code",
   "execution_count": 46,
   "metadata": {
    "collapsed": true
   },
   "outputs": [],
   "source": [
    "def cg_T(microstate_T,microstate_pi, cg_map):\n",
    "    ''' Coarse-grain a microstate transition matrix by applying cg_map\n",
    "    Parameters\n",
    "    ----------\n",
    "    microstate_T : (N,N), array-like, square\n",
    "       microstate transition matrix\n",
    "    microstate_pi : (N,), array-like\n",
    "       microstate stationary distribution\n",
    "    cg_map : array-like\n",
    "     assigns each microstate i to a macrostate cg_map[i]\n",
    "    Returns\n",
    "    -------\n",
    "    T : numpy.ndarray, square\n",
    "    '''\n",
    "\n",
    "    n_macrostates = np.max(cg_map)+1\n",
    "    n_microstates = len(microstate_T)\n",
    "\n",
    "    # compute macrostate stationary distribution\n",
    "    macrostate_pi = np.zeros(n_macrostates)\n",
    "    for i in range(n_microstates):\n",
    "        macrostate_pi[cg_map[i]] += microstate_pi[i]\n",
    "    macrostate_pi /= np.sum(macrostate_pi)\n",
    "    \n",
    "    # accumulate macrostate transition matrix\n",
    "    T = np.zeros((n_macrostates,n_macrostates))\n",
    "    for i in range(n_microstates):\n",
    "        for j in range(n_microstates):\n",
    "            T[cg_map[i],cg_map[j]] += microstate_pi[i] * microstate_T[i,j]\n",
    "    \n",
    "    # normalize\n",
    "    for a in range(n_macrostates):\n",
    "        T[a] /= macrostate_pi[a]\n",
    "     \n",
    "    return T"
   ]
  },
  {
   "cell_type": "code",
   "execution_count": 47,
   "metadata": {
    "collapsed": false
   },
   "outputs": [],
   "source": [
    "T = cg_T(mb_msm_abl.transmat_,mb_msm_abl.populations_,pcca_abl.microstate_mapping_)"
   ]
  },
  {
   "cell_type": "code",
   "execution_count": 48,
   "metadata": {
    "collapsed": false
   },
   "outputs": [
    {
     "data": {
      "text/plain": [
       "7.60737533514685"
      ]
     },
     "execution_count": 48,
     "metadata": {},
     "output_type": "execute_result"
    }
   ],
   "source": [
    "pcca_metastability = np.trace(T)\n",
    "pcca_metastability"
   ]
  },
  {
   "cell_type": "code",
   "execution_count": 49,
   "metadata": {
    "collapsed": false
   },
   "outputs": [
    {
     "data": {
      "text/plain": [
       "(0.95092191689335626, 8)"
      ]
     },
     "execution_count": 49,
     "metadata": {},
     "output_type": "execute_result"
    }
   ],
   "source": [
    "np.trace(T)/len(T),len(T)"
   ]
  },
  {
   "cell_type": "code",
   "execution_count": 50,
   "metadata": {
    "collapsed": false
   },
   "outputs": [
    {
     "data": {
      "text/plain": [
       "array([ 0.90102843,  0.9652539 ,  0.96484702,  0.95593442,  0.94146428,\n",
       "        0.96805112,  0.94158493,  0.96921124])"
      ]
     },
     "execution_count": 50,
     "metadata": {},
     "output_type": "execute_result"
    }
   ],
   "source": [
    "np.diag(T)"
   ]
  },
  {
   "cell_type": "code",
   "execution_count": 51,
   "metadata": {
    "collapsed": false
   },
   "outputs": [
    {
     "data": {
      "text/plain": [
       "<matplotlib.collections.LineCollection at 0x11a72d9d0>"
      ]
     },
     "execution_count": 51,
     "metadata": {},
     "output_type": "execute_result"
    },
    {
     "data": {
      "image/png": "[encoded data removed]",
      "text/plain": [
       "<matplotlib.figure.Figure at 0x11a72dad0>"
      ]
     },
     "metadata": {},
     "output_type": "display_data"
    }
   ],
   "source": [
    "lifetimes = 10/(1-np.diag(T))\n",
    "plt.plot(np.array(sorted(lifetimes)[::-1]),'.')\n",
    "plt.xlabel('Macrostate index')\n",
    "plt.ylabel(\"Macrostate lifetime (ns)\")\n",
    "plt.hlines(100,0,len(T))"
   ]
  },
  {
   "cell_type": "code",
   "execution_count": 52,
   "metadata": {
    "collapsed": false
   },
   "outputs": [
    {
     "ename": "ValueError",
     "evalue": "x and y must be the same size",
     "output_type": "error",
     "traceback": [
      "\u001b[0;31m---------------------------------------------------------------------------\u001b[0m",
      "\u001b[0;31mValueError\u001b[0m                                Traceback (most recent call last)",
      "\u001b[0;32m<ipython-input-52-158bb4be3e19>\u001b[0m in \u001b[0;36m<module>\u001b[0;34m()\u001b[0m\n\u001b[0;32m----> 1\u001b[0;31m \u001b[0mplt\u001b[0m\u001b[0;34m.\u001b[0m\u001b[0mscatter\u001b[0m\u001b[0;34m(\u001b[0m\u001b[0mlifetimes\u001b[0m\u001b[0;34m,\u001b[0m\u001b[0mmacrostate_free_energies\u001b[0m\u001b[0;34m)\u001b[0m\u001b[0;34m\u001b[0m\u001b[0m\n\u001b[0m\u001b[1;32m      2\u001b[0m \u001b[0mplt\u001b[0m\u001b[0;34m.\u001b[0m\u001b[0mxlabel\u001b[0m\u001b[0;34m(\u001b[0m\u001b[0;34m'lifetimes'\u001b[0m\u001b[0;34m)\u001b[0m\u001b[0;34m\u001b[0m\u001b[0m\n\u001b[1;32m      3\u001b[0m \u001b[0mplt\u001b[0m\u001b[0;34m.\u001b[0m\u001b[0mylabel\u001b[0m\u001b[0;34m(\u001b[0m\u001b[0;34m'free energies (relative, in kT)'\u001b[0m\u001b[0;34m)\u001b[0m\u001b[0;34m\u001b[0m\u001b[0m\n",
      "\u001b[0;32m/Users/joshuafass/anaconda/envs/py27/lib/python2.7/site-packages/matplotlib/pyplot.pyc\u001b[0m in \u001b[0;36mscatter\u001b[0;34m(x, y, s, c, marker, cmap, norm, vmin, vmax, alpha, linewidths, verts, edgecolors, hold, data, **kwargs)\u001b[0m\n\u001b[1;32m   3249\u001b[0m                          \u001b[0mvmin\u001b[0m\u001b[0;34m=\u001b[0m\u001b[0mvmin\u001b[0m\u001b[0;34m,\u001b[0m \u001b[0mvmax\u001b[0m\u001b[0;34m=\u001b[0m\u001b[0mvmax\u001b[0m\u001b[0;34m,\u001b[0m \u001b[0malpha\u001b[0m\u001b[0;34m=\u001b[0m\u001b[0malpha\u001b[0m\u001b[0;34m,\u001b[0m\u001b[0;34m\u001b[0m\u001b[0m\n\u001b[1;32m   3250\u001b[0m                          \u001b[0mlinewidths\u001b[0m\u001b[0;34m=\u001b[0m\u001b[0mlinewidths\u001b[0m\u001b[0;34m,\u001b[0m \u001b[0mverts\u001b[0m\u001b[0;34m=\u001b[0m\u001b[0mverts\u001b[0m\u001b[0;34m,\u001b[0m\u001b[0;34m\u001b[0m\u001b[0m\n\u001b[0;32m-> 3251\u001b[0;31m                          edgecolors=edgecolors, data=data, **kwargs)\n\u001b[0m\u001b[1;32m   3252\u001b[0m     \u001b[0;32mfinally\u001b[0m\u001b[0;34m:\u001b[0m\u001b[0;34m\u001b[0m\u001b[0m\n\u001b[1;32m   3253\u001b[0m         \u001b[0max\u001b[0m\u001b[0;34m.\u001b[0m\u001b[0mhold\u001b[0m\u001b[0;34m(\u001b[0m\u001b[0mwashold\u001b[0m\u001b[0;34m)\u001b[0m\u001b[0;34m\u001b[0m\u001b[0m\n",
      "\u001b[0;32m/Users/joshuafass/anaconda/envs/py27/lib/python2.7/site-packages/matplotlib/__init__.pyc\u001b[0m in \u001b[0;36minner\u001b[0;34m(ax, *args, **kwargs)\u001b[0m\n\u001b[1;32m   1810\u001b[0m                     warnings.warn(msg % (label_namer, func.__name__),\n\u001b[1;32m   1811\u001b[0m                                   RuntimeWarning, stacklevel=2)\n\u001b[0;32m-> 1812\u001b[0;31m             \u001b[0;32mreturn\u001b[0m \u001b[0mfunc\u001b[0m\u001b[0;34m(\u001b[0m\u001b[0max\u001b[0m\u001b[0;34m,\u001b[0m \u001b[0;34m*\u001b[0m\u001b[0margs\u001b[0m\u001b[0;34m,\u001b[0m \u001b[0;34m**\u001b[0m\u001b[0mkwargs\u001b[0m\u001b[0;34m)\u001b[0m\u001b[0;34m\u001b[0m\u001b[0m\n\u001b[0m\u001b[1;32m   1813\u001b[0m         \u001b[0mpre_doc\u001b[0m \u001b[0;34m=\u001b[0m \u001b[0minner\u001b[0m\u001b[0;34m.\u001b[0m\u001b[0m__doc__\u001b[0m\u001b[0;34m\u001b[0m\u001b[0m\n\u001b[1;32m   1814\u001b[0m         \u001b[0;32mif\u001b[0m \u001b[0mpre_doc\u001b[0m \u001b[0;32mis\u001b[0m \u001b[0mNone\u001b[0m\u001b[0;34m:\u001b[0m\u001b[0;34m\u001b[0m\u001b[0m\n",
      "\u001b[0;32m/Users/joshuafass/anaconda/envs/py27/lib/python2.7/site-packages/matplotlib/axes/_axes.pyc\u001b[0m in \u001b[0;36mscatter\u001b[0;34m(self, x, y, s, c, marker, cmap, norm, vmin, vmax, alpha, linewidths, verts, edgecolors, **kwargs)\u001b[0m\n\u001b[1;32m   3838\u001b[0m         \u001b[0my\u001b[0m \u001b[0;34m=\u001b[0m \u001b[0mnp\u001b[0m\u001b[0;34m.\u001b[0m\u001b[0mma\u001b[0m\u001b[0;34m.\u001b[0m\u001b[0mravel\u001b[0m\u001b[0;34m(\u001b[0m\u001b[0my\u001b[0m\u001b[0;34m)\u001b[0m\u001b[0;34m\u001b[0m\u001b[0m\n\u001b[1;32m   3839\u001b[0m         \u001b[0;32mif\u001b[0m \u001b[0mx\u001b[0m\u001b[0;34m.\u001b[0m\u001b[0msize\u001b[0m \u001b[0;34m!=\u001b[0m \u001b[0my\u001b[0m\u001b[0;34m.\u001b[0m\u001b[0msize\u001b[0m\u001b[0;34m:\u001b[0m\u001b[0;34m\u001b[0m\u001b[0m\n\u001b[0;32m-> 3840\u001b[0;31m             \u001b[0;32mraise\u001b[0m \u001b[0mValueError\u001b[0m\u001b[0;34m(\u001b[0m\u001b[0;34m\"x and y must be the same size\"\u001b[0m\u001b[0;34m)\u001b[0m\u001b[0;34m\u001b[0m\u001b[0m\n\u001b[0m\u001b[1;32m   3841\u001b[0m \u001b[0;34m\u001b[0m\u001b[0m\n\u001b[1;32m   3842\u001b[0m         \u001b[0ms\u001b[0m \u001b[0;34m=\u001b[0m \u001b[0mnp\u001b[0m\u001b[0;34m.\u001b[0m\u001b[0mma\u001b[0m\u001b[0;34m.\u001b[0m\u001b[0mravel\u001b[0m\u001b[0;34m(\u001b[0m\u001b[0ms\u001b[0m\u001b[0;34m)\u001b[0m  \u001b[0;31m# This doesn't have to match x, y in size.\u001b[0m\u001b[0;34m\u001b[0m\u001b[0m\n",
      "\u001b[0;31mValueError\u001b[0m: x and y must be the same size"
     ]
    },
    {
     "data": {
      "image/png": "[encoded data removed]",
      "text/plain": [
       "<matplotlib.figure.Figure at 0x11a72db10>"
      ]
     },
     "metadata": {},
     "output_type": "display_data"
    }
   ],
   "source": [
    "plt.scatter(lifetimes,macrostate_free_energies)\n",
    "plt.xlabel('lifetimes')\n",
    "plt.ylabel('free energies (relative, in kT)')"
   ]
  },
  {
   "cell_type": "code",
   "execution_count": null,
   "metadata": {
    "collapsed": false
   },
   "outputs": [],
   "source": [
    "import sys\n",
    "sys.path.append(\"../../automatic-state-decomposition/decompose-py/\")\n",
    "\n",
    "import lumping\n",
    "reload(lumping)\n",
    "\n"
   ]
  },
  {
   "cell_type": "code",
   "execution_count": null,
   "metadata": {
    "collapsed": false
   },
   "outputs": [],
   "source": [
    "cgs = []\n",
    "\n",
    "for i in range(5):\n",
    "    print(i)\n",
    "    cg = lumping.CoarseGrain(n_macro_abl,max_iter=100000)\n",
    "    cg.fit(mb_msm_abl.transmat_,mb_msm_abl.populations_,\n",
    "                       init_cg_map=pcca_abl.microstate_mapping_\n",
    "                      )\n",
    "    cgs.append(cg)"
   ]
  },
  {
   "cell_type": "code",
   "execution_count": null,
   "metadata": {
    "collapsed": false
   },
   "outputs": [],
   "source": [
    "for cg in cgs:\n",
    "    plt.plot(cg.optimization_trace,alpha=0.5)\n",
    "plt.xlabel('Optimization iteration')\n",
    "plt.ylabel('Metastability')\n",
    "plt.title('MCSA, randomly initialized')\n",
    "plt.ylim(0,1)\n",
    "plt.hlines(pcca_metastability,0,len(cgs[0].optimization_trace),linestyles='--')\n",
    "plt.xlim(0,len(cgs[0].optimization_trace))"
   ]
  },
  {
   "cell_type": "code",
   "execution_count": null,
   "metadata": {
    "collapsed": true
   },
   "outputs": [],
   "source": []
  },
  {
   "cell_type": "code",
   "execution_count": null,
   "metadata": {
    "collapsed": false
   },
   "outputs": [],
   "source": [
    "pcca_abl.n_macrostates"
   ]
  },
  {
   "cell_type": "code",
   "execution_count": null,
   "metadata": {
    "collapsed": false
   },
   "outputs": [],
   "source": [
    "cg = cgs[0]\n",
    "cg.solns[-1],pcca_abl.microstate_mapping_"
   ]
  },
  {
   "cell_type": "code",
   "execution_count": null,
   "metadata": {
    "collapsed": false
   },
   "outputs": [],
   "source": [
    "mcsa_microstate_mapping_ = cgs[3].solns[-1][0]"
   ]
  },
  {
   "cell_type": "code",
   "execution_count": null,
   "metadata": {
    "collapsed": false
   },
   "outputs": [],
   "source": []
  },
  {
   "cell_type": "code",
   "execution_count": null,
   "metadata": {
    "collapsed": true
   },
   "outputs": [],
   "source": [
    "# PCCA object instructs me to transform dtrajs into coarse-grained dtrajs and fit a new markov state model\n",
    "# to get coarse-grained transition matrix...\n",
    "def pcca_T(pcca_obj,dtrajs):\n",
    "    macrostate_dtrajs = []\n",
    "    for dtraj in dtrajs:\n",
    "        m_dtraj = np.zeros(len(dtraj),dtype=int)\n",
    "        for i in range(len(m_dtraj)):\n",
    "            m_dtraj[i] = pcca_obj.microstate_mapping_[pcca_obj.mapping_[dtraj[i]]]\n",
    "        macrostate_dtrajs.append(m_dtraj)\n",
    "    M = msmbuilder.msm.MarkovStateModel()\n",
    "    M.fit(macrostate_dtrajs)\n",
    "    T = M.transmat_\n",
    "    return T"
   ]
  },
  {
   "cell_type": "code",
   "execution_count": null,
   "metadata": {
    "collapsed": true
   },
   "outputs": [],
   "source": []
  },
  {
   "cell_type": "code",
   "execution_count": null,
   "metadata": {
    "collapsed": false,
    "scrolled": true
   },
   "outputs": [],
   "source": [
    "# but this yields errors, since some cluster IDs are not included due to ergodic trimming\n",
    "T = pcca_T(pcca_abl,dtrajs_abl)"
   ]
  },
  {
   "cell_type": "code",
   "execution_count": null,
   "metadata": {
    "collapsed": false
   },
   "outputs": [],
   "source": [
    "# re-do with MCSA outputs\n",
    "\n",
    "# create a length-2000 array and save it, mapping each cluster_id to \n",
    "# its metastable state\n",
    "\n",
    "def get_macrostate_ids(mapping):\n",
    "    macrostate_ids_abl = np.zeros(2000)-1\n",
    "\n",
    "    for i in range(len(macrostate_ids)):\n",
    "        cluster_id = i\n",
    "        if cluster_id in mb_msm_abl.mapping_:\n",
    "            microstate_id = mb_msm_abl.mapping_[cluster_id]\n",
    "            macrostate_id = mapping[microstate_id]\n",
    "            macrostate_ids_abl[cluster_id] = macrostate_id\n",
    "    return macrostate_ids_abl\n",
    "        \n",
    "mcsa_macrostate_ids_abl = get_macrostate_ids(mcsa_microstate_mapping_)\n",
    "np.save('mcsa_macrostate_ids_abl.npy',mcsa_macrostate_ids_abl)\n",
    "\n",
    "\n",
    "# select most populous microstate within each macrostate\n",
    "n_macro = pcca_abl.n_macrostates\n",
    "exemplar_inds_abl = np.zeros(n_macro,dtype=int)\n",
    "for i in range(n_macro):\n",
    "    exemplar_inds_abl[i] = np.argmax(populations_abl*(mcsa_macrostate_ids_abl==i))\n",
    "np.save('mcsa_exemplar_inds_abl.npy',exemplar_inds_abl)"
   ]
  },
  {
   "cell_type": "code",
   "execution_count": null,
   "metadata": {
    "collapsed": false
   },
   "outputs": [],
   "source": [
    "populations_abl.shape"
   ]
  },
  {
   "cell_type": "code",
   "execution_count": null,
   "metadata": {
    "collapsed": false
   },
   "outputs": [],
   "source": [
    "exemplar_inds_abl"
   ]
  },
  {
   "cell_type": "code",
   "execution_count": null,
   "metadata": {
    "collapsed": true
   },
   "outputs": [],
   "source": [
    "# compute and sort relative macrostate free energies\n",
    "msm_obj = mb_msm_abl\n",
    "\n",
    "# each element of this array is a list of microstate indices corresponding to macrostate indices\n",
    "microstates_per_macrostate = np.array([np.arange(n_micro)[mcsa_microstate_mapping_==i] for i in range(n_macro)])\n",
    "macrostate_free_energies = np.array([-np.log(np.sum([msm_obj.populations_[i] for i in microstates])) for microstates in microstates_per_macrostate])\n",
    "macrostate_free_energies -= macrostate_free_energies.min()"
   ]
  },
  {
   "cell_type": "code",
   "execution_count": null,
   "metadata": {
    "collapsed": false
   },
   "outputs": [],
   "source": [
    "macrostate_free_energies"
   ]
  },
  {
   "cell_type": "code",
   "execution_count": null,
   "metadata": {
    "collapsed": false
   },
   "outputs": [],
   "source": [
    "sorted_inds = np.array(sorted(np.arange(len(exemplar_inds_abl)),key=lambda i:macrostate_free_energies[i]))"
   ]
  },
  {
   "cell_type": "code",
   "execution_count": null,
   "metadata": {
    "collapsed": false
   },
   "outputs": [],
   "source": [
    "macrostate_free_energies[sorted_inds]"
   ]
  },
  {
   "cell_type": "code",
   "execution_count": null,
   "metadata": {
    "collapsed": false
   },
   "outputs": [],
   "source": [
    "exemplar_inds_abl[sorted_inds]"
   ]
  },
  {
   "cell_type": "code",
   "execution_count": null,
   "metadata": {
    "collapsed": true
   },
   "outputs": [],
   "source": []
  },
  {
   "cell_type": "code",
   "execution_count": null,
   "metadata": {
    "collapsed": false
   },
   "outputs": [],
   "source": [
    "zip([float('{0:.2f}'.format(x)) for x in macrostate_free_energies[sorted_inds]],exemplar_inds_abl[sorted_inds])"
   ]
  },
  {
   "cell_type": "code",
   "execution_count": null,
   "metadata": {
    "collapsed": true
   },
   "outputs": [],
   "source": [
    "free_energy_by_macrostate = []\n",
    "for i in range(len(exemplar_inds)):\n",
    "    \n",
    "    free_energy_by_macrostate.append()"
   ]
  },
  {
   "cell_type": "raw",
   "metadata": {},
   "source": [
    "# compute and sort relative macrostate free energies\n",
    "macrostate_free_energies = np.array([-np.log(np.sum([msm_obj.populations_[i] for i in microstates])) for microstates in microstates_per_macrostate])\n",
    "macrostate_free_energies -= macrostate_free_energies.min()"
   ]
  }
 ],
 "metadata": {
  "kernelspec": {
   "display_name": "Python 2",
   "language": "python",
   "name": "python2"
  },
  "language_info": {
   "codemirror_mode": {
    "name": "ipython",
    "version": 2
   },
   "file_extension": ".py",
   "mimetype": "text/x-python",
   "name": "python",
   "nbconvert_exporter": "python",
   "pygments_lexer": "ipython2",
   "version": "2.7.10"
  }
 },
 "nbformat": 4,
 "nbformat_minor": 0
}
